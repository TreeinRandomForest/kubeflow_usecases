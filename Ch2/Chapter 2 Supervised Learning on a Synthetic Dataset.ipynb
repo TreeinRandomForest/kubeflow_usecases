{
 "cells": [
  {
   "cell_type": "markdown",
   "metadata": {},
   "source": [
    "ESTIMATED TOTAL MEMORY USAGE: 2700 MB (but peaks will hit ~20 GB)"
   ]
  },
  {
   "cell_type": "code",
   "execution_count": 1,
   "metadata": {},
   "outputs": [],
   "source": [
    "%load_ext autoreload\n",
    "%autoreload 2\n",
    "%matplotlib inline"
   ]
  },
  {
   "cell_type": "code",
   "execution_count": 2,
   "metadata": {},
   "outputs": [],
   "source": [
    "import torch\n",
    "import torch.nn as nn\n",
    "import torch.optim as optim\n",
    "\n",
    "import matplotlib.pylab as plt\n",
    "import pandas as pd\n",
    "import numpy as np\n",
    "\n",
    "from sklearn.neural_network import MLPClassifier, MLPRegressor\n",
    "\n",
    "import copy"
   ]
  },
  {
   "cell_type": "code",
   "execution_count": 3,
   "metadata": {},
   "outputs": [
    {
     "name": "stdout",
     "output_type": "stream",
     "text": [
      "cuda:0\n"
     ]
    }
   ],
   "source": [
    "device = torch.device(\"cuda:0\" if torch.cuda.is_available() else \"cpu\")\n",
    "print(device)"
   ]
  },
  {
   "cell_type": "markdown",
   "metadata": {},
   "source": [
    "# Goals of this notebook\n",
    "\n",
    "We want to introduce the basics of neural networks and deep learning. Modern deep learning is a huge field and it's impossible to cover even all the significant developments in the last 5 years here. But the basics are straightforward.\n",
    "\n",
    "One big caveat: deep learning is a rapidly evolving field. There are new developments in neural network architectures, novel applications, better optimization techniques, theoretical results justifying why something works etc. daily. It's a great opportunity to get involved if you find research interesting and there are great online communities (pytorch, fast.ai, paperswithcode, pysyft) that you should get involved with.\n",
    "\n",
    "**Note**: Unlike the previous notebooks, this notebook has very few questions. You should study the code, tweak the data, the parameters, and poke the models to understand what's going on."
   ]
  },
  {
   "cell_type": "markdown",
   "metadata": {},
   "source": [
    "**Notes**: You can install extensions (google for nbextensions) with Jupyter notebooks. I tend to use resuse to display memory usage in the top right corner which really helps.\n",
    "\n",
    "To run a cell, press: \"Shift + Enter\"\n",
    "\n",
    "To add a cell before your current cell, press: \"Esc + a\"\n",
    "\n",
    "To add a cell after your current cell, press: \"Esc + b\"\n",
    "\n",
    "To delete a cell, press: \"Esc + x\"\n",
    "\n",
    "To be able to edit a cell, press: \"Enter\"\n",
    "\n",
    "To see more documentation about of a function, type ?function_name\n",
    "\n",
    "To see source code, type ??function_name\n",
    "\n",
    "To quickly see possible arguments for a function, type \"Shift + Tab\" after typing the function name.\n",
    "\n",
    "Esc and Enter take you into different modes. Press \"Esc + h\" to see all shortcuts."
   ]
  },
  {
   "cell_type": "markdown",
   "metadata": {},
   "source": [
    "## Synthetic/Artificial Datasets"
   ]
  },
  {
   "cell_type": "markdown",
   "metadata": {},
   "source": [
    "We covered the basics of neural networks in the lecture. We also saw applications to two synthetic datasets. The goal in this section is to replicate those results and get a feel for using pytorch."
   ]
  },
  {
   "cell_type": "markdown",
   "metadata": {},
   "source": [
    "### Classification"
   ]
  },
  {
   "cell_type": "code",
   "execution_count": null,
   "metadata": {},
   "outputs": [],
   "source": [
    "def generate_binary_data(N_examples=1000, seed=None):\n",
    "    if seed is not None:\n",
    "        np.random.seed(seed)\n",
    "\n",
    "    features = []\n",
    "    target = []\n",
    "\n",
    "    for i in range(N_examples):\n",
    "        #class = 0\n",
    "        r = np.random.uniform()\n",
    "        theta = np.random.uniform(0, 2*np.pi)\n",
    "\n",
    "        features.append([r*np.cos(theta), r*np.sin(theta)])\n",
    "        target.append(0)\n",
    "\n",
    "        #class = 1\n",
    "        r = 3 + np.random.uniform()\n",
    "        theta = np.random.uniform(0, 2*np.pi)\n",
    "\n",
    "        features.append([r*np.cos(theta), r*np.sin(theta)])\n",
    "        target.append(1)\n",
    "\n",
    "    features = np.array(features)\n",
    "    target = np.array(target)\n",
    "\n",
    "    return features, target    "
   ]
  },
  {
   "cell_type": "code",
   "execution_count": null,
   "metadata": {},
   "outputs": [],
   "source": [
    "features, target = generate_binary_data(seed=100)"
   ]
  },
  {
   "cell_type": "code",
   "execution_count": null,
   "metadata": {},
   "outputs": [],
   "source": [
    "def plot_binary_data(features, target):\n",
    "    plt.figure(figsize=(10,10))\n",
    "    plt.plot(features[target==0][:,0], features[target==0][:,1], 'p', color='r', label='0')\n",
    "    plt.plot(features[target==1][:,0], features[target==1][:,1], 'p', color='g', label='1')\n",
    "    \n",
    "    plt.xlabel('x')\n",
    "    plt.ylabel('y')\n",
    "    plt.legend()"
   ]
  },
  {
   "cell_type": "code",
   "execution_count": null,
   "metadata": {},
   "outputs": [],
   "source": [
    "plot_binary_data(features, target)"
   ]
  },
  {
   "cell_type": "markdown",
   "metadata": {},
   "source": [
    "We have two features here - x and y. There is a binary target variable that we need to predict. This is essentially the dataset from the logistic regression discussion. Logistic regression will not do well here given that the data is not linearly separable. Transforming the data so we have two features:\n",
    "\n",
    "$$r^2  = x^2 + y^2$$\n",
    "\n",
    "and\n",
    "\n",
    "$$\\theta = \\arctan(\\frac{y}{x})$$\n",
    "\n",
    "would make it very easy to use logistic regression (or just a cut at $r = 2$) to separate the two classes but while it is easy for us to visualize the data and guess at the transformation, in high dimensions, we can't follow the same process.\n",
    "\n",
    "Let's implement a feed-forward neural network that takes the two features as input and predicts the probabiliy of being in class 1 as output."
   ]
  },
  {
   "cell_type": "markdown",
   "metadata": {},
   "source": [
    "#### Architecture Definition"
   ]
  },
  {
   "cell_type": "code",
   "execution_count": null,
   "metadata": {},
   "outputs": [],
   "source": [
    "class ClassifierNet(nn.Module): #inherit from nn.Module to define your own architecture\n",
    "    def __init__(self, N_inputs, N_outputs, N_hidden_layers, N_hidden_nodes, activation, output_activation):\n",
    "        super(ClassifierNet, self).__init__()\n",
    "        \n",
    "        self.N_inputs = N_inputs #2 in our case\n",
    "        self.N_outputs = N_outputs #1 in our case but can be higher for multi-class classification\n",
    "        \n",
    "        self.N_hidden_layers = N_hidden_layers #we'll start by using one hidden layer\n",
    "        self.N_hidden_nodes = N_hidden_nodes #number of nodes in each hidden layer - can extend to passing a list\n",
    "        \n",
    "        #Define layers below - pytorch has a lot of layers pre-defined\n",
    "        \n",
    "        #use nn.ModuleList or nn.DictList instead of [] or {} - more explanations below\n",
    "        self.layer_list = nn.ModuleList([]) #use just as a python list\n",
    "        for n in range(N_hidden_layers):\n",
    "            if n==0:\n",
    "                self.layer_list.append(nn.Linear(N_inputs, N_hidden_nodes))\n",
    "            else:\n",
    "                self.layer_list.append(nn.Linear(N_hidden_nodes, N_hidden_nodes))\n",
    "        \n",
    "        self.output_layer = nn.Linear(N_hidden_nodes, N_outputs)\n",
    "        \n",
    "        self.activation = activation #activations at inner nodes\n",
    "        self.output_activation = output_activation #activation at last layer (depends on your problem)\n",
    "        \n",
    "    def forward(self, inp):\n",
    "        '''\n",
    "        every neural net in pytorch has its own forward function\n",
    "        this function defines how data flows through the architecture from input to output i.e. the forward propagation part\n",
    "        '''\n",
    "        \n",
    "        out = inp\n",
    "        for layer in self.layer_list:\n",
    "            out = layer(out) #calls forward function for each layer (already implemented for us)\n",
    "            out = self.activation(out) #non-linear activation\n",
    "            \n",
    "        #pass activations through last/output layer\n",
    "        out = self.output_layer(out)\n",
    "        if self.output_activation is not None:\n",
    "            pred = self.output_activation(out)\n",
    "        else:\n",
    "            pred = out\n",
    "        \n",
    "        return pred"
   ]
  },
  {
   "cell_type": "markdown",
   "metadata": {},
   "source": [
    "There are several ways of specifying a neural net architecture in pytorch. You can work at a high level of abstraction by just listing the layers that you want to getting into the fine details by constructing your own layers (as classes) that can be used in ClassifierNet above.\n",
    "\n",
    "How does pytorch work? When you define an architecture like the one above, pytorch constructs a graph (nodes and edges) where the nodes are operations on multi-indexed arrays (called tensors)."
   ]
  },
  {
   "cell_type": "code",
   "execution_count": null,
   "metadata": {},
   "outputs": [],
   "source": [
    "N_inputs = 2\n",
    "N_outputs = 1\n",
    "\n",
    "N_hidden_layers = 1\n",
    "N_hidden_nodes = 2\n",
    "\n",
    "activation = nn.Sigmoid()\n",
    "output_activation = nn.Sigmoid() #we want one probability between 0-1\n",
    "\n",
    "net = ClassifierNet(N_inputs,\n",
    "                    N_outputs,\n",
    "                    N_hidden_layers,\n",
    "                    N_hidden_nodes,\n",
    "                    activation,\n",
    "                    output_activation)"
   ]
  },
  {
   "cell_type": "markdown",
   "metadata": {},
   "source": [
    "#### Training"
   ]
  },
  {
   "cell_type": "markdown",
   "metadata": {},
   "source": [
    "**Loss function**\n",
    "\n",
    "We first need to pick our loss function. Like we binary classification problems (including logistic regression), we'll use binary cross-entropy:\n",
    "\n",
    "$$\\text{Loss, } L = -\\Sigma_{i=1}^{N} y_i \\log(p_i) + (1-y_i) \\log(1-p_i)$$\n",
    "\n",
    "where $y_i \\in {0,1}$ are the labels and $p_i \\in [0,1]$ are the probability predictions."
   ]
  },
  {
   "cell_type": "code",
   "execution_count": null,
   "metadata": {},
   "outputs": [],
   "source": [
    "#look at all available losses (you can always write your own)\n",
    "torch.nn.*Loss?"
   ]
  },
  {
   "cell_type": "code",
   "execution_count": null,
   "metadata": {},
   "outputs": [],
   "source": [
    "criterion = nn.BCELoss()"
   ]
  },
  {
   "cell_type": "code",
   "execution_count": null,
   "metadata": {},
   "outputs": [],
   "source": [
    "#get a feel for the loss function\n",
    "#target = 1 (label = 1)\n",
    "print(criterion(torch.tensor(1e-2), torch.tensor(1.))) #pred prob = 1e-2 -> BAD\n",
    "print(criterion(torch.tensor(0.3), torch.tensor(1.))) #pred prob = 0.3 -> BAd\n",
    "print(criterion(torch.tensor(0.5), torch.tensor(1.))) #pred prob = 0.5 -> Bad\n",
    "print(criterion(torch.tensor(1.), torch.tensor(1.))) #pred prob = 1.0 -> GREAT!"
   ]
  },
  {
   "cell_type": "markdown",
   "metadata": {},
   "source": [
    "**Optimizer**:\n",
    "\n",
    "So we have the data, the neural net architecture, a loss function to measure how well the model does on our task. We also need a way to do gradient descent.\n",
    "\n",
    "Recall, we use gradient descent to minimize the loss by computing the first derivative (gradients) and taking a step in the direction opposite (since we are minimizing) to the gradient:\n",
    "\n",
    "$$w_{t} \\rightarrow w_{t} - \\eta \\frac{\\partial L}{\\partial w_{t-1}}$$\n",
    "\n",
    "where $w_t$ = weight at time-step t, $L$ = loss, $\\eta$ = learning rate.\n",
    "\n",
    "For our neural network, we first need to calculate the gradients. Thankfully, this is done automatically by pytorch using a procedure called **backpropagation**. If you are interested in more calculations details, please check \"automatic differentiation\" and an analytical calculation for a feed-forward network (https://treeinrandomforest.github.io/deep-learning/2018/10/30/backpropagation.html).\n",
    "\n",
    "The gradients are calculated by calling a function **backward** on the network, as we'll see below.\n",
    "\n",
    "Once the gradients are calculated, we need to update the weights. In practice, there are many heuristics/variants of the update step above that lead to better optimization behavior. A great resource to dive into details is https://ruder.io/optimizing-gradient-descent/. We won't get into the details here.\n",
    "\n",
    "We'll choose what's called the **Adam** optimizer."
   ]
  },
  {
   "cell_type": "code",
   "execution_count": null,
   "metadata": {},
   "outputs": [],
   "source": [
    "optim.*?"
   ]
  },
  {
   "cell_type": "code",
   "execution_count": null,
   "metadata": {},
   "outputs": [],
   "source": [
    "optimizer = optim.Adam(net.parameters(), lr=1e-2)"
   ]
  },
  {
   "cell_type": "markdown",
   "metadata": {},
   "source": [
    "We picked a constant learning rate here (which is adjusted internally by Adam) and also passed all the tunable weights in the network by using: net.parameters()"
   ]
  },
  {
   "cell_type": "code",
   "execution_count": null,
   "metadata": {},
   "outputs": [],
   "source": [
    "list(net.parameters())"
   ]
  },
  {
   "cell_type": "markdown",
   "metadata": {},
   "source": [
    "There are 9 free parameters:\n",
    "\n",
    "* A 2x2 matrix (4 parameters) mapping the input layer to the 1 hidden layer.\n",
    "\n",
    "* A 2x1 matrix (2 parameters) mapping the hidden layer to the output layer with one node.\n",
    "\n",
    "* 2 biases for the 2 nodes in the hidden layer.\n",
    "\n",
    "* 1 bias for the output node in the output layer.\n",
    "\n",
    "\n",
    "This is a good place to explain why we need to use nn.ModuleList. If we had just used a vanilla python list, net.parameters() would only show weights that are explicitly defined in our net architecture. The weights and biases associated with the layers would NOT show up in net.parameters(). This process of a module higher up in the hierarchy (ClassifierNet) subsuming the weights and biases of modules lower in the hierarchy (layers) is called **registering**. ModuleList ensures that all the weights/biases are registered as weights and biases of ClassifierNet."
   ]
  },
  {
   "cell_type": "markdown",
   "metadata": {},
   "source": [
    "Let's combine all these elements and train our first neural net."
   ]
  },
  {
   "cell_type": "code",
   "execution_count": null,
   "metadata": {},
   "outputs": [],
   "source": [
    "#convert features and target to torch tensors\n",
    "features = torch.from_numpy(features)\n",
    "target = torch.from_numpy(target)"
   ]
  },
  {
   "cell_type": "code",
   "execution_count": null,
   "metadata": {},
   "outputs": [],
   "source": [
    "#if have gpu, throw the model, features and labels on it\n",
    "net = net.to(device)\n",
    "features = features.to(device).float()\n",
    "target = target.to(device).float()"
   ]
  },
  {
   "cell_type": "markdown",
   "metadata": {},
   "source": [
    "We need to do the following steps now:\n",
    "\n",
    "* Compute the gradients for our dataset.\n",
    "\n",
    "* Do gradient descent and update the weights.\n",
    "\n",
    "* Repeat till ??\n",
    "\n",
    "The problem is there's no way of knowing when we have converged or are close to the minimum of the loss function. In practice, this means we keep repeating the process above and monitor the loss as well as performance on a hold-out set. When we start over-fitting on the training set, we stop. There are various modifications to this procedure but this is the essence of what we are doing.\n",
    "\n",
    "Each pass through the whole dataset is called an **epoch**."
   ]
  },
  {
   "cell_type": "code",
   "execution_count": null,
   "metadata": {},
   "outputs": [],
   "source": [
    "N_epochs = 100\n",
    "for epoch in range(N_epochs):\n",
    "    out = net(features) #make predictions on the inputs\n",
    "    loss = criterion(out, target) #compute loss on our predictions\n",
    "    \n",
    "    optimizer.zero_grad() #set all gradients to 0\n",
    "    loss.backward() #backprop to compute gradients\n",
    "    optimizer.step() #update the weights\n",
    "    \n",
    "    if epoch % 10 == 0:\n",
    "        print(f'Loss = {loss:.4f}')"
   ]
  },
  {
   "cell_type": "markdown",
   "metadata": {},
   "source": [
    "Let's combined all these elements into a function"
   ]
  },
  {
   "cell_type": "code",
   "execution_count": null,
   "metadata": {},
   "outputs": [],
   "source": [
    "def train_model(features, target, model, lr, N_epochs, criterion=nn.BCELoss(), shuffle=False):\n",
    "    #criterion = nn.BCELoss() #binary cross-entropy loss as before\n",
    "    optimizer = torch.optim.Adam(model.parameters(), lr=lr) #Adam optimizer\n",
    "\n",
    "    #if have gpu, throw the model, features and labels on it\n",
    "    model = model.to(device)\n",
    "    features = features.to(device)\n",
    "    target = target.to(device)\n",
    "\n",
    "    for epoch in range(N_epochs):\n",
    "        if shuffle: #should have no effect on gradients in this case\n",
    "            indices = torch.randperm(len(features))\n",
    "\n",
    "            features_shuffled = features[indices]\n",
    "            target_shuffled = target[indices]\n",
    "        else:\n",
    "            features_shuffled = features\n",
    "            target_shuffled = target\n",
    "\n",
    "        out = model(features_shuffled)\n",
    "        #out = out.reshape(out.size(0))\n",
    "        loss = criterion(out, target_shuffled)\n",
    "\n",
    "        if epoch % 1000 == 0:\n",
    "            print(f'epoch = {epoch} loss = {loss}')\n",
    "        optimizer.zero_grad()\n",
    "        loss.backward()\n",
    "        optimizer.step()\n",
    "\n",
    "    pred = model(features_shuffled).reshape(len(target))\n",
    "    pred[pred>0.5] = 1\n",
    "    pred[pred<=0.5] = 0\n",
    "\n",
    "    #print(f'Accuracy = {accuracy}')\n",
    "        \n",
    "    model = model.to('cpu')\n",
    "    features = features.to('cpu')\n",
    "    target = target.to('cpu')\n",
    "\n",
    "    return model"
   ]
  },
  {
   "cell_type": "markdown",
   "metadata": {},
   "source": [
    "**Exercise**: Train the model and vary the number of hidden nodes and see what happens to the loss. Can you explain this behavior? "
   ]
  },
  {
   "cell_type": "code",
   "execution_count": null,
   "metadata": {},
   "outputs": [],
   "source": [
    "N_inputs = 2\n",
    "N_outputs = 1\n",
    "N_hidden_layers = 1\n",
    "N_hidden_nodes = 1 #<--- play with this\n",
    "activation = nn.Sigmoid()\n",
    "output_activation = nn.Sigmoid() #we want one probability between 0-1\n",
    "\n",
    "net = ClassifierNet(N_inputs,\n",
    "                    N_outputs,\n",
    "                    N_hidden_layers,\n",
    "                    N_hidden_nodes,\n",
    "                    activation,\n",
    "                    output_activation)\n",
    "\n",
    "net = train_model(features, target, net, 1e-3, 10000)"
   ]
  },
  {
   "cell_type": "code",
   "execution_count": null,
   "metadata": {},
   "outputs": [],
   "source": [
    "N_inputs = 2\n",
    "N_outputs = 1\n",
    "N_hidden_layers = 1\n",
    "N_hidden_nodes = 2 #<--- play with this\n",
    "activation = nn.Sigmoid()\n",
    "output_activation = nn.Sigmoid() #we want one probability between 0-1\n",
    "\n",
    "net = ClassifierNet(N_inputs,\n",
    "                    N_outputs,\n",
    "                    N_hidden_layers,\n",
    "                    N_hidden_nodes,\n",
    "                    activation,\n",
    "                    output_activation)\n",
    "\n",
    "net = train_model(features, target, net, 1e-3, 10000)"
   ]
  },
  {
   "cell_type": "code",
   "execution_count": null,
   "metadata": {},
   "outputs": [],
   "source": [
    "N_inputs = 2\n",
    "N_outputs = 1\n",
    "N_hidden_layers = 1\n",
    "N_hidden_nodes = 3 #<--- play with this\n",
    "activation = nn.Sigmoid()\n",
    "output_activation = nn.Sigmoid() #we want one probability between 0-1\n",
    "\n",
    "net = ClassifierNet(N_inputs,\n",
    "                    N_outputs,\n",
    "                    N_hidden_layers,\n",
    "                    N_hidden_nodes,\n",
    "                    activation,\n",
    "                    output_activation)\n",
    "\n",
    "net = train_model(features, target, net, 1e-3, 10000)"
   ]
  },
  {
   "cell_type": "markdown",
   "metadata": {},
   "source": [
    "There seems to be some \"magic\" behavior when we increase the number of nodes in the first (and only) hidden layer from 2 to 3. Loss suddenly goes down dramatically. At this stage, we should explore why that's happening.\n",
    "\n",
    "For every node in the hidden layer, we have a mapping from the input to that node:\n",
    "\n",
    "$$\\sigma(w_1 x + w_2 y + b)$$\n",
    "\n",
    "where $w_1, w_2, b$ are specific to that hidden node. We can plot the decision line in this case:\n",
    "\n",
    "$$w_1 x + w_2 y + b = 0$$\n",
    "\n",
    "Unlike logistic regression, this is not actually a decision line. Points on one side are not classified as 0 and points on the other side as 1 (if the threshold = 0.5). Instead this line should be thought of as one defining a new coordinate-system. Instead of x and y coordinates, every hidden node induces a straight line and a new coordinate, say $\\alpha_i$. So if we have 3 hidden nodes, we are mapping the 2-dimensional input space into a 3-dimensional space where the coordinates $\\alpha_1, \\alpha_2, \\alpha_3$ for each point depend on which side of the 3 lines induced as mentioned above, it lies."
   ]
  },
  {
   "cell_type": "code",
   "execution_count": null,
   "metadata": {},
   "outputs": [],
   "source": [
    "params = list(net.parameters())"
   ]
  },
  {
   "cell_type": "code",
   "execution_count": null,
   "metadata": {},
   "outputs": [],
   "source": [
    "print(params[0]) #3x2 matrix\n",
    "print(params[1]) #3 biases"
   ]
  },
  {
   "cell_type": "code",
   "execution_count": null,
   "metadata": {},
   "outputs": [],
   "source": [
    "features = features.detach().cpu().numpy() #detach from pytorch computational graph, bring back to cpu, convert to numpy\n",
    "target = target.detach().cpu().numpy()"
   ]
  },
  {
   "cell_type": "code",
   "execution_count": null,
   "metadata": {},
   "outputs": [],
   "source": [
    "fig = plt.figure(figsize=(10,10))\n",
    "\n",
    "ax = fig.add_subplot()\n",
    "\n",
    "#plot raw data\n",
    "ax.plot(features[target==0][:,0], features[target==0][:,1], 'p', color='r', label='0')\n",
    "ax.plot(features[target==1][:,0], features[target==1][:,1], 'p', color='g', label='1')\n",
    "\n",
    "plt.xlabel('x')\n",
    "plt.ylabel('y')\n",
    "\n",
    "#get weights and biases\n",
    "weights = params[0].detach().numpy()\n",
    "biases = params[1].detach().numpy()\n",
    "\n",
    "#plot straight lines\n",
    "x_min, x_max = features[:,0].min(), features[:,0].max()\n",
    "y_lim_min, y_lim_max = features[:,1].min(), features[:,1].max()\n",
    "for i in range(weights.shape[0]): #loop over each hidden node in the one hidden layer\n",
    "    coef = weights[i]\n",
    "    intercept = biases[i]\n",
    "    \n",
    "    y_min = (-intercept - coef[0]*x_min)/coef[1]\n",
    "    y_max = (-intercept - coef[0]*x_max)/coef[1]\n",
    "    \n",
    "    ax.plot([x_min, x_max], [y_min, y_max])\n",
    "\n",
    "ax.set_xlim(x_min, x_max)\n",
    "ax.set_ylim(y_lim_min, y_lim_max)\n",
    "ax.legend(framealpha=0)"
   ]
  },
  {
   "cell_type": "markdown",
   "metadata": {},
   "source": [
    "This is the plot we showed in the lecture. For every hidden node in the hidden layer, we have a straight line. The colors of the three lines above are orange, green and blue and that's what we'll call our new coordinates.\n",
    "\n",
    "Suppose you pick a point in the red region:\n",
    "\n",
    "* It lies to the *right* of the orange line\n",
    "\n",
    "* It lies to the *bottom* of the green line\n",
    "\n",
    "* It lies to the *top* of the blue line.\n",
    "\n",
    "(These directions might change because of inherent randomness during training - weight initializations here).\n",
    "\n",
    "On the other hand, we have **6** green regions. If you start walking clockwise from the top green section, every time you cross a straight line, you walk into a new region. Each time you walk into a new region, you flip the coordinate of one of the 3 lines. Either you go from *right* to *left* of the orange line, *bottom* to *top* of the green line or *top* to *bottom* of the blue line.\n",
    "\n",
    "So instead of describing each point by two coordinates (x, y), we can describe it by (orange status, green status, blue status). We happen to have 7 such regions here - with 1 being purely occupied by the red points and the other 7 by green points.\n",
    "\n",
    "This might be become cleared from a 3-dimensional plot."
   ]
  },
  {
   "cell_type": "code",
   "execution_count": null,
   "metadata": {},
   "outputs": [],
   "source": [
    "from mpl_toolkits.mplot3d import Axes3D"
   ]
  },
  {
   "cell_type": "code",
   "execution_count": null,
   "metadata": {},
   "outputs": [],
   "source": [
    "#get hidden layer activations for all inputs\n",
    "features_layer1_3d = net.activation(net.layer_list[0](torch.tensor(features))).detach().numpy()\n",
    "print(features_layer1_3d[0:10])"
   ]
  },
  {
   "cell_type": "code",
   "execution_count": null,
   "metadata": {},
   "outputs": [],
   "source": [
    "fig = plt.figure(figsize=(10,10))\n",
    "\n",
    "ax = fig.add_subplot(projection='3d')\n",
    "\n",
    "ax.plot(features_layer1_3d[target==0][:,0], features_layer1_3d[target==0][:,1], features_layer1_3d[target==0][:,2], 'p', color ='r', label='0')\n",
    "ax.plot(features_layer1_3d[target==1][:,0], features_layer1_3d[target==1][:,1], features_layer1_3d[target==1][:,2], 'p', color ='g', label='1')\n",
    "\n",
    "ax.legend(framealpha=0)"
   ]
  },
  {
   "cell_type": "markdown",
   "metadata": {},
   "source": [
    "At this stage, a simple linear classifier can draw a linear decision boundary (a plane) to separate the red points from the green points. Also, these points lie in the unit cube (cube with sides of length=1) since we are using sigmoid activations. Whenever the activations get saturated (close to 0 or 1), then we see points on the edges and corners of the cube."
   ]
  },
  {
   "cell_type": "markdown",
   "metadata": {},
   "source": [
    "**Question**: Switch the activation from sigmoid to relu (nn.ReLU()). Does the loss still essentially become zero on the train set? If not, try increasing N_hidden_nodes. At what point does the loss actually become close to 0?"
   ]
  },
  {
   "cell_type": "code",
   "execution_count": null,
   "metadata": {},
   "outputs": [],
   "source": [
    "N_inputs = 2\n",
    "N_outputs = 1\n",
    "N_hidden_layers = 1\n",
    "N_hidden_nodes = 5 #<---- play with this\n",
    "activation = nn.ReLU()\n",
    "output_activation = nn.Sigmoid() #we want one probability between 0-1\n",
    "\n",
    "net = ClassifierNet(N_inputs,\n",
    "                    N_outputs,\n",
    "                    N_hidden_layers,\n",
    "                    N_hidden_nodes,\n",
    "                    activation,\n",
    "                    output_activation)\n",
    "\n",
    "features = torch.tensor(features)\n",
    "target = torch.tensor(target)\n",
    "\n",
    "net = train_model(features, target, net, 1e-3, 10000)"
   ]
  },
  {
   "cell_type": "markdown",
   "metadata": {},
   "source": [
    "**Question**: Remake the 3d plot but by trying 3 coordinates out of the N_hidden_nodes coordinates you found above?"
   ]
  },
  {
   "cell_type": "code",
   "execution_count": null,
   "metadata": {},
   "outputs": [],
   "source": [
    "features = features.detach().cpu().numpy() #detach from pytorch computational graph, bring back to cpu, convert to numpy\n",
    "target = target.detach().cpu().numpy()"
   ]
  },
  {
   "cell_type": "code",
   "execution_count": null,
   "metadata": {},
   "outputs": [],
   "source": [
    "#get hidden layer activations for all inputs\n",
    "features_layer1_3d = net.activation(net.layer_list[0](torch.tensor(features))).detach().numpy()\n",
    "\n",
    "print(features_layer1_3d[0:10])\n",
    "\n",
    "fig = plt.figure(figsize=(10,10))\n",
    "\n",
    "ax = fig.add_subplot(projection='3d')\n",
    "\n",
    "COORD1 = 0\n",
    "COORD2 = 1\n",
    "COORD3 = 2\n",
    "\n",
    "ax.plot(features_layer1_3d[target==0][:,COORD1], features_layer1_3d[target==0][:,COORD2], features_layer1_3d[target==0][:,COORD3], 'p', color ='r', label='0')\n",
    "ax.plot(features_layer1_3d[target==1][:,COORD1], features_layer1_3d[target==1][:,COORD2], features_layer1_3d[target==1][:,COORD3], 'p', color ='g', label='1')\n",
    "\n",
    "ax.legend(framealpha=0)"
   ]
  },
  {
   "cell_type": "code",
   "execution_count": null,
   "metadata": {},
   "outputs": [],
   "source": [
    "fig = plt.figure(figsize=(10,10))\n",
    "\n",
    "ax = fig.add_subplot(projection='3d')\n",
    "\n",
    "COORD1 = 0\n",
    "COORD2 = 1\n",
    "COORD3 = 3\n",
    "\n",
    "ax.plot(features_layer1_3d[target==0][:,COORD1], features_layer1_3d[target==0][:,COORD2], features_layer1_3d[target==0][:,COORD3], 'p', color ='r', label='0')\n",
    "ax.plot(features_layer1_3d[target==1][:,COORD1], features_layer1_3d[target==1][:,COORD2], features_layer1_3d[target==1][:,COORD3], 'p', color ='g', label='1')\n",
    "\n",
    "ax.legend(framealpha=0)"
   ]
  },
  {
   "cell_type": "code",
   "execution_count": null,
   "metadata": {},
   "outputs": [],
   "source": [
    "fig = plt.figure(figsize=(10,10))\n",
    "\n",
    "ax = fig.add_subplot(projection='3d')\n",
    "\n",
    "COORD1 = 0\n",
    "COORD2 = 2\n",
    "COORD3 = 3\n",
    "\n",
    "ax.plot(features_layer1_3d[target==0][:,COORD1], features_layer1_3d[target==0][:,COORD2], features_layer1_3d[target==0][:,COORD3], 'p', color ='r', label='0')\n",
    "ax.plot(features_layer1_3d[target==1][:,COORD1], features_layer1_3d[target==1][:,COORD2], features_layer1_3d[target==1][:,COORD3], 'p', color ='g', label='1')\n",
    "\n",
    "ax.legend(framealpha=0)"
   ]
  },
  {
   "cell_type": "code",
   "execution_count": null,
   "metadata": {},
   "outputs": [],
   "source": [
    "fig = plt.figure(figsize=(10,10))\n",
    "\n",
    "ax = fig.add_subplot(projection='3d')\n",
    "\n",
    "COORD1 = 1\n",
    "COORD2 = 2\n",
    "COORD3 = 3\n",
    "\n",
    "ax.plot(features_layer1_3d[target==0][:,COORD1], features_layer1_3d[target==0][:,COORD2], features_layer1_3d[target==0][:,COORD3], 'p', color ='r', label='0')\n",
    "ax.plot(features_layer1_3d[target==1][:,COORD1], features_layer1_3d[target==1][:,COORD2], features_layer1_3d[target==1][:,COORD3], 'p', color ='g', label='1')\n",
    "\n",
    "ax.legend(framealpha=0)"
   ]
  },
  {
   "cell_type": "markdown",
   "metadata": {},
   "source": [
    "Draw all the plots"
   ]
  },
  {
   "cell_type": "code",
   "execution_count": null,
   "metadata": {
    "scrolled": false
   },
   "outputs": [],
   "source": [
    "import itertools\n",
    "\n",
    "for comb in itertools.combinations(np.arange(N_hidden_nodes), 3):\n",
    "    fig = plt.figure(figsize=(10,10))\n",
    "\n",
    "    ax = fig.add_subplot(projection='3d')\n",
    "\n",
    "    COORD1 = comb[0]\n",
    "    COORD2 = comb[1]\n",
    "    COORD3 = comb[2]\n",
    "\n",
    "    ax.plot(features_layer1_3d[target==0][:,COORD1], features_layer1_3d[target==0][:,COORD2], features_layer1_3d[target==0][:,COORD3], 'p', color ='r', label='0')\n",
    "    ax.plot(features_layer1_3d[target==1][:,COORD1], features_layer1_3d[target==1][:,COORD2], features_layer1_3d[target==1][:,COORD3], 'p', color ='g', label='1')\n",
    "\n",
    "    ax.legend(framealpha=0)\n",
    "    \n",
    "    plt.title(f'COORDINATES = {comb}')"
   ]
  },
  {
   "cell_type": "markdown",
   "metadata": {},
   "source": [
    "**Note**: Generally it is a good idea to use a linear layer for the output layer and use BCEWithLogitsLoss to avoid numerical instabilities. We will do this later for multi-class classification."
   ]
  },
  {
   "cell_type": "markdown",
   "metadata": {},
   "source": [
    "Clear variables"
   ]
  },
  {
   "cell_type": "code",
   "execution_count": null,
   "metadata": {},
   "outputs": [],
   "source": [
    "features = None\n",
    "features_layer1_3d = None\n",
    "target = None\n",
    "net = None"
   ]
  },
  {
   "cell_type": "markdown",
   "metadata": {},
   "source": [
    "### Regression"
   ]
  },
  {
   "cell_type": "code",
   "execution_count": null,
   "metadata": {},
   "outputs": [],
   "source": [
    "def generate_regression_data(L=10, stepsize=0.1):\n",
    "    x = np.arange(-L, L, stepsize)\n",
    "    y = np.sin(3*x) * np.exp(-x / 8.)\n",
    "\n",
    "    return x, y\n",
    "\n",
    "def plot_regression_data(x, y):\n",
    "    plt.figure(figsize=(10,10))\n",
    "    plt.plot(x, y)\n",
    "    \n",
    "    plt.xlabel('x')\n",
    "    plt.ylabel('y')"
   ]
  },
  {
   "cell_type": "code",
   "execution_count": null,
   "metadata": {},
   "outputs": [],
   "source": [
    "x, y = generate_regression_data()\n",
    "plot_regression_data(x, y)"
   ]
  },
  {
   "cell_type": "markdown",
   "metadata": {},
   "source": [
    "This is a pretty different problem in some ways. We now have one input - x and one output - y. But looked at another way, we simply change the number of inputs in our neural network to 1 and we change the output activation to be a linear function. Why linear? Because in principle, the output (y) can be unbounded i.e. any real value.\n",
    "\n",
    "We also need to change the loss function. While binary cross-entropy is appropriate for a classification problem, we need something else for a regression problem. We'll use mean-squared error:\n",
    "\n",
    "$$\\frac{1}{2}(y_{\\text{target}} - y_{\\text{pred}})^2$$"
   ]
  },
  {
   "cell_type": "markdown",
   "metadata": {},
   "source": [
    "Try modifying N_hidden_nodes from 1 through 10 and see what happens to the loss"
   ]
  },
  {
   "cell_type": "code",
   "execution_count": null,
   "metadata": {},
   "outputs": [],
   "source": [
    "N_inputs = 1\n",
    "N_outputs = 1\n",
    "N_hidden_layers = 1\n",
    "N_hidden_nodes = 10 #<--- play with this\n",
    "activation = nn.Sigmoid()\n",
    "output_activation = None #we want one probability between 0-1\n",
    "\n",
    "net = ClassifierNet(N_inputs,\n",
    "                    N_outputs,\n",
    "                    N_hidden_layers,\n",
    "                    N_hidden_nodes,\n",
    "                    activation,\n",
    "                    output_activation)\n",
    "\n",
    "features = torch.tensor(x).float().reshape(len(x), 1)\n",
    "target = torch.tensor(y).float().reshape(len(y), 1)"
   ]
  },
  {
   "cell_type": "code",
   "execution_count": null,
   "metadata": {},
   "outputs": [],
   "source": [
    "net = train_model(features, target, net, 1e-2, 20000, criterion=nn.MSELoss())"
   ]
  },
  {
   "cell_type": "code",
   "execution_count": null,
   "metadata": {},
   "outputs": [],
   "source": [
    "pred = net(features).cpu().detach().numpy().reshape(len(features))"
   ]
  },
  {
   "cell_type": "code",
   "execution_count": null,
   "metadata": {},
   "outputs": [],
   "source": [
    "plt.plot(x, y)\n",
    "plt.plot(x, pred)"
   ]
  },
  {
   "cell_type": "markdown",
   "metadata": {},
   "source": [
    "As before, we need to understand what the model is doing. As before, let's consider the mapping from the input node to one node of the hidden layer. In this case, we have the mapping:\n",
    "\n",
    "$$\\sigma(w_i x + b_i)$$\n",
    "\n",
    "where $w_i, b_i$ are the weight and bias associated with each node of the hidden layer. This defines a \"decision\" boundary where:\n",
    "\n",
    "$$w_i x + b_i = 0$$\n",
    "\n",
    "This is just a value $\\delta_{i} \\equiv -\\frac{b_i}{w_i}$. \n",
    "\n",
    "For each hidden node $i$, we can calculate one such threshold, $\\delta_i$.\n",
    "\n",
    "As we walk along the x-axis from the left to right, we will cross each threshold one by one. On crossing each threshold, one hidden node switches i.e. goes from $0 \\rightarrow 1$ or $1 \\rightarrow 0$. What effect does this have on the output or prediction?\n",
    "\n",
    "Since the last layer is linear, its output is:\n",
    "\n",
    "$y = v_1 h_1 + v_2 h_2 + \\ldots + v_n h_n + c$\n",
    "\n",
    "where $v_i$ are the weights from the hidden layer to the output node, $c$ is the bias on the output node, and $h_i$ are the activations on the hidden nodes. These activations can smoothly vary between 0 and 1 according to the sigmoid function.\n",
    "\n",
    "So, when we cross a threshold, one of the $h_j$ values eithers turns off or turns on. This has the effect of adding or subtracting constant $v_k$ values from the output if the kth hidden node, $h_k$ is switching on/off.\n",
    "\n",
    "This means that as we add more hidden nodes, we can divide the domain (the x values) into more fine-grained intervals that can be assigned a single value by the neural network. In practice, there is a smooth interpolation."
   ]
  },
  {
   "cell_type": "markdown",
   "metadata": {},
   "source": [
    "**Question**: Suppose instead of the sigmoid activations, we used a binary threshold:\n",
    "\n",
    "$$\\sigma(x) = \\begin{cases}\n",
    "1 & x > 0 \\\\\n",
    "0 & x \\leq 0\n",
    "\\end{cases}$$\n",
    "\n",
    "then we would get a piece-wise constant prediction from our trained network. Plot that piecewise function as a function of $x$."
   ]
  },
  {
   "cell_type": "code",
   "execution_count": null,
   "metadata": {},
   "outputs": [],
   "source": [
    "activations = net.activation(net.layer_list[0](features))\n",
    "print(activations[0:10])"
   ]
  },
  {
   "cell_type": "code",
   "execution_count": null,
   "metadata": {},
   "outputs": [],
   "source": [
    "binary_activations = nn.Threshold(0.5, 0)(activations)/activations\n",
    "print(binary_activations[0:10])"
   ]
  },
  {
   "cell_type": "code",
   "execution_count": null,
   "metadata": {},
   "outputs": [],
   "source": [
    "binary_pred = net.output_layer(binary_activations)"
   ]
  },
  {
   "cell_type": "code",
   "execution_count": null,
   "metadata": {},
   "outputs": [],
   "source": [
    "plt.figure(figsize=(10,10))\n",
    "plt.plot(x,y, label='data')\n",
    "plt.plot(x, binary_pred.cpu().detach().numpy(), label='binary')\n",
    "plt.plot(x, pred, color='r', label='pred')\n",
    "plt.legend()"
   ]
  },
  {
   "cell_type": "markdown",
   "metadata": {},
   "source": [
    "**Question**: Why does the left part of the function fit so well but the right side is always compromised? Hint: think of the loss function."
   ]
  },
  {
   "cell_type": "markdown",
   "metadata": {},
   "source": [
    "The most likely reason is that the loss function is sensitive to the scale of the $y$ values. A 10% deviation between the y-value and the prediction near x = -10 has a larger absolute value than a 10% deviation near say, x = 5."
   ]
  },
  {
   "cell_type": "markdown",
   "metadata": {},
   "source": [
    "**Question**: Can you think of ways to test this hypothesis?"
   ]
  },
  {
   "cell_type": "markdown",
   "metadata": {},
   "source": [
    "There are a couple of things you could do. One is to flip the function from left to right and re-train the model. In this case, the right side should start fitting better.\n",
    "\n",
    "Another option is to change the loss function to percentage error i.e.:\n",
    "\n",
    "$$\\frac{1}{2} \\big(\\frac{y_{\\text{target}} - y_{\\text{pred}}}{y_{\\text{target}}}\\big)^2$$\n",
    "\n",
    "but this is probably much harder to optimize."
   ]
  },
  {
   "cell_type": "code",
   "execution_count": null,
   "metadata": {},
   "outputs": [],
   "source": [
    "y = copy.copy(y[::-1])"
   ]
  },
  {
   "cell_type": "code",
   "execution_count": null,
   "metadata": {},
   "outputs": [],
   "source": [
    "plt.plot(x, y)"
   ]
  },
  {
   "cell_type": "code",
   "execution_count": null,
   "metadata": {},
   "outputs": [],
   "source": [
    "N_inputs = 1\n",
    "N_outputs = 1\n",
    "N_hidden_layers = 1\n",
    "N_hidden_nodes = 10\n",
    "activation = nn.Sigmoid()\n",
    "output_activation = None #we want one probability between 0-1\n",
    "\n",
    "net = ClassifierNet(N_inputs,\n",
    "                    N_outputs,\n",
    "                    N_hidden_layers,\n",
    "                    N_hidden_nodes,\n",
    "                    activation,\n",
    "                    output_activation)\n",
    "\n",
    "features = torch.tensor(x).float().reshape(len(x), 1)\n",
    "target = torch.tensor(y).float().reshape(len(y), 1)"
   ]
  },
  {
   "cell_type": "code",
   "execution_count": null,
   "metadata": {},
   "outputs": [],
   "source": [
    "net = train_model(features, target, net, 1e-2, 14000, criterion=nn.MSELoss())"
   ]
  },
  {
   "cell_type": "code",
   "execution_count": null,
   "metadata": {},
   "outputs": [],
   "source": [
    "pred = net(features).cpu().detach().numpy().reshape(len(features))"
   ]
  },
  {
   "cell_type": "code",
   "execution_count": null,
   "metadata": {},
   "outputs": [],
   "source": [
    "plt.figure(figsize=(10,10))\n",
    "plt.plot(x, y)\n",
    "plt.plot(x, pred)"
   ]
  },
  {
   "cell_type": "markdown",
   "metadata": {},
   "source": [
    "As expected, now the right side of the function fits well."
   ]
  },
  {
   "cell_type": "code",
   "execution_count": null,
   "metadata": {},
   "outputs": [],
   "source": [
    "activations = net.activation(net.layer_list[0](features))\n",
    "binary_activations = nn.Threshold(0.5, 0)(activations)/activations\n",
    "binary_pred = net.output_layer(binary_activations)\n",
    "\n",
    "plt.figure(figsize=(10,10))\n",
    "plt.plot(x,y, label='data')\n",
    "plt.plot(x, binary_pred.cpu().detach().numpy(), label='binary')\n",
    "plt.plot(x, pred, color='r', label='pred')\n",
    "plt.legend()"
   ]
  },
  {
   "cell_type": "markdown",
   "metadata": {},
   "source": [
    "### Clear Memory"
   ]
  },
  {
   "cell_type": "markdown",
   "metadata": {},
   "source": [
    "At this stage, you should restart the kernel and clear the output since we don't need anything from before."
   ]
  },
  {
   "cell_type": "markdown",
   "metadata": {},
   "source": [
    "### Image Classification"
   ]
  },
  {
   "cell_type": "markdown",
   "metadata": {},
   "source": [
    "One of the most successful applications of deep learning has been to computer vision. A central task of computer vision is **image classification**. This is the task of assigning exactly one of multiple labels to an image. \n",
    "\n",
    "pytorch provides a package called **torchvision** which includes datasets, some modern neural network architectures as well as helper functions for images."
   ]
  },
  {
   "cell_type": "code",
   "execution_count": 4,
   "metadata": {},
   "outputs": [
    {
     "name": "stdout",
     "output_type": "stream",
     "text": [
      "cuda:0\n"
     ]
    }
   ],
   "source": [
    "import torch\n",
    "import torch.nn as nn\n",
    "import torch.optim as optim\n",
    "\n",
    "import matplotlib.pylab as plt\n",
    "import pandas as pd\n",
    "import numpy as np\n",
    "\n",
    "from sklearn.neural_network import MLPClassifier, MLPRegressor\n",
    "\n",
    "import copy\n",
    "\n",
    "device = torch.device(\"cuda:0\" if torch.cuda.is_available() else \"cpu\")\n",
    "print(device)"
   ]
  },
  {
   "cell_type": "code",
   "execution_count": 5,
   "metadata": {},
   "outputs": [],
   "source": [
    "from torchvision.datasets import MNIST\n",
    "from torchvision import transforms"
   ]
  },
  {
   "cell_type": "code",
   "execution_count": 6,
   "metadata": {},
   "outputs": [],
   "source": [
    "DOWNLOAD_PATH = \"../data/MNIST\""
   ]
  },
  {
   "cell_type": "code",
   "execution_count": 7,
   "metadata": {},
   "outputs": [],
   "source": [
    "mnist_train = MNIST(DOWNLOAD_PATH, \n",
    "                    train=True, \n",
    "                    download=True,\n",
    "                    transform = transforms.Compose([transforms.ToTensor()]))\n",
    "\n",
    "mnist_test = MNIST(DOWNLOAD_PATH, \n",
    "                   train=False, \n",
    "                   download=True,\n",
    "                   transform = transforms.Compose([transforms.ToTensor()]))"
   ]
  },
  {
   "cell_type": "markdown",
   "metadata": {},
   "source": [
    "You will most likely run into memory issues between the data and the weights/biases of your neural network. Let's instead sample 1/10th the dataset."
   ]
  },
  {
   "cell_type": "code",
   "execution_count": 8,
   "metadata": {},
   "outputs": [
    {
     "name": "stdout",
     "output_type": "stream",
     "text": [
      "torch.Size([60000, 28, 28])\n",
      "torch.Size([60000])\n",
      "[35098 55480 27386  2449 52502 38110 14278 53009 44689 20252]\n",
      "torch.Size([6000, 28, 28])\n",
      "torch.Size([6000])\n"
     ]
    }
   ],
   "source": [
    "print(mnist_train.data.shape)\n",
    "print(mnist_train.targets.shape)\n",
    "\n",
    "N_choose = 6000\n",
    "\n",
    "chosen_ids = np.random.choice(np.arange(mnist_train.data.shape[0]), N_choose)\n",
    "print(chosen_ids[0:10])\n",
    "\n",
    "print(mnist_train.data[chosen_ids, :, :].shape)\n",
    "print(mnist_train.targets[chosen_ids].shape)\n",
    "\n",
    "mnist_train.data = mnist_train.data[chosen_ids, :, :]\n",
    "mnist_train.targets = mnist_train.targets[chosen_ids]"
   ]
  },
  {
   "cell_type": "code",
   "execution_count": 9,
   "metadata": {},
   "outputs": [
    {
     "name": "stdout",
     "output_type": "stream",
     "text": [
      "torch.Size([10000, 28, 28])\n",
      "torch.Size([10000])\n",
      "[7142 2853 3513 9725  936 7518 8208 2364 7900   74]\n",
      "torch.Size([1000, 28, 28])\n",
      "torch.Size([1000])\n"
     ]
    }
   ],
   "source": [
    "print(mnist_test.data.shape)\n",
    "print(mnist_test.targets.shape)\n",
    "\n",
    "N_choose = 1000\n",
    "\n",
    "chosen_ids = np.random.choice(np.arange(mnist_test.data.shape[0]), N_choose)\n",
    "print(chosen_ids[0:10])\n",
    "\n",
    "print(mnist_test.data[chosen_ids, :, :].shape)\n",
    "print(mnist_test.targets[chosen_ids].shape)\n",
    "\n",
    "mnist_test.data = mnist_test.data[chosen_ids, :, :]\n",
    "mnist_test.targets = mnist_test.targets[chosen_ids]"
   ]
  },
  {
   "cell_type": "markdown",
   "metadata": {},
   "source": [
    "MNIST is one of the classic image datasets and consists of 28 x 28 pixel images of handwritten digits. We downloaded both the train and test sets. Transforms defined under target_transform will be applied to each example. In this example, we want tensors and not images which is what the transforms do.\n",
    "\n",
    "The train set consists of 60000 images."
   ]
  },
  {
   "cell_type": "code",
   "execution_count": 10,
   "metadata": {},
   "outputs": [
    {
     "data": {
      "text/plain": [
       "torch.Size([6000, 28, 28])"
      ]
     },
     "execution_count": 10,
     "metadata": {},
     "output_type": "execute_result"
    }
   ],
   "source": [
    "mnist_train.data.shape"
   ]
  },
  {
   "cell_type": "code",
   "execution_count": 11,
   "metadata": {},
   "outputs": [
    {
     "data": {
      "text/plain": [
       "tensor([[  0,   0,   0,   0,   0,   0,   0,   0,   0,   0,   0,   0,   0,   0,\n",
       "           0,   0,   0,   0,   0,   0,   0,   0,   0,   0,   0,   0,   0,   0],\n",
       "        [  0,   0,   0,   0,   0,   0,   0,   0,   0,   0,   0,   0,   0,   0,\n",
       "           0,   0,   0,   0,   0,   0,   0,   0,   0,   0,   0,   0,   0,   0],\n",
       "        [  0,   0,   0,   0,   0,   0,   0,   0,   0,   0,   0,   0,   0,   0,\n",
       "           0,   0,   0,   0,   0,   0,   0,   0,   0,   0,   0,   0,   0,   0],\n",
       "        [  0,   0,   0,   0,   0,   0,   0,   0,   0,   0,   0,   0,   0,   0,\n",
       "           0,   0,   0,   0,   0,   0,   0,   0,   0,   0,   0,   0,   0,   0],\n",
       "        [  0,   0,   0,   0,   0,   0,   0,   0,   0,   0,   0,   0,   0,   0,\n",
       "           0,  37, 234,  52,   0,   0,   0,   0,   0,   0,   0,   0,   0,   0],\n",
       "        [  0,   0,   0,   0,   0,   0,   0,   0,   0,   0,   0,   0,   0,   0,\n",
       "           0,  61, 254, 167,   0,   0,   0,   0,   0,   0,   0,   0,   0,   0],\n",
       "        [  0,   0,   0,   0,   0,   0,   0,   0,   0,   0,   0,   0,   0,   0,\n",
       "           0,  45, 244, 202,   8,   0,   0,   0,   0,   0,   0,   0,   0,   0],\n",
       "        [  0,   0,   0,   0,   0,   0,   0,   0,   0,   0,   0,   0,   0,   0,\n",
       "           0,   0, 215, 249,  27,   0,   0,   0,   0,   0,   0,   0,   0,   0],\n",
       "        [  0,   0,   0,   0,   0,   0,   0,   0,   0,   0,   0,   0,   0,   0,\n",
       "           2,  76, 227, 184,   0,   0,   0,   0,   0,   0,   0,   0,   0,   0],\n",
       "        [  0,   0,   0,   0,   0,   0,   0,   0,   0,   0,   0,   0,   0,  26,\n",
       "         212, 254, 254, 184,   0,   0,   0,   0,   0,   0,   0,   0,   0,   0],\n",
       "        [  0,   0,   0,   0,   0,   0,   0,   0,   0,   0,   0,   0,  32, 158,\n",
       "         254, 221, 254, 184,   0,   0,   0,   0,   0,   0,   0,   0,   0,   0],\n",
       "        [  0,   0,   0,   0,   0,   0,   0,   0,   0,   0,   0,  38, 222, 254,\n",
       "         179,  66, 254, 184,   0,   0,   0,   0,   0,   0,   0,   0,   0,   0],\n",
       "        [  0,   0,   0,   0,   0,   0,   0,   0,   0,   0, 104, 228, 254, 178,\n",
       "          12,  61, 254, 108,   0,   0,   0,   0,   0,   0,   0,   0,   0,   0],\n",
       "        [  0,   0,   0,   0,   0,   0,   0,   0,  35, 192, 253, 227, 128,   4,\n",
       "           0, 159, 254,  85,   0,   0,   0,   0,   0,   0,   0,   0,   0,   0],\n",
       "        [  0,   0,   0,   0,   0,  48,  66, 114, 239, 254, 178,  68,   0,   0,\n",
       "           5, 236, 254,  85,   0,   0,   0,   0,   0,   0,   0,   0,   0,   0],\n",
       "        [  0,   0,   0,   0,  35, 238, 254, 254, 254, 254, 186, 160, 124,  61,\n",
       "          65, 254, 254, 125,  61,  61,  61,  61, 128,   0,   0,   0,   0,   0],\n",
       "        [  0,   0,   0,   0,  31, 183, 239, 200, 239, 247, 254, 254, 254, 254,\n",
       "         254, 254, 254, 254, 254, 254, 254, 249, 119,   0,   0,   0,   0,   0],\n",
       "        [  0,   0,   0,   0,   0,   0,   0,   0,   0,  44,  85,  85, 124, 183,\n",
       "         241, 254, 250, 184, 184, 153,  85,  55,   0,   0,   0,   0,   0,   0],\n",
       "        [  0,   0,   0,   0,   0,   0,   0,   0,   0,   0,   0,   0,   0,   0,\n",
       "         117, 254, 151,   0,   0,   0,   0,   0,   0,   0,   0,   0,   0,   0],\n",
       "        [  0,   0,   0,   0,   0,   0,   0,   0,   0,   0,   0,   0,   0,   0,\n",
       "         106, 254,  69,   0,   0,   0,   0,   0,   0,   0,   0,   0,   0,   0],\n",
       "        [  0,   0,   0,   0,   0,   0,   0,   0,   0,   0,   0,   0,   0,   0,\n",
       "         106, 254, 224,   0,   0,   0,   0,   0,   0,   0,   0,   0,   0,   0],\n",
       "        [  0,   0,   0,   0,   0,   0,   0,   0,   0,   0,   0,   0,   0,   0,\n",
       "         180, 254, 239,   0,   0,   0,   0,   0,   0,   0,   0,   0,   0,   0],\n",
       "        [  0,   0,   0,   0,   0,   0,   0,   0,   0,   0,   0,   0,   0,   0,\n",
       "         205, 254, 164,   0,   0,   0,   0,   0,   0,   0,   0,   0,   0,   0],\n",
       "        [  0,   0,   0,   0,   0,   0,   0,   0,   0,   0,   0,   0,   0,   0,\n",
       "         166, 254,  40,   0,   0,   0,   0,   0,   0,   0,   0,   0,   0,   0],\n",
       "        [  0,   0,   0,   0,   0,   0,   0,   0,   0,   0,   0,   0,   0,   0,\n",
       "           0,   0,   0,   0,   0,   0,   0,   0,   0,   0,   0,   0,   0,   0],\n",
       "        [  0,   0,   0,   0,   0,   0,   0,   0,   0,   0,   0,   0,   0,   0,\n",
       "           0,   0,   0,   0,   0,   0,   0,   0,   0,   0,   0,   0,   0,   0],\n",
       "        [  0,   0,   0,   0,   0,   0,   0,   0,   0,   0,   0,   0,   0,   0,\n",
       "           0,   0,   0,   0,   0,   0,   0,   0,   0,   0,   0,   0,   0,   0],\n",
       "        [  0,   0,   0,   0,   0,   0,   0,   0,   0,   0,   0,   0,   0,   0,\n",
       "           0,   0,   0,   0,   0,   0,   0,   0,   0,   0,   0,   0,   0,   0]],\n",
       "       dtype=torch.uint8)"
      ]
     },
     "execution_count": 11,
     "metadata": {},
     "output_type": "execute_result"
    }
   ],
   "source": [
    "mnist_train.data[0]"
   ]
  },
  {
   "cell_type": "code",
   "execution_count": 12,
   "metadata": {},
   "outputs": [
    {
     "data": {
      "text/plain": [
       "<matplotlib.image.AxesImage at 0x7faa06f2d790>"
      ]
     },
     "execution_count": 12,
     "metadata": {},
     "output_type": "execute_result"
    },
    {
     "data": {
      "image/png": "[encoded data removed]",
      "text/plain": [
       "<Figure size 432x288 with 1 Axes>"
      ]
     },
     "metadata": {
      "needs_background": "light"
     },
     "output_type": "display_data"
    }
   ],
   "source": [
    "plt.imshow(mnist_train.data[0])"
   ]
  },
  {
   "cell_type": "markdown",
   "metadata": {},
   "source": [
    "There are 10 unique labels - 0 through 9"
   ]
  },
  {
   "cell_type": "code",
   "execution_count": 13,
   "metadata": {},
   "outputs": [
    {
     "data": {
      "text/plain": [
       "tensor([4, 7, 8, 4, 6, 0, 0, 6, 4, 3])"
      ]
     },
     "execution_count": 13,
     "metadata": {},
     "output_type": "execute_result"
    }
   ],
   "source": [
    "mnist_train.targets[0:10]"
   ]
  },
  {
   "cell_type": "markdown",
   "metadata": {},
   "source": [
    "The labels are roughly equally/uniformly distributed"
   ]
  },
  {
   "cell_type": "code",
   "execution_count": 14,
   "metadata": {},
   "outputs": [
    {
     "data": {
      "text/plain": [
       "(array([0, 1, 2, 3, 4, 5, 6, 7, 8, 9]),\n",
       " array([610, 664, 574, 575, 584, 547, 591, 629, 630, 596]))"
      ]
     },
     "execution_count": 14,
     "metadata": {},
     "output_type": "execute_result"
    }
   ],
   "source": [
    "np.unique(mnist_train.targets, return_counts=True)"
   ]
  },
  {
   "cell_type": "markdown",
   "metadata": {},
   "source": [
    "The test set consists of 10000 images."
   ]
  },
  {
   "cell_type": "code",
   "execution_count": 15,
   "metadata": {},
   "outputs": [
    {
     "data": {
      "text/plain": [
       "torch.Size([1000, 28, 28])"
      ]
     },
     "execution_count": 15,
     "metadata": {},
     "output_type": "execute_result"
    }
   ],
   "source": [
    "mnist_test.data.shape"
   ]
  },
  {
   "cell_type": "code",
   "execution_count": 16,
   "metadata": {},
   "outputs": [
    {
     "data": {
      "text/plain": [
       "<matplotlib.image.AxesImage at 0x7faa06f22690>"
      ]
     },
     "execution_count": 16,
     "metadata": {},
     "output_type": "execute_result"
    },
    {
     "data": {
      "image/png": "[encoded data removed]",
      "text/plain": [
       "<Figure size 432x288 with 1 Axes>"
      ]
     },
     "metadata": {
      "needs_background": "light"
     },
     "output_type": "display_data"
    }
   ],
   "source": [
    "plt.imshow(mnist_test.data[10])"
   ]
  },
  {
   "cell_type": "markdown",
   "metadata": {},
   "source": [
    "Same labels"
   ]
  },
  {
   "cell_type": "code",
   "execution_count": 17,
   "metadata": {},
   "outputs": [
    {
     "data": {
      "text/plain": [
       "tensor([5, 3, 2, 1, 8, 2, 2, 3, 1, 1])"
      ]
     },
     "execution_count": 17,
     "metadata": {},
     "output_type": "execute_result"
    }
   ],
   "source": [
    "mnist_test.targets[0:10]"
   ]
  },
  {
   "cell_type": "markdown",
   "metadata": {},
   "source": [
    "Pretty equally distributed."
   ]
  },
  {
   "cell_type": "code",
   "execution_count": 18,
   "metadata": {},
   "outputs": [
    {
     "data": {
      "text/plain": [
       "(array([0, 1, 2, 3, 4, 5, 6, 7, 8, 9]),\n",
       " array([ 98, 123,  92, 114,  88,  98, 100,  97, 103,  87]))"
      ]
     },
     "execution_count": 18,
     "metadata": {},
     "output_type": "execute_result"
    }
   ],
   "source": [
    "np.unique(mnist_test.targets, return_counts=True)"
   ]
  },
  {
   "cell_type": "markdown",
   "metadata": {},
   "source": [
    "**Image Classifier**:\n",
    "\n",
    "We first have to pick an architecture. The first one we'll pick is a feed-forward neural network like the one we used in the exercises above. This time I am going to use a higher abstraction to define the network."
   ]
  },
  {
   "cell_type": "code",
   "execution_count": 19,
   "metadata": {},
   "outputs": [],
   "source": [
    "#convert 28x28 image -> 784-dimensional flattened vector\n",
    "class Flatten(nn.Module):\n",
    "    def __init__(self):\n",
    "        super(Flatten, self).__init__()\n",
    "        \n",
    "    def forward(self, inp):\n",
    "        return inp.flatten(start_dim=1, end_dim=2)"
   ]
  },
  {
   "cell_type": "code",
   "execution_count": 20,
   "metadata": {},
   "outputs": [
    {
     "data": {
      "text/plain": [
       "torch.Size([10, 784])"
      ]
     },
     "execution_count": 20,
     "metadata": {},
     "output_type": "execute_result"
    }
   ],
   "source": [
    "Flatten()(mnist_train.data[0:10]).shape"
   ]
  },
  {
   "cell_type": "markdown",
   "metadata": {},
   "source": [
    "Architecture definition using nn.Sequential. You can just list the layers in a sequence. We carry out the following steps:\n",
    "\n",
    "* Flatten each image into a 784 dimensional vector\n",
    "\n",
    "* Map the image to a 100-dimensional vector using a linear layer\n",
    "\n",
    "* Apply a relu non-linearity\n",
    "\n",
    "* Map the 100-dimensional vector into a 10-dimensional output layer since we have 10 possible targets.\n",
    "\n",
    "* Apply a softmax activation to convert the 10 numbers into a probability distribution that assigns the probability the image belonging to each class (0 through 9)\n",
    "\n",
    "A softmax activation takes N numbers $a_1, \\ldots, a_{10}$ and converts them to a probability distribution. The first step is to ensure the numbers are positive (since probabilities cannot be negative). This is done by exponentiation.\n",
    "\n",
    "$$a_i \\rightarrow e^{a_i}$$\n",
    "\n",
    "The next step is to normalize the numbers i.e. ensure they add up to 1. This is very straightforward. We just divide each score by the sum of scores:\n",
    "\n",
    "$$p_i = \\frac{e^{a_i}}{e^{a_1} + e^{a_2} + \\ldots + e^{a_N}}$$\n",
    "\n",
    "This is the softmax function. If you have done statistical physics (physics of systems with very large number of interacting constituents), you probably have seen the Boltzmann distribution:\n",
    "\n",
    "$$p_i = \\frac{e^{-\\beta E_i}}{e^{-\\beta E_1} + e^{-\\beta E_2} + \\ldots + e^{-\\beta E_N}}$$\n",
    "\n",
    "which gives the probability that a system with N energy levels is in the state with energy $i$ when it is in equilibrium with a thermal bath at temperature $T = \\frac{1}{k_B\\beta}$. This is the only probability distribution that is invariant to constant shifts in energy: $E_i \\rightarrow E_i + \\Delta$."
   ]
  },
  {
   "cell_type": "markdown",
   "metadata": {},
   "source": [
    "Network definition"
   ]
  },
  {
   "cell_type": "code",
   "execution_count": 21,
   "metadata": {},
   "outputs": [],
   "source": [
    "image_ff_net = nn.Sequential(Flatten(), \n",
    "                             nn.Linear(784, 100),\n",
    "                             nn.ReLU(),\n",
    "                             nn.Linear(100, 10),\n",
    "                             nn.Softmax(dim=1) #convert 10-dim activation to probability distribution\n",
    "                            )"
   ]
  },
  {
   "cell_type": "markdown",
   "metadata": {},
   "source": [
    "Let's ensure the data flows through our neural network and check the dimensions. As before, the neural net object is a python callable."
   ]
  },
  {
   "cell_type": "code",
   "execution_count": 22,
   "metadata": {},
   "outputs": [
    {
     "data": {
      "text/plain": [
       "torch.Size([12, 10])"
      ]
     },
     "execution_count": 22,
     "metadata": {},
     "output_type": "execute_result"
    }
   ],
   "source": [
    "image_ff_net(mnist_train.data[0:12].float()).shape"
   ]
  },
  {
   "cell_type": "markdown",
   "metadata": {},
   "source": [
    "We get a 10-dimensional output as expected.\n",
    "\n",
    "**Question**: Check that the outputs for each image are actually a probability distribution (the numbers add up to 1)."
   ]
  },
  {
   "cell_type": "code",
   "execution_count": 23,
   "metadata": {},
   "outputs": [
    {
     "data": {
      "text/plain": [
       "tensor([1.0000, 1.0000, 1.0000, 1.0000, 1.0000, 1.0000, 1.0000, 1.0000, 1.0000,\n",
       "        1.0000], grad_fn=<SumBackward1>)"
      ]
     },
     "execution_count": 23,
     "metadata": {},
     "output_type": "execute_result"
    }
   ],
   "source": [
    "image_ff_net(mnist_train.data[0:10].float()).sum(dim=1)"
   ]
  },
  {
   "cell_type": "markdown",
   "metadata": {},
   "source": [
    "**Question**: We have an architecture for our neural network but we now need to decide what loss to pick. Unlike the classification problem earlier which had two classes, we have 10 classes here. Take a look at the pytorch documentation - what loss do you think we should pick to model this problem?"
   ]
  },
  {
   "cell_type": "markdown",
   "metadata": {},
   "source": [
    "We used cross-entropy loss on days 2 and 3. We need the same loss here. Pytorch provides NLLLoss (negative log likelihood) as well as CrossEntropyLoss.\n",
    "\n",
    "**Question**: Look at the documentation for both of these loss functions. Which one should we pick? Do we need to make any modifications to our architecture?"
   ]
  },
  {
   "cell_type": "markdown",
   "metadata": {},
   "source": [
    "We will use the Cross-entropy Loss which can work with the raw scores (without a softmax layer)."
   ]
  },
  {
   "cell_type": "code",
   "execution_count": 24,
   "metadata": {},
   "outputs": [],
   "source": [
    "image_ff_net = nn.Sequential(Flatten(), \n",
    "                             nn.Linear(784, 100),\n",
    "                             nn.ReLU(),\n",
    "                             nn.Linear(100, 10),\n",
    "                            )"
   ]
  },
  {
   "cell_type": "markdown",
   "metadata": {},
   "source": [
    "Now we'll get raw unnormalized scores that were used to compute the probabilities. We should use nn.CrossEntropyLoss in this case."
   ]
  },
  {
   "cell_type": "code",
   "execution_count": 25,
   "metadata": {},
   "outputs": [
    {
     "data": {
      "text/plain": [
       "tensor([[ 16.2193,  10.0068,  12.8870,  11.3061, -15.1360,  11.1081,   7.4001,\n",
       "         -22.5919,  13.8098, -20.9248],\n",
       "        [ 25.5644,   4.2377,   3.4963,   0.2628, -23.4590,  13.3972, -14.4767,\n",
       "         -15.6164,  -1.9614, -10.9032],\n",
       "        [ 25.3929, -20.3535,   2.0941,  21.1833,  -0.3783,  -8.6609, -14.6873,\n",
       "         -32.4949,  14.1083,   3.5790],\n",
       "        [-20.1825,   4.8184,  -2.7235,   2.5652, -19.2616,   2.1931, -14.8781,\n",
       "         -21.9873,  14.4472,  11.8669],\n",
       "        [  4.6108,  31.8331,  12.2621,  31.0500,   9.2604,  12.6513,   3.9062,\n",
       "         -28.3357,  12.4530,   2.4228],\n",
       "        [  9.9234,  -9.2301,  -0.3042,  33.9055, -11.7333,  11.0156,  16.9658,\n",
       "         -12.6147,  18.5896, -15.0312],\n",
       "        [-25.7316,  -8.4747,  11.5982,   2.9915,   6.0303,  12.8823, -12.5256,\n",
       "         -27.0134,  14.8235,   1.2291],\n",
       "        [ -5.5972,   6.5158,  -4.5050,   1.0942, -25.2070,  20.0081, -16.4611,\n",
       "         -11.6033,  20.9783,  -0.0547],\n",
       "        [ -4.7276,  15.1844,   1.8758,   1.0263,  -5.7444,   0.2223,   2.8069,\n",
       "          -5.3366,  18.4641,   8.0950],\n",
       "        [ 20.8202, -17.8795,   5.2708,   8.9668,  -0.9968,  -3.2737,   1.5939,\n",
       "         -10.7927,   8.5308, -11.0114],\n",
       "        [ 13.3702,  17.5154,  16.3056,  10.1049,   1.0798,  28.1982, -10.8766,\n",
       "         -45.0358,  14.0774, -23.7426],\n",
       "        [ 11.3780,  -2.5742,  22.7985,  37.1000, -14.9697,  -5.8822,  -8.5497,\n",
       "         -22.2688,  20.9844,  12.7354]], grad_fn=<AddmmBackward>)"
      ]
     },
     "execution_count": 25,
     "metadata": {},
     "output_type": "execute_result"
    }
   ],
   "source": [
    "image_ff_net(mnist_train.data[0:12].float())"
   ]
  },
  {
   "cell_type": "code",
   "execution_count": 26,
   "metadata": {},
   "outputs": [],
   "source": [
    "loss = nn.CrossEntropyLoss()"
   ]
  },
  {
   "cell_type": "markdown",
   "metadata": {},
   "source": [
    "**Training**: We have an architecture, the data, an appropriate loss. Now we need to loop over the images, use the loss to compare the predictions to the targets, compute the gradients and update the weights.\n",
    "\n",
    "In our previous examples, we had N_epoch passes over our dataset and each time, we computed predictions for the full dataset. This is impractical as datasets gets larger. Instead, we need to split the data into **batches** of a fixed size, compute the loss, the gradients and update the weights for each batch.\n",
    "\n",
    "\n",
    "pytorch provides a DataLoader class that makes it easy to generate batches from your dataset.\n",
    "\n",
    "**Optional**:\n",
    "\n",
    "Let's analyze how using batches can be different from using the full dataset. Suppose our data has 10,000 rows but we use batches of size 100 (usually we pick powers of 2 for the GPU but this is just an example). Statistically, our goal is always to compute the gradient:\n",
    "\n",
    "$$\\frac{\\partial L}{\\partial w_i}$$\n",
    "\n",
    "for all the weights $w_i$. By weights here, I mean both the weights and biases and any other free or tunable parameters in our model.\n",
    "\n",
    "In practice, the loss is a sum over all the examples in our dataset:\n",
    "\n",
    "$$L = \\frac{1}{N}\\Sigma_{i}^N l(p_i, t_i)$$\n",
    "\n",
    "where $p_i$ = prediction for ith example, $t_i$ = target/label for ith example. So the derivative is:\n",
    "\n",
    "$$\\frac{\\partial L}{\\partial w_i} = \\frac{1}{N}\\Sigma_i^N \\frac{\\partial l(p_i, t_i)}{\\partial w_i} $$\n",
    "\n",
    "In other words, our goal is to calculate this quantity but $N$ is too large. So we pick a randomly chosen subset of size 100 and only average the gradients over those examples. As an analogy, if our task was to measure the average height of all the people in the world which is impractical, we would pick randomly chosen subsets, say of 10,000 people and measure their average heights. \n",
    "\n",
    "Of course, as we make the subset smaller, the estimate we get will be noisier i.e. it has a greater chance of higher deviation from the actual value (height or gradient). Is this good or bad? It depends. In our case, we are optimizing a function (the loss) that has multiple local minima and saddle points. It is easy to get stuck in regions of the loss space/surface. Having noisy gradients can help with escaping those local minima just because we'll not always be moving in the direction of the true gradient but a noisy estimate.\n",
    "\n",
    "Some commonly used terminology in case you read papers/articles:\n",
    "\n",
    "* (Full) Gradient Descent - compute the gradients over the full dataset. Memory-intensive for larger datasets. This is what we did with our toy examples above.\n",
    "\n",
    "* Mini-batch Gradient Descent - use randomly chosen samples of fixed size as your data. Noisier gradients, more frequent updates to your model, memory efficient.\n",
    "\n",
    "* Stochastic Gradient Descent - Mini-batch gradient descent with batch size = 1. Very noisy estimate, \"online\" updates to your model, can be hard to converge.\n",
    "\n",
    "There are some fascinating papers on more theoretical investigations into the loss surface and the behavior of gradient descent. Here are some examples:\n",
    "\n",
    "* https://papers.nips.cc/paper/7875-visualizing-the-loss-landscape-of-neural-nets.pdf\n",
    "\n",
    "* https://arxiv.org/abs/1811.03804\n",
    "\n",
    "* https://arxiv.org/pdf/1904.06963.pdf\n",
    "\n",
    "\n",
    "**End of optional section**\n"
   ]
  },
  {
   "cell_type": "code",
   "execution_count": 27,
   "metadata": {},
   "outputs": [],
   "source": [
    "BATCH_SIZE = 16 #number of examples to compute gradients over (a batch)\n",
    "\n",
    "\n",
    "#python convenience classes to sample and create batches\n",
    "train_dataloader = torch.utils.data.DataLoader(mnist_train, \n",
    "                                               batch_size=BATCH_SIZE, \n",
    "                                               shuffle=True, #shuffle data\n",
    "                                               num_workers=8,\n",
    "                                               pin_memory=True\n",
    "                                             )\n",
    "test_dataloader = torch.utils.data.DataLoader(mnist_test, \n",
    "                                              batch_size=BATCH_SIZE, \n",
    "                                              shuffle=True, #shuffle data\n",
    "                                              num_workers=8,\n",
    "                                              pin_memory=True\n",
    "                                             )"
   ]
  },
  {
   "cell_type": "code",
   "execution_count": 28,
   "metadata": {},
   "outputs": [],
   "source": [
    "idx, (data_example, target_example) = next(enumerate(train_dataloader))"
   ]
  },
  {
   "cell_type": "code",
   "execution_count": 29,
   "metadata": {},
   "outputs": [
    {
     "name": "stdout",
     "output_type": "stream",
     "text": [
      "0\n",
      "torch.Size([16, 1, 28, 28])\n",
      "torch.Size([16])\n"
     ]
    }
   ],
   "source": [
    "print(idx)\n",
    "print(data_example.shape)\n",
    "print(target_example.shape)"
   ]
  },
  {
   "cell_type": "markdown",
   "metadata": {},
   "source": [
    "So we have batch 0 with 64 tensors of shape (1, 28, 28) and 64 targets. Let's ensure our network can forward propagate on this batch."
   ]
  },
  {
   "cell_type": "code",
   "execution_count": 30,
   "metadata": {},
   "outputs": [
    {
     "ename": "RuntimeError",
     "evalue": "size mismatch, m1: [448 x 28], m2: [784 x 100] at /opt/conda/conda-bld/pytorch_1579022060824/work/aten/src/TH/generic/THTensorMath.cpp:136",
     "output_type": "error",
     "traceback": [
      "\u001b[0;31m---------------------------------------------------------------------------\u001b[0m",
      "\u001b[0;31mRuntimeError\u001b[0m                              Traceback (most recent call last)",
      "\u001b[0;32m<ipython-input-30-ea1eeb248dd8>\u001b[0m in \u001b[0;36m<module>\u001b[0;34m\u001b[0m\n\u001b[0;32m----> 1\u001b[0;31m \u001b[0mimage_ff_net\u001b[0m\u001b[0;34m(\u001b[0m\u001b[0mdata_example\u001b[0m\u001b[0;34m)\u001b[0m\u001b[0;34m\u001b[0m\u001b[0;34m\u001b[0m\u001b[0m\n\u001b[0m",
      "\u001b[0;32m~/anaconda3/envs/dt4/lib/python3.7/site-packages/torch/nn/modules/module.py\u001b[0m in \u001b[0;36m__call__\u001b[0;34m(self, *input, **kwargs)\u001b[0m\n\u001b[1;32m    530\u001b[0m             \u001b[0mresult\u001b[0m \u001b[0;34m=\u001b[0m \u001b[0mself\u001b[0m\u001b[0;34m.\u001b[0m\u001b[0m_slow_forward\u001b[0m\u001b[0;34m(\u001b[0m\u001b[0;34m*\u001b[0m\u001b[0minput\u001b[0m\u001b[0;34m,\u001b[0m \u001b[0;34m**\u001b[0m\u001b[0mkwargs\u001b[0m\u001b[0;34m)\u001b[0m\u001b[0;34m\u001b[0m\u001b[0;34m\u001b[0m\u001b[0m\n\u001b[1;32m    531\u001b[0m         \u001b[0;32melse\u001b[0m\u001b[0;34m:\u001b[0m\u001b[0;34m\u001b[0m\u001b[0;34m\u001b[0m\u001b[0m\n\u001b[0;32m--> 532\u001b[0;31m             \u001b[0mresult\u001b[0m \u001b[0;34m=\u001b[0m \u001b[0mself\u001b[0m\u001b[0;34m.\u001b[0m\u001b[0mforward\u001b[0m\u001b[0;34m(\u001b[0m\u001b[0;34m*\u001b[0m\u001b[0minput\u001b[0m\u001b[0;34m,\u001b[0m \u001b[0;34m**\u001b[0m\u001b[0mkwargs\u001b[0m\u001b[0;34m)\u001b[0m\u001b[0;34m\u001b[0m\u001b[0;34m\u001b[0m\u001b[0m\n\u001b[0m\u001b[1;32m    533\u001b[0m         \u001b[0;32mfor\u001b[0m \u001b[0mhook\u001b[0m \u001b[0;32min\u001b[0m \u001b[0mself\u001b[0m\u001b[0;34m.\u001b[0m\u001b[0m_forward_hooks\u001b[0m\u001b[0;34m.\u001b[0m\u001b[0mvalues\u001b[0m\u001b[0;34m(\u001b[0m\u001b[0;34m)\u001b[0m\u001b[0;34m:\u001b[0m\u001b[0;34m\u001b[0m\u001b[0;34m\u001b[0m\u001b[0m\n\u001b[1;32m    534\u001b[0m             \u001b[0mhook_result\u001b[0m \u001b[0;34m=\u001b[0m \u001b[0mhook\u001b[0m\u001b[0;34m(\u001b[0m\u001b[0mself\u001b[0m\u001b[0;34m,\u001b[0m \u001b[0minput\u001b[0m\u001b[0;34m,\u001b[0m \u001b[0mresult\u001b[0m\u001b[0;34m)\u001b[0m\u001b[0;34m\u001b[0m\u001b[0;34m\u001b[0m\u001b[0m\n",
      "\u001b[0;32m~/anaconda3/envs/dt4/lib/python3.7/site-packages/torch/nn/modules/container.py\u001b[0m in \u001b[0;36mforward\u001b[0;34m(self, input)\u001b[0m\n\u001b[1;32m     98\u001b[0m     \u001b[0;32mdef\u001b[0m \u001b[0mforward\u001b[0m\u001b[0;34m(\u001b[0m\u001b[0mself\u001b[0m\u001b[0;34m,\u001b[0m \u001b[0minput\u001b[0m\u001b[0;34m)\u001b[0m\u001b[0;34m:\u001b[0m\u001b[0;34m\u001b[0m\u001b[0;34m\u001b[0m\u001b[0m\n\u001b[1;32m     99\u001b[0m         \u001b[0;32mfor\u001b[0m \u001b[0mmodule\u001b[0m \u001b[0;32min\u001b[0m \u001b[0mself\u001b[0m\u001b[0;34m:\u001b[0m\u001b[0;34m\u001b[0m\u001b[0;34m\u001b[0m\u001b[0m\n\u001b[0;32m--> 100\u001b[0;31m             \u001b[0minput\u001b[0m \u001b[0;34m=\u001b[0m \u001b[0mmodule\u001b[0m\u001b[0;34m(\u001b[0m\u001b[0minput\u001b[0m\u001b[0;34m)\u001b[0m\u001b[0;34m\u001b[0m\u001b[0;34m\u001b[0m\u001b[0m\n\u001b[0m\u001b[1;32m    101\u001b[0m         \u001b[0;32mreturn\u001b[0m \u001b[0minput\u001b[0m\u001b[0;34m\u001b[0m\u001b[0;34m\u001b[0m\u001b[0m\n\u001b[1;32m    102\u001b[0m \u001b[0;34m\u001b[0m\u001b[0m\n",
      "\u001b[0;32m~/anaconda3/envs/dt4/lib/python3.7/site-packages/torch/nn/modules/module.py\u001b[0m in \u001b[0;36m__call__\u001b[0;34m(self, *input, **kwargs)\u001b[0m\n\u001b[1;32m    530\u001b[0m             \u001b[0mresult\u001b[0m \u001b[0;34m=\u001b[0m \u001b[0mself\u001b[0m\u001b[0;34m.\u001b[0m\u001b[0m_slow_forward\u001b[0m\u001b[0;34m(\u001b[0m\u001b[0;34m*\u001b[0m\u001b[0minput\u001b[0m\u001b[0;34m,\u001b[0m \u001b[0;34m**\u001b[0m\u001b[0mkwargs\u001b[0m\u001b[0;34m)\u001b[0m\u001b[0;34m\u001b[0m\u001b[0;34m\u001b[0m\u001b[0m\n\u001b[1;32m    531\u001b[0m         \u001b[0;32melse\u001b[0m\u001b[0;34m:\u001b[0m\u001b[0;34m\u001b[0m\u001b[0;34m\u001b[0m\u001b[0m\n\u001b[0;32m--> 532\u001b[0;31m             \u001b[0mresult\u001b[0m \u001b[0;34m=\u001b[0m \u001b[0mself\u001b[0m\u001b[0;34m.\u001b[0m\u001b[0mforward\u001b[0m\u001b[0;34m(\u001b[0m\u001b[0;34m*\u001b[0m\u001b[0minput\u001b[0m\u001b[0;34m,\u001b[0m \u001b[0;34m**\u001b[0m\u001b[0mkwargs\u001b[0m\u001b[0;34m)\u001b[0m\u001b[0;34m\u001b[0m\u001b[0;34m\u001b[0m\u001b[0m\n\u001b[0m\u001b[1;32m    533\u001b[0m         \u001b[0;32mfor\u001b[0m \u001b[0mhook\u001b[0m \u001b[0;32min\u001b[0m \u001b[0mself\u001b[0m\u001b[0;34m.\u001b[0m\u001b[0m_forward_hooks\u001b[0m\u001b[0;34m.\u001b[0m\u001b[0mvalues\u001b[0m\u001b[0;34m(\u001b[0m\u001b[0;34m)\u001b[0m\u001b[0;34m:\u001b[0m\u001b[0;34m\u001b[0m\u001b[0;34m\u001b[0m\u001b[0m\n\u001b[1;32m    534\u001b[0m             \u001b[0mhook_result\u001b[0m \u001b[0;34m=\u001b[0m \u001b[0mhook\u001b[0m\u001b[0;34m(\u001b[0m\u001b[0mself\u001b[0m\u001b[0;34m,\u001b[0m \u001b[0minput\u001b[0m\u001b[0;34m,\u001b[0m \u001b[0mresult\u001b[0m\u001b[0;34m)\u001b[0m\u001b[0;34m\u001b[0m\u001b[0;34m\u001b[0m\u001b[0m\n",
      "\u001b[0;32m~/anaconda3/envs/dt4/lib/python3.7/site-packages/torch/nn/modules/linear.py\u001b[0m in \u001b[0;36mforward\u001b[0;34m(self, input)\u001b[0m\n\u001b[1;32m     85\u001b[0m \u001b[0;34m\u001b[0m\u001b[0m\n\u001b[1;32m     86\u001b[0m     \u001b[0;32mdef\u001b[0m \u001b[0mforward\u001b[0m\u001b[0;34m(\u001b[0m\u001b[0mself\u001b[0m\u001b[0;34m,\u001b[0m \u001b[0minput\u001b[0m\u001b[0;34m)\u001b[0m\u001b[0;34m:\u001b[0m\u001b[0;34m\u001b[0m\u001b[0;34m\u001b[0m\u001b[0m\n\u001b[0;32m---> 87\u001b[0;31m         \u001b[0;32mreturn\u001b[0m \u001b[0mF\u001b[0m\u001b[0;34m.\u001b[0m\u001b[0mlinear\u001b[0m\u001b[0;34m(\u001b[0m\u001b[0minput\u001b[0m\u001b[0;34m,\u001b[0m \u001b[0mself\u001b[0m\u001b[0;34m.\u001b[0m\u001b[0mweight\u001b[0m\u001b[0;34m,\u001b[0m \u001b[0mself\u001b[0m\u001b[0;34m.\u001b[0m\u001b[0mbias\u001b[0m\u001b[0;34m)\u001b[0m\u001b[0;34m\u001b[0m\u001b[0;34m\u001b[0m\u001b[0m\n\u001b[0m\u001b[1;32m     88\u001b[0m \u001b[0;34m\u001b[0m\u001b[0m\n\u001b[1;32m     89\u001b[0m     \u001b[0;32mdef\u001b[0m \u001b[0mextra_repr\u001b[0m\u001b[0;34m(\u001b[0m\u001b[0mself\u001b[0m\u001b[0;34m)\u001b[0m\u001b[0;34m:\u001b[0m\u001b[0;34m\u001b[0m\u001b[0;34m\u001b[0m\u001b[0m\n",
      "\u001b[0;32m~/anaconda3/envs/dt4/lib/python3.7/site-packages/torch/nn/functional.py\u001b[0m in \u001b[0;36mlinear\u001b[0;34m(input, weight, bias)\u001b[0m\n\u001b[1;32m   1370\u001b[0m         \u001b[0mret\u001b[0m \u001b[0;34m=\u001b[0m \u001b[0mtorch\u001b[0m\u001b[0;34m.\u001b[0m\u001b[0maddmm\u001b[0m\u001b[0;34m(\u001b[0m\u001b[0mbias\u001b[0m\u001b[0;34m,\u001b[0m \u001b[0minput\u001b[0m\u001b[0;34m,\u001b[0m \u001b[0mweight\u001b[0m\u001b[0;34m.\u001b[0m\u001b[0mt\u001b[0m\u001b[0;34m(\u001b[0m\u001b[0;34m)\u001b[0m\u001b[0;34m)\u001b[0m\u001b[0;34m\u001b[0m\u001b[0;34m\u001b[0m\u001b[0m\n\u001b[1;32m   1371\u001b[0m     \u001b[0;32melse\u001b[0m\u001b[0;34m:\u001b[0m\u001b[0;34m\u001b[0m\u001b[0;34m\u001b[0m\u001b[0m\n\u001b[0;32m-> 1372\u001b[0;31m         \u001b[0moutput\u001b[0m \u001b[0;34m=\u001b[0m \u001b[0minput\u001b[0m\u001b[0;34m.\u001b[0m\u001b[0mmatmul\u001b[0m\u001b[0;34m(\u001b[0m\u001b[0mweight\u001b[0m\u001b[0;34m.\u001b[0m\u001b[0mt\u001b[0m\u001b[0;34m(\u001b[0m\u001b[0;34m)\u001b[0m\u001b[0;34m)\u001b[0m\u001b[0;34m\u001b[0m\u001b[0;34m\u001b[0m\u001b[0m\n\u001b[0m\u001b[1;32m   1373\u001b[0m         \u001b[0;32mif\u001b[0m \u001b[0mbias\u001b[0m \u001b[0;32mis\u001b[0m \u001b[0;32mnot\u001b[0m \u001b[0;32mNone\u001b[0m\u001b[0;34m:\u001b[0m\u001b[0;34m\u001b[0m\u001b[0;34m\u001b[0m\u001b[0m\n\u001b[1;32m   1374\u001b[0m             \u001b[0moutput\u001b[0m \u001b[0;34m+=\u001b[0m \u001b[0mbias\u001b[0m\u001b[0;34m\u001b[0m\u001b[0;34m\u001b[0m\u001b[0m\n",
      "\u001b[0;31mRuntimeError\u001b[0m: size mismatch, m1: [448 x 28], m2: [784 x 100] at /opt/conda/conda-bld/pytorch_1579022060824/work/aten/src/TH/generic/THTensorMath.cpp:136"
     ]
    }
   ],
   "source": [
    "image_ff_net(data_example)"
   ]
  },
  {
   "cell_type": "markdown",
   "metadata": {},
   "source": [
    "**Question**: Debug this error"
   ]
  },
  {
   "cell_type": "markdown",
   "metadata": {},
   "source": [
    "The first shape 1792 x 28 gives us a clue. We want the two 28 sized dimensions to be flattened. But it seems like the wrong dimensions are being flattened here.\n",
    "\n",
    "1792 = 64 * 28\n",
    "\n",
    "We need to rewrite our flatten layer."
   ]
  },
  {
   "cell_type": "code",
   "execution_count": 31,
   "metadata": {},
   "outputs": [],
   "source": [
    "#convert 28x28 image -> 784-dimensional flattened vector\n",
    "class Flatten(nn.Module):\n",
    "    def __init__(self):\n",
    "        super(Flatten, self).__init__()\n",
    "        \n",
    "    def forward(self, inp):\n",
    "        return inp.flatten(start_dim=1, end_dim=-1)"
   ]
  },
  {
   "cell_type": "code",
   "execution_count": 32,
   "metadata": {},
   "outputs": [
    {
     "data": {
      "text/plain": [
       "torch.Size([16, 784])"
      ]
     },
     "execution_count": 32,
     "metadata": {},
     "output_type": "execute_result"
    }
   ],
   "source": [
    "Flatten()(data_example).shape"
   ]
  },
  {
   "cell_type": "code",
   "execution_count": 33,
   "metadata": {},
   "outputs": [],
   "source": [
    "image_ff_net = nn.Sequential(Flatten(), \n",
    "                             nn.Linear(784, 100),\n",
    "                             nn.ReLU(),\n",
    "                             nn.Linear(100, 10),\n",
    "                            )"
   ]
  },
  {
   "cell_type": "code",
   "execution_count": 34,
   "metadata": {},
   "outputs": [
    {
     "data": {
      "text/plain": [
       "torch.Size([16, 10])"
      ]
     },
     "execution_count": 34,
     "metadata": {},
     "output_type": "execute_result"
    }
   ],
   "source": [
    "image_ff_net(data_example).shape"
   ]
  },
  {
   "cell_type": "markdown",
   "metadata": {},
   "source": [
    "Let's combine all the elements together now and write our training loop."
   ]
  },
  {
   "cell_type": "code",
   "execution_count": 35,
   "metadata": {},
   "outputs": [],
   "source": [
    "#convert 28x28 image -> 784-dimensional flattened vector\n",
    "class Flatten(nn.Module):\n",
    "    def __init__(self):\n",
    "        super(Flatten, self).__init__()\n",
    "        \n",
    "    def forward(self, inp):\n",
    "        return inp.flatten(start_dim=1, end_dim=-1)\n",
    "    \n",
    "#ARCHITECTURE\n",
    "image_ff_net = nn.Sequential(Flatten(), \n",
    "                             nn.Linear(784, 100),\n",
    "                             nn.ReLU(),\n",
    "                             nn.Linear(100, 10),\n",
    "                            )\n",
    "\n",
    "#LOSS CRITERION and OPTIMIZER\n",
    "criterion = nn.CrossEntropyLoss()\n",
    "optimizer = optim.Adam(image_ff_net.parameters(), lr=1e-2)\n",
    "\n",
    "\n",
    "#DATALOADERS\n",
    "BATCH_SIZE = 16\n",
    "\n",
    "train_dataloader = torch.utils.data.DataLoader(mnist_train, \n",
    "                                               batch_size=BATCH_SIZE, \n",
    "                                               shuffle=True, #shuffle data\n",
    "                                               num_workers=8,\n",
    "                                               pin_memory=True\n",
    "                                             )\n",
    "test_dataloader = torch.utils.data.DataLoader(mnist_test, \n",
    "                                              batch_size=BATCH_SIZE, \n",
    "                                              shuffle=True, #shuffle data\n",
    "                                              num_workers=8,\n",
    "                                              pin_memory=True\n",
    "                                             )"
   ]
  },
  {
   "cell_type": "code",
   "execution_count": 36,
   "metadata": {
    "scrolled": false
   },
   "outputs": [
    {
     "name": "stdout",
     "output_type": "stream",
     "text": [
      "Epoch = 0 Loss = 0.493075872083505\n",
      "Epoch = 5 Loss = 0.11696399322152137\n",
      "Epoch = 10 Loss = 0.0984588055262963\n",
      "Epoch = 15 Loss = 0.07458434728781382\n"
     ]
    }
   ],
   "source": [
    "image_ff_net.train() #don't worry about this (for this notebook)\n",
    "image_ff_net.to(device)\n",
    "\n",
    "N_EPOCHS = 20\n",
    "for epoch in range(N_EPOCHS):\n",
    "    loss_list = []\n",
    "    for idx, (data_example, data_target) in enumerate(train_dataloader):\n",
    "        data_example = data_example.to(device)\n",
    "        data_target = data_target.to(device)\n",
    "        \n",
    "        pred = image_ff_net(data_example)\n",
    "\n",
    "        loss = criterion(pred, data_target)\n",
    "\n",
    "        optimizer.zero_grad()\n",
    "        loss.backward()\n",
    "        optimizer.step()\n",
    "\n",
    "        loss_list.append(loss.item())\n",
    "        \n",
    "    if epoch % 5 == 0:        \n",
    "        print(f'Epoch = {epoch} Loss = {np.mean(loss_list)}')"
   ]
  },
  {
   "cell_type": "markdown",
   "metadata": {},
   "source": [
    "**Question**: Use your trained network to compute the accuracy on both the train and test sets."
   ]
  },
  {
   "cell_type": "code",
   "execution_count": 34,
   "metadata": {},
   "outputs": [],
   "source": [
    "image_ff_net = image_ff_net.eval() #don't worry about this (for this notebook)"
   ]
  },
  {
   "cell_type": "markdown",
   "metadata": {},
   "source": [
    "We'll use argmax to extract the label with the highest probability (or the least negative raw score)."
   ]
  },
  {
   "cell_type": "code",
   "execution_count": 35,
   "metadata": {},
   "outputs": [
    {
     "data": {
      "text/plain": [
       "tensor([1, 3, 0, 7, 4, 4, 6, 4, 3, 4, 6, 1, 5, 1, 7, 0], device='cuda:0')"
      ]
     },
     "execution_count": 35,
     "metadata": {},
     "output_type": "execute_result"
    }
   ],
   "source": [
    "image_ff_net(data_example).argmax(dim=1)"
   ]
  },
  {
   "cell_type": "code",
   "execution_count": 36,
   "metadata": {},
   "outputs": [],
   "source": [
    "train_pred, train_targets = torch.tensor([]), torch.tensor([])\n",
    "with torch.no_grad(): #context manager for inference since we don't need the memory footprint of gradients\n",
    "    for idx, (data_example, data_target) in enumerate(train_dataloader):\n",
    "        data_example = data_example.to(device)\n",
    "        \n",
    "        #make predictions\n",
    "        label_pred = image_ff_net(data_example).argmax(dim=1).float()\n",
    "        \n",
    "        #concat and store both predictions and targets\n",
    "        label_pred = label_pred.to('cpu')\n",
    "        train_pred = torch.cat((train_pred, label_pred))\n",
    "        train_targets = torch.cat((train_targets, data_target.float()))"
   ]
  },
  {
   "cell_type": "code",
   "execution_count": 37,
   "metadata": {},
   "outputs": [
    {
     "data": {
      "text/plain": [
       "tensor([6., 9., 9., 2., 9., 3., 0., 1., 0., 2.])"
      ]
     },
     "execution_count": 37,
     "metadata": {},
     "output_type": "execute_result"
    }
   ],
   "source": [
    "train_pred[0:10]"
   ]
  },
  {
   "cell_type": "code",
   "execution_count": 38,
   "metadata": {},
   "outputs": [
    {
     "data": {
      "text/plain": [
       "tensor([6., 9., 9., 2., 9., 3., 0., 1., 0., 2.])"
      ]
     },
     "execution_count": 38,
     "metadata": {},
     "output_type": "execute_result"
    }
   ],
   "source": [
    "train_targets[0:10]"
   ]
  },
  {
   "cell_type": "code",
   "execution_count": 39,
   "metadata": {},
   "outputs": [
    {
     "data": {
      "text/plain": [
       "0.993"
      ]
     },
     "execution_count": 39,
     "metadata": {},
     "output_type": "execute_result"
    }
   ],
   "source": [
    "torch.sum(train_pred == train_targets).item() / train_pred.shape[0]"
   ]
  },
  {
   "cell_type": "code",
   "execution_count": 40,
   "metadata": {},
   "outputs": [
    {
     "data": {
      "text/plain": [
       "6000"
      ]
     },
     "execution_count": 40,
     "metadata": {},
     "output_type": "execute_result"
    }
   ],
   "source": [
    "train_pred.shape[0]"
   ]
  },
  {
   "cell_type": "code",
   "execution_count": 41,
   "metadata": {},
   "outputs": [
    {
     "name": "stdout",
     "output_type": "stream",
     "text": [
      "Train Accuracy = 0.9930\n"
     ]
    }
   ],
   "source": [
    "assert(train_pred.shape == train_targets.shape)\n",
    "train_accuracy = torch.sum(train_pred == train_targets).item() / train_pred.shape[0]\n",
    "print(f'Train Accuracy = {train_accuracy:.4f}')"
   ]
  },
  {
   "cell_type": "markdown",
   "metadata": {},
   "source": [
    "Here, I want to make an elementary remark about significant figures. While interpreting numbers like accuracy, it is important to realize how big your dataset and what impact flipping one example from a wrong prediction to the right prediction would have.\n",
    "\n",
    "In our case, the train set has 60,000 examples. Suppose we were to flip one of the incorrectly predicted examples to a correct one (by changing the model, retraining etc etc.). This should change our accuracy, all other examples being the same, by \n",
    "\n",
    "$$\\frac{1}{60,000} = 1.66 * 10^{-5}$$\n",
    "\n",
    "Any digits in the accuracy beyond the fifth place have no meaning! For our test set, we have 10,000 examples so we should only care at most about the 4th decimal place (10,000 being a \"nice\" number i.e. a power of 10 will ensure we never have more any way)."
   ]
  },
  {
   "cell_type": "code",
   "execution_count": 42,
   "metadata": {},
   "outputs": [],
   "source": [
    "test_pred, test_targets = torch.tensor([]), torch.tensor([])\n",
    "with torch.no_grad(): #context manager for inference since we don't need the memory footprint of gradients\n",
    "    for idx, (data_example, data_target) in enumerate(test_dataloader):\n",
    "        data_example = data_example.to(device)\n",
    "        \n",
    "        #make predictions\n",
    "        label_pred = image_ff_net(data_example).argmax(dim=1).float()\n",
    "        \n",
    "        #concat and store both predictions and targets\n",
    "        label_pred = label_pred.to('cpu')\n",
    "        test_pred = torch.cat((test_pred, label_pred))\n",
    "        test_targets = torch.cat((test_targets, data_target.float()))"
   ]
  },
  {
   "cell_type": "code",
   "execution_count": 43,
   "metadata": {},
   "outputs": [
    {
     "name": "stdout",
     "output_type": "stream",
     "text": [
      "Test  Accuracy = 0.9440\n"
     ]
    }
   ],
   "source": [
    "assert(test_pred.shape == test_targets.shape)\n",
    "test_accuracy = torch.sum(test_pred == test_targets).item() / test_pred.shape[0]\n",
    "print(f'Test  Accuracy = {test_accuracy:.4f}')"
   ]
  },
  {
   "cell_type": "markdown",
   "metadata": {},
   "source": [
    "Great! so our simple neural network already does a great job on our task. At this stage, we would do several things:\n",
    "\n",
    "* Look at the examples being classified incorrectly. Are these bad data examples? Would a person also have trouble classifying them?\n",
    "\n",
    "* Test stability - what happens if we rotate images? Translate them? Flip symmetric digits? What happens if we add some random noise to the pixel values?\n",
    "\n",
    "While we might add these to future iterations of this notebook, let's move on to some other architectural choices. One of the issues with flattening the input image is that of **locality**. Images have a notion of locality. If a pixel contains part of an object, its neighboring pixels are very likely to contain the same object. But when we flatten an image, we use all the pixels to map to each hidden node in the next layer. If we could impose locality by changing our layers, we might get much better performance.\n",
    "\n",
    "In addition, we would like image classification to be invariant to certain transformations like translation (move the digit up/down, left/right), scaling (zoom in and out without cropping the image), rotations (at least upto some angular width). Can we impose any of these by our choice of layers?\n",
    "\n",
    "The answer is yes! Convolutional layers are layers designed specifically to capture such locality and preserve translational invariance. There is a lot of material available describing what these are and we won't repeat it here. Instead, we'll repeat the training procedure above but with convolutional layers.\n",
    "\n",
    "FUTURE TODO: Add analysis of incorrectly predicted examples\n",
    "\n",
    "FUTURE TODO: add a notebook for image filters, convolutions etc."
   ]
  },
  {
   "cell_type": "markdown",
   "metadata": {},
   "source": [
    "Let's try a convolutional layer:\n",
    "\n",
    "nn.Conv2d\n",
    "\n",
    "which takes in the number of input channels (grayscale), number of output channels (we'll choose 20), kernel size (3x3) and run the transformations on some images."
   ]
  },
  {
   "cell_type": "code",
   "execution_count": 44,
   "metadata": {},
   "outputs": [],
   "source": [
    "idx, (data_example, target_example) = next(enumerate(train_dataloader))"
   ]
  },
  {
   "cell_type": "code",
   "execution_count": 45,
   "metadata": {},
   "outputs": [
    {
     "name": "stdout",
     "output_type": "stream",
     "text": [
      "torch.Size([16, 1, 28, 28])\n",
      "torch.Size([16, 20, 26, 26])\n"
     ]
    }
   ],
   "source": [
    "print(data_example.shape)\n",
    "print(nn.Conv2d(1, 20, 3)(data_example).shape)"
   ]
  },
  {
   "cell_type": "markdown",
   "metadata": {},
   "source": [
    "**Question**: If you do know what convolutions are and how filters work, justify these shapes."
   ]
  },
  {
   "cell_type": "markdown",
   "metadata": {},
   "source": [
    "The first dimension is the batch size which remains unchanged, as expected. In the raw data, the second dimension is the number of channels i.e. grayscale only and the last two dimensions are the size of the image - 28x28.\n",
    "\n",
    "We choose 20 channels which explains the output's second dimension. Each filter is 3x3 and since we have no padding, it can only process 26 patches in each dimension.\n",
    "\n",
    "If we label the pixels along the columns as 1, 2, ..., 28, the patch can be applied from pixels 1-3 (inclusive of both end-points), 2-5, ..., 26-28. After that, the patch \"falls off\" the image unless we apply some padding. This explains the dimension 26 in both directions."
   ]
  },
  {
   "cell_type": "markdown",
   "metadata": {},
   "source": [
    "We can then apply a ReLU activation to all these activations."
   ]
  },
  {
   "cell_type": "code",
   "execution_count": 46,
   "metadata": {},
   "outputs": [
    {
     "data": {
      "text/plain": [
       "torch.Size([16, 20, 26, 26])"
      ]
     },
     "execution_count": 46,
     "metadata": {},
     "output_type": "execute_result"
    }
   ],
   "source": [
    "(nn.ReLU()((nn.Conv2d(1, 20, 3)(data_example)))).shape"
   ]
  },
  {
   "cell_type": "markdown",
   "metadata": {},
   "source": [
    "We should also apply some kind of pooling or averaging now. This reduces noise by picking disjoint, consecutive patches on the image and replacing them by some aggregate statistic like max or mean."
   ]
  },
  {
   "cell_type": "code",
   "execution_count": 47,
   "metadata": {},
   "outputs": [
    {
     "data": {
      "text/plain": [
       "torch.Size([16, 20, 13, 13])"
      ]
     },
     "execution_count": 47,
     "metadata": {},
     "output_type": "execute_result"
    }
   ],
   "source": [
    "(nn.MaxPool2d(kernel_size=2)(nn.ReLU()((nn.Conv2d(1, 20, 3)(data_example))))).shape"
   ]
  },
  {
   "cell_type": "markdown",
   "metadata": {},
   "source": [
    "**A couple of notes**:\n",
    "\n",
    "* Pytorch's functions like nn.ReLU() and nn.MaxPool2d() return functions that can apply operations. So, nn.MaxPool2d(kernel_size=2) returns a function that is then applied to the argument above.\n",
    "\n",
    "* Chaining together the layers and activations and testing them out like above is very valuable as the first step in ensuring your network does what you want it to do.\n",
    "\n",
    "In general, we would suggest the following steps when you are expressing a new network architecture:\n",
    "\n",
    "* Build up your network using nn.Sequential if you are just assembling existing or user-defined layers, or by defining a new network class inheriting from nn.Module where you can define a custom forward function.\n",
    "\n",
    "* Pick a small tensor containing your features and pass it through each step/layer. Ensure the dimensions of the input and output tensors to each layer make sense.\n",
    "\n",
    "* Pick your loss and optimizer and train on a small batch. You should be able to overfit i.e. get almost zero loss on this small set. Neural networks are extremely flexible learners and if you can't overfit on a small batch, you either have a bug or need to add some more capacity (more nodes, more layers etc. -> more weights).\n",
    "\n",
    "* Now you should train on the full train set and practice the usual cross-validation practices.\n",
    "\n",
    "* Probe your model: add noise to the inputs, see where the model isn't performing well, make partial dependency plots etc. to understand characteristics of your model. This part can be very open-ended and it depends on what your final aim is. If you are building a model to predict the stock price so you can trade, you'll spend a lot of time in this step. If you are having fun predicting dogs vs cats, maybe you don't care so much. If your aim is to dive deeper into deep learning, looking at the weights, activations, effect of changing hyperparameters, removing edges/weights etc. are very valuable experiments."
   ]
  },
  {
   "cell_type": "markdown",
   "metadata": {},
   "source": [
    "So we have seen one iteration of applying a convolutional layer followed by a non-linearity and then a max pooling layer. We can add more and more of these elements. As you can see, at each step, we are increasing the number of channels increase but the size of the images decreases because of the convolutions and max pooling.\n",
    "\n",
    "**Question**: Feed a small batch through two sequences of Conv -> Relu -> Max pool. What is the output size now?"
   ]
  },
  {
   "cell_type": "code",
   "execution_count": 48,
   "metadata": {},
   "outputs": [
    {
     "name": "stdout",
     "output_type": "stream",
     "text": [
      "torch.Size([16, 1, 28, 28])\n",
      "torch.Size([16, 16, 13, 13])\n",
      "torch.Size([16, 32, 5, 5])\n",
      "torch.Size([16, 128, 1, 1])\n"
     ]
    }
   ],
   "source": [
    "print(data_example.shape)\n",
    "\n",
    "#1 channel in, 16 channels out\n",
    "out1 = nn.MaxPool2d(kernel_size=2)(nn.ReLU()((nn.Conv2d(1, 16, 3)(data_example))))\n",
    "print(out1.shape)\n",
    "\n",
    "#16 channels in, 32 channels out\n",
    "out2 = nn.MaxPool2d(kernel_size=2)(nn.ReLU()((nn.Conv2d(16, 32, 3)(out1))))\n",
    "print(out2.shape)\n",
    "\n",
    "#32 channels in, 128 channels out\n",
    "out3 = nn.MaxPool2d(kernel_size=2)(nn.ReLU()((nn.Conv2d(32, 128, 3)(out2))))\n",
    "print(out3.shape)"
   ]
  },
  {
   "cell_type": "markdown",
   "metadata": {},
   "source": [
    "Recall that we want the output layer to have 10 outputs. We can add a linear/dense layer to do that."
   ]
  },
  {
   "cell_type": "code",
   "execution_count": 49,
   "metadata": {},
   "outputs": [
    {
     "ename": "RuntimeError",
     "evalue": "size mismatch, m1: [2048 x 1], m2: [128 x 10] at /pytorch/aten/src/TH/generic/THTensorMath.cpp:961",
     "output_type": "error",
     "traceback": [
      "\u001b[0;31m---------------------------------------------------------------------------\u001b[0m",
      "\u001b[0;31mRuntimeError\u001b[0m                              Traceback (most recent call last)",
      "\u001b[0;32m<ipython-input-49-9d722413aea4>\u001b[0m in \u001b[0;36m<module>\u001b[0;34m\u001b[0m\n\u001b[0;32m----> 1\u001b[0;31m \u001b[0mnn\u001b[0m\u001b[0;34m.\u001b[0m\u001b[0mLinear\u001b[0m\u001b[0;34m(\u001b[0m\u001b[0;36m128\u001b[0m\u001b[0;34m,\u001b[0m \u001b[0;36m10\u001b[0m\u001b[0;34m)\u001b[0m\u001b[0;34m(\u001b[0m\u001b[0mout3\u001b[0m\u001b[0;34m)\u001b[0m\u001b[0;34m\u001b[0m\u001b[0;34m\u001b[0m\u001b[0m\n\u001b[0m",
      "\u001b[0;32m~/.local/lib/python3.7/site-packages/torch/nn/modules/module.py\u001b[0m in \u001b[0;36m__call__\u001b[0;34m(self, *input, **kwargs)\u001b[0m\n\u001b[1;32m    491\u001b[0m             \u001b[0mresult\u001b[0m \u001b[0;34m=\u001b[0m \u001b[0mself\u001b[0m\u001b[0;34m.\u001b[0m\u001b[0m_slow_forward\u001b[0m\u001b[0;34m(\u001b[0m\u001b[0;34m*\u001b[0m\u001b[0minput\u001b[0m\u001b[0;34m,\u001b[0m \u001b[0;34m**\u001b[0m\u001b[0mkwargs\u001b[0m\u001b[0;34m)\u001b[0m\u001b[0;34m\u001b[0m\u001b[0;34m\u001b[0m\u001b[0m\n\u001b[1;32m    492\u001b[0m         \u001b[0;32melse\u001b[0m\u001b[0;34m:\u001b[0m\u001b[0;34m\u001b[0m\u001b[0;34m\u001b[0m\u001b[0m\n\u001b[0;32m--> 493\u001b[0;31m             \u001b[0mresult\u001b[0m \u001b[0;34m=\u001b[0m \u001b[0mself\u001b[0m\u001b[0;34m.\u001b[0m\u001b[0mforward\u001b[0m\u001b[0;34m(\u001b[0m\u001b[0;34m*\u001b[0m\u001b[0minput\u001b[0m\u001b[0;34m,\u001b[0m \u001b[0;34m**\u001b[0m\u001b[0mkwargs\u001b[0m\u001b[0;34m)\u001b[0m\u001b[0;34m\u001b[0m\u001b[0;34m\u001b[0m\u001b[0m\n\u001b[0m\u001b[1;32m    494\u001b[0m         \u001b[0;32mfor\u001b[0m \u001b[0mhook\u001b[0m \u001b[0;32min\u001b[0m \u001b[0mself\u001b[0m\u001b[0;34m.\u001b[0m\u001b[0m_forward_hooks\u001b[0m\u001b[0;34m.\u001b[0m\u001b[0mvalues\u001b[0m\u001b[0;34m(\u001b[0m\u001b[0;34m)\u001b[0m\u001b[0;34m:\u001b[0m\u001b[0;34m\u001b[0m\u001b[0;34m\u001b[0m\u001b[0m\n\u001b[1;32m    495\u001b[0m             \u001b[0mhook_result\u001b[0m \u001b[0;34m=\u001b[0m \u001b[0mhook\u001b[0m\u001b[0;34m(\u001b[0m\u001b[0mself\u001b[0m\u001b[0;34m,\u001b[0m \u001b[0minput\u001b[0m\u001b[0;34m,\u001b[0m \u001b[0mresult\u001b[0m\u001b[0;34m)\u001b[0m\u001b[0;34m\u001b[0m\u001b[0;34m\u001b[0m\u001b[0m\n",
      "\u001b[0;32m~/.local/lib/python3.7/site-packages/torch/nn/modules/linear.py\u001b[0m in \u001b[0;36mforward\u001b[0;34m(self, input)\u001b[0m\n\u001b[1;32m     90\u001b[0m     \u001b[0;34m@\u001b[0m\u001b[0mweak_script_method\u001b[0m\u001b[0;34m\u001b[0m\u001b[0;34m\u001b[0m\u001b[0m\n\u001b[1;32m     91\u001b[0m     \u001b[0;32mdef\u001b[0m \u001b[0mforward\u001b[0m\u001b[0;34m(\u001b[0m\u001b[0mself\u001b[0m\u001b[0;34m,\u001b[0m \u001b[0minput\u001b[0m\u001b[0;34m)\u001b[0m\u001b[0;34m:\u001b[0m\u001b[0;34m\u001b[0m\u001b[0;34m\u001b[0m\u001b[0m\n\u001b[0;32m---> 92\u001b[0;31m         \u001b[0;32mreturn\u001b[0m \u001b[0mF\u001b[0m\u001b[0;34m.\u001b[0m\u001b[0mlinear\u001b[0m\u001b[0;34m(\u001b[0m\u001b[0minput\u001b[0m\u001b[0;34m,\u001b[0m \u001b[0mself\u001b[0m\u001b[0;34m.\u001b[0m\u001b[0mweight\u001b[0m\u001b[0;34m,\u001b[0m \u001b[0mself\u001b[0m\u001b[0;34m.\u001b[0m\u001b[0mbias\u001b[0m\u001b[0;34m)\u001b[0m\u001b[0;34m\u001b[0m\u001b[0;34m\u001b[0m\u001b[0m\n\u001b[0m\u001b[1;32m     93\u001b[0m \u001b[0;34m\u001b[0m\u001b[0m\n\u001b[1;32m     94\u001b[0m     \u001b[0;32mdef\u001b[0m \u001b[0mextra_repr\u001b[0m\u001b[0;34m(\u001b[0m\u001b[0mself\u001b[0m\u001b[0;34m)\u001b[0m\u001b[0;34m:\u001b[0m\u001b[0;34m\u001b[0m\u001b[0;34m\u001b[0m\u001b[0m\n",
      "\u001b[0;32m~/.local/lib/python3.7/site-packages/torch/nn/functional.py\u001b[0m in \u001b[0;36mlinear\u001b[0;34m(input, weight, bias)\u001b[0m\n\u001b[1;32m   1406\u001b[0m         \u001b[0mret\u001b[0m \u001b[0;34m=\u001b[0m \u001b[0mtorch\u001b[0m\u001b[0;34m.\u001b[0m\u001b[0maddmm\u001b[0m\u001b[0;34m(\u001b[0m\u001b[0mbias\u001b[0m\u001b[0;34m,\u001b[0m \u001b[0minput\u001b[0m\u001b[0;34m,\u001b[0m \u001b[0mweight\u001b[0m\u001b[0;34m.\u001b[0m\u001b[0mt\u001b[0m\u001b[0;34m(\u001b[0m\u001b[0;34m)\u001b[0m\u001b[0;34m)\u001b[0m\u001b[0;34m\u001b[0m\u001b[0;34m\u001b[0m\u001b[0m\n\u001b[1;32m   1407\u001b[0m     \u001b[0;32melse\u001b[0m\u001b[0;34m:\u001b[0m\u001b[0;34m\u001b[0m\u001b[0;34m\u001b[0m\u001b[0m\n\u001b[0;32m-> 1408\u001b[0;31m         \u001b[0moutput\u001b[0m \u001b[0;34m=\u001b[0m \u001b[0minput\u001b[0m\u001b[0;34m.\u001b[0m\u001b[0mmatmul\u001b[0m\u001b[0;34m(\u001b[0m\u001b[0mweight\u001b[0m\u001b[0;34m.\u001b[0m\u001b[0mt\u001b[0m\u001b[0;34m(\u001b[0m\u001b[0;34m)\u001b[0m\u001b[0;34m)\u001b[0m\u001b[0;34m\u001b[0m\u001b[0;34m\u001b[0m\u001b[0m\n\u001b[0m\u001b[1;32m   1409\u001b[0m         \u001b[0;32mif\u001b[0m \u001b[0mbias\u001b[0m \u001b[0;32mis\u001b[0m \u001b[0;32mnot\u001b[0m \u001b[0;32mNone\u001b[0m\u001b[0;34m:\u001b[0m\u001b[0;34m\u001b[0m\u001b[0;34m\u001b[0m\u001b[0m\n\u001b[1;32m   1410\u001b[0m             \u001b[0moutput\u001b[0m \u001b[0;34m+=\u001b[0m \u001b[0mbias\u001b[0m\u001b[0;34m\u001b[0m\u001b[0;34m\u001b[0m\u001b[0m\n",
      "\u001b[0;31mRuntimeError\u001b[0m: size mismatch, m1: [2048 x 1], m2: [128 x 10] at /pytorch/aten/src/TH/generic/THTensorMath.cpp:961"
     ]
    }
   ],
   "source": [
    "nn.Linear(128, 10)(out3)"
   ]
  },
  {
   "cell_type": "markdown",
   "metadata": {},
   "source": [
    "**Question**: Debug and fix this error. Hint: look at dimensions."
   ]
  },
  {
   "cell_type": "code",
   "execution_count": 50,
   "metadata": {},
   "outputs": [
    {
     "data": {
      "text/plain": [
       "torch.Size([16, 10])"
      ]
     },
     "execution_count": 50,
     "metadata": {},
     "output_type": "execute_result"
    }
   ],
   "source": [
    "nn.Linear(128, 10)(Flatten()(out3)).shape"
   ]
  },
  {
   "cell_type": "markdown",
   "metadata": {},
   "source": [
    "It's time to put all these elements together."
   ]
  },
  {
   "cell_type": "code",
   "execution_count": 51,
   "metadata": {},
   "outputs": [],
   "source": [
    "#ARCHITECTURE\n",
    "image_conv_net = nn.Sequential(nn.Conv2d(1, 16, 3),\n",
    "                               nn.ReLU(),\n",
    "                               nn.MaxPool2d(kernel_size=2),\n",
    "                               \n",
    "                               nn.Conv2d(16, 64, 3),\n",
    "                               nn.ReLU(),\n",
    "                               nn.MaxPool2d(kernel_size=2),\n",
    "\n",
    "                               nn.Conv2d(64, 128, 3),\n",
    "                               nn.ReLU(),\n",
    "                               nn.MaxPool2d(kernel_size=2),\n",
    "                                                  \n",
    "                               Flatten(),\n",
    "                               nn.Linear(128, 10)\n",
    "                            )\n",
    "\n",
    "#LOSS CRITERION and OPTIMIZER\n",
    "criterion = nn.CrossEntropyLoss() #ensure no softmax in the last layer above\n",
    "optimizer = optim.Adam(image_conv_net.parameters(), lr=1e-2)\n",
    "\n",
    "#DATALOADERS\n",
    "BATCH_SIZE = 16\n",
    "\n",
    "train_dataloader = torch.utils.data.DataLoader(mnist_train, \n",
    "                                               batch_size=BATCH_SIZE, \n",
    "                                               shuffle=True, #shuffle data\n",
    "                                               num_workers=8,\n",
    "                                               pin_memory=True\n",
    "                                             )\n",
    "test_dataloader = torch.utils.data.DataLoader(mnist_test, \n",
    "                                              batch_size=BATCH_SIZE, \n",
    "                                              shuffle=True, #shuffle data\n",
    "                                              num_workers=8,\n",
    "                                              pin_memory=True\n",
    "                                             )"
   ]
  },
  {
   "cell_type": "markdown",
   "metadata": {},
   "source": [
    "Train the model. Ideally, write a function so we don't have to repeat this cell again."
   ]
  },
  {
   "cell_type": "code",
   "execution_count": 52,
   "metadata": {},
   "outputs": [],
   "source": [
    "def train_image_model(model, train_dataloader, loss_criterion, optimizer, N_epochs = 20):\n",
    "    model.train() #don't worry about this (for this notebook)\n",
    "    model.to(device)\n",
    "    \n",
    "    for epoch in range(N_epochs):\n",
    "        loss_list = []\n",
    "        for idx, (data_example, data_target) in enumerate(train_dataloader):\n",
    "            data_example = data_example.to(device)\n",
    "            data_target = data_target.to(device)\n",
    "\n",
    "            pred = model(data_example)\n",
    "\n",
    "            loss = loss_criterion(pred, data_target)\n",
    "\n",
    "            optimizer.zero_grad()\n",
    "            loss.backward()\n",
    "            optimizer.step()\n",
    "\n",
    "            loss_list.append(loss.item())\n",
    "\n",
    "        if epoch % 5 == 0:        \n",
    "            print(f'Epoch = {epoch} Loss = {np.mean(loss_list)}')    \n",
    "            \n",
    "    return model"
   ]
  },
  {
   "cell_type": "code",
   "execution_count": 53,
   "metadata": {},
   "outputs": [
    {
     "name": "stdout",
     "output_type": "stream",
     "text": [
      "Epoch = 0 Loss = 0.8495251350800196\n",
      "Epoch = 5 Loss = 0.23720959245165188\n",
      "Epoch = 10 Loss = 0.18100028269489607\n",
      "Epoch = 15 Loss = 0.165368815228343\n"
     ]
    }
   ],
   "source": [
    "image_conv_net = train_image_model(image_conv_net,\n",
    "                                   train_dataloader,\n",
    "                                   criterion,\n",
    "                                   optimizer)"
   ]
  },
  {
   "cell_type": "markdown",
   "metadata": {},
   "source": [
    "Let's also add a function to do inference and compute accuracy"
   ]
  },
  {
   "cell_type": "code",
   "execution_count": 54,
   "metadata": {},
   "outputs": [],
   "source": [
    "def predict_image_model(model, dataloader):\n",
    "    pred, targets = torch.tensor([]), torch.tensor([])\n",
    "    \n",
    "    with torch.no_grad(): #context manager for inference since we don't need the memory footprint of gradients\n",
    "        for idx, (data_example, data_target) in enumerate(dataloader):\n",
    "            data_example = data_example.to(device)\n",
    "\n",
    "            #make predictions\n",
    "            label_pred = model(data_example).argmax(dim=1).float()\n",
    "\n",
    "            #concat and store both predictions and targets\n",
    "            label_pred = label_pred.to('cpu')\n",
    "            \n",
    "            pred = torch.cat((pred, label_pred))\n",
    "            targets = torch.cat((targets, data_target.float()))\n",
    "            \n",
    "    return pred, targets"
   ]
  },
  {
   "cell_type": "code",
   "execution_count": 55,
   "metadata": {},
   "outputs": [],
   "source": [
    "train_pred, train_targets = predict_image_model(image_conv_net, train_dataloader)\n",
    "test_pred, test_targets = predict_image_model(image_conv_net, test_dataloader)"
   ]
  },
  {
   "cell_type": "code",
   "execution_count": 56,
   "metadata": {},
   "outputs": [
    {
     "name": "stdout",
     "output_type": "stream",
     "text": [
      "Train Accuracy = 0.9653\n",
      "Test  Accuracy = 0.9240\n"
     ]
    }
   ],
   "source": [
    "assert(train_pred.shape == train_targets.shape)\n",
    "train_accuracy = torch.sum(train_pred == train_targets).item() / train_pred.shape[0]\n",
    "print(f'Train Accuracy = {train_accuracy:.4f}')\n",
    "\n",
    "assert(test_pred.shape == test_targets.shape)\n",
    "test_accuracy = torch.sum(test_pred == test_targets).item() / test_pred.shape[0]\n",
    "print(f'Test  Accuracy = {test_accuracy:.4f}')"
   ]
  },
  {
   "cell_type": "markdown",
   "metadata": {},
   "source": [
    "In my case, the test accuracy went from 96.89% to 97.28%. You might see different numbers due to random initialization of weights and different stochastic batches. Is this significant?\n",
    "\n",
    "**Note**: If you chose a small sample of the data, a convolutional neural net might actually do worse than the feed-forward network.\n",
    "\n",
    "**Question**: Do you think the increase in accuracy is significant? Justify your answer."
   ]
  },
  {
   "cell_type": "markdown",
   "metadata": {},
   "source": [
    "We have 10,000 examples in the test set. With the feed-forward network, we predicted 9728 examples correctly and with the convolutional net, we predicted 9840 correctly.\n",
    "\n",
    "We can treat the model as a binomial distribution. Recall the binomial distribution describes the number of heads one gets on a coin which has probability $p$ of giving heads and $1-p$ of giving tails if the coin is tossed $N$ times. More formally, the average number of heads will be:\n",
    "\n",
    "$$Np$$\n",
    "\n",
    "and the standard deviation is:\n",
    "\n",
    "$$\\sqrt{Np(1-p)}$$\n",
    "\n",
    "We'll do a rough back-of-the-envelope calculation. Suppose the true $p$ is what our feed-forward network gave us i.e. $p = 0.9728$ and $N = 10,000$.\n",
    "\n",
    "Then, the standard deviation is:\n",
    "\n",
    "$$\\sqrt{10000 * 0.9728 * (1-0.9728)} \\approx 17$$\n",
    "\n",
    "So, to go from 9728 to 9840, we would need ~6.6 standard deviations which is very unlikely. This strongly suggests that the convolutional neural net does give us a significant boost in accuracy as we expected.\n",
    "\n",
    "You can get a sense of the state-of-the-art on MNIST here: http://yann.lecun.com/exdb/mnist/\n",
    "\n",
    "Note: MNIST is generally considered a \"solved\" dataset i.e. it is no longer and hasn't been for a few years, challenging enough as a benchmark for image classification models. You can check out more datasets (CIFAR, Imagenet etc., MNIST on Kannada characters, fashion MNIST etc.) in torchvision.datasets."
   ]
  },
  {
   "cell_type": "markdown",
   "metadata": {},
   "source": [
    "**A note about preprocessing**: Image pixels takes values between 0 and 255 (inclusive). In the MNIST data here, all the values are scaled down to be between 0 and 1 by dividing by 255. Often it is helpful to subtract the mean for each pixel to help gradient descent converge faster. As an **exercise**, it is highly encouraged to re-train both the feed-forward and convolutional network with zero-mean images.\n",
    "\n",
    "Ensure that the means are computed only on the train set and applied to the test set."
   ]
  },
  {
   "cell_type": "markdown",
   "metadata": {},
   "source": [
    "#### Autoencoders"
   ]
  },
  {
   "cell_type": "markdown",
   "metadata": {},
   "source": [
    "We have come a long way but there's still a lot more to do and see. While we have a lot of labelled data, the vast majority of data is unlabelled. There can be various reasons for this. It might be hard to find experts who can label the data or it is very expensive to do so. So another question is whether we can learn something about a dataset without labels. This is a very broad and difficult field called **unsupervised learning** but we can explore it a bit."
   ]
  },
  {
   "cell_type": "markdown",
   "metadata": {},
   "source": [
    "Suppose we had the MNIST images but no labels. We can no longer build a classification model with it. But we would still like to see if there are broad categories or groups or clusters within the data. Now, we didn't cover techniques like K-means clustering this week but they are definitely an option here. Since this is a class on deep learning, we want to use neural networks.\n",
    "\n",
    "One option is to use networks called **autoencoders**. Since we can't use the labels, we'll instead predict the image itself! In other words, the network takes an image as an input and tries to predict it again. This is the identity mapping:\n",
    "\n",
    "$$i(x) = x$$\n",
    "\n",
    "The trick is to force the network to compress the input. In other words, if we have 784 pixels in the input (and the output), we want the hidden layers to use far less than 784 values. Let's try this."
   ]
  },
  {
   "cell_type": "markdown",
   "metadata": {},
   "source": [
    "**Note**: I am being sloppy here by pasting the same training code several times. Ideally, I would abstract away the training and inference pieces in functions inside a module."
   ]
  },
  {
   "cell_type": "code",
   "execution_count": 57,
   "metadata": {},
   "outputs": [],
   "source": [
    "#convert 28x28 image -> 784-dimensional flattened vector\n",
    "#redefining for convenience\n",
    "class Flatten(nn.Module):\n",
    "    def __init__(self):\n",
    "        super(Flatten, self).__init__()\n",
    "        \n",
    "    def forward(self, inp):\n",
    "        return inp.flatten(start_dim=1, end_dim=-1)"
   ]
  },
  {
   "cell_type": "code",
   "execution_count": 58,
   "metadata": {},
   "outputs": [],
   "source": [
    "class AE(nn.Module):\n",
    "    def __init__(self, N_input, N_hidden_nodes):\n",
    "        super(AE, self).__init__()\n",
    "        \n",
    "        self.net = nn.Sequential(Flatten(),\n",
    "                                 nn.Linear(N_input, N_hidden_nodes),\n",
    "                                 nn.ReLU(),\n",
    "                                 nn.Linear(N_hidden_nodes, N_input),\n",
    "                                 nn.Sigmoid()\n",
    "                                )\n",
    "        \n",
    "    def forward(self, inp):\n",
    "        out = self.net(inp)\n",
    "        \n",
    "        out = out.view(-1, 28, 28).unsqueeze(1) #return [BATCH_SIZE, 1, 28, 28]\n",
    "        \n",
    "        return out"
   ]
  },
  {
   "cell_type": "code",
   "execution_count": 59,
   "metadata": {},
   "outputs": [],
   "source": [
    "image_ff_ae = AE(784, 50) #we are choosing 50 hidden activations"
   ]
  },
  {
   "cell_type": "code",
   "execution_count": 60,
   "metadata": {},
   "outputs": [],
   "source": [
    "_, (data_example, _) = next(enumerate(train_dataloader))"
   ]
  },
  {
   "cell_type": "code",
   "execution_count": 61,
   "metadata": {},
   "outputs": [
    {
     "name": "stdout",
     "output_type": "stream",
     "text": [
      "torch.Size([16, 1, 28, 28])\n",
      "torch.Size([16, 1, 28, 28])\n"
     ]
    }
   ],
   "source": [
    "print(data_example.shape)\n",
    "print(image_ff_ae(data_example).shape)"
   ]
  },
  {
   "cell_type": "code",
   "execution_count": 62,
   "metadata": {},
   "outputs": [],
   "source": [
    "criterion = nn.MSELoss()\n",
    "optimizer = optim.Adam(image_ff_ae.parameters(), lr=1e-2)"
   ]
  },
  {
   "cell_type": "code",
   "execution_count": 63,
   "metadata": {},
   "outputs": [
    {
     "data": {
      "text/plain": [
       "tensor(0.2326, grad_fn=<MseLossBackward>)"
      ]
     },
     "execution_count": 63,
     "metadata": {},
     "output_type": "execute_result"
    }
   ],
   "source": [
    "criterion(image_ff_ae(data_example), data_example)"
   ]
  },
  {
   "cell_type": "code",
   "execution_count": 64,
   "metadata": {},
   "outputs": [],
   "source": [
    "def train_image_ae(model, train_dataloader, loss_criterion, optimizer, N_epochs = 20):\n",
    "    model.train() #don't worry about this (for this notebook)\n",
    "    model.to(device)\n",
    "    \n",
    "    for epoch in range(N_epochs):\n",
    "        loss_list = []\n",
    "        for idx, (data_example, _) in enumerate(train_dataloader):\n",
    "            #Note we don't need the targets/labels here anymore!\n",
    "            data_example = data_example.to(device)\n",
    "\n",
    "            pred = model(data_example)\n",
    "\n",
    "            loss = loss_criterion(pred, data_example)\n",
    "\n",
    "            optimizer.zero_grad()\n",
    "            loss.backward()\n",
    "            optimizer.step()\n",
    "\n",
    "            loss_list.append(loss.item())\n",
    "\n",
    "        if epoch % 5 == 0:        \n",
    "            print(f'Epoch = {epoch} Loss = {np.mean(loss_list)}')    \n",
    "            \n",
    "    return model"
   ]
  },
  {
   "cell_type": "code",
   "execution_count": 65,
   "metadata": {},
   "outputs": [
    {
     "name": "stdout",
     "output_type": "stream",
     "text": [
      "Epoch = 0 Loss = 0.03667376519739628\n",
      "Epoch = 5 Loss = 0.01722230292111635\n",
      "Epoch = 10 Loss = 0.016654866362611452\n",
      "Epoch = 15 Loss = 0.016621768022576967\n"
     ]
    }
   ],
   "source": [
    "image_ff_ae = train_image_ae(image_ff_ae, train_dataloader, criterion, optimizer, N_epochs=20)"
   ]
  },
  {
   "cell_type": "markdown",
   "metadata": {},
   "source": [
    "Let's look at a few examples of outputs of our autoencoder."
   ]
  },
  {
   "cell_type": "code",
   "execution_count": 66,
   "metadata": {},
   "outputs": [],
   "source": [
    "image_ff_ae.to('cpu')\n",
    "output_ae = image_ff_ae(data_example)"
   ]
  },
  {
   "cell_type": "code",
   "execution_count": 67,
   "metadata": {},
   "outputs": [
    {
     "data": {
      "text/plain": [
       "<matplotlib.image.AxesImage at 0x7fb43bc641d0>"
      ]
     },
     "execution_count": 67,
     "metadata": {},
     "output_type": "execute_result"
    },
    {
     "data": {
      "image/png": "[encoded data removed]",
      "text/plain": [
       "<Figure size 432x288 with 1 Axes>"
      ]
     },
     "metadata": {
      "needs_background": "light"
     },
     "output_type": "display_data"
    },
    {
     "data": {
      "image/png": "[encoded data removed]",
      "text/plain": [
       "<Figure size 432x288 with 1 Axes>"
      ]
     },
     "metadata": {
      "needs_background": "light"
     },
     "output_type": "display_data"
    }
   ],
   "source": [
    "idx = 15 #change this to see different examples\n",
    "\n",
    "plt.figure()\n",
    "plt.imshow(data_example[idx][0].detach().numpy())\n",
    "\n",
    "plt.figure()\n",
    "plt.imshow(output_ae[idx][0].detach().numpy())"
   ]
  },
  {
   "cell_type": "markdown",
   "metadata": {},
   "source": [
    "So, great - we have a neural network that can predict the input from the input. Is this useful? Recall that we had an intermediate layer that had 50 activations. Feel free to change this number around and see what happens.\n",
    "\n",
    "We are compressing 784 pixel values into 50 activations and then reconstructing the image from those 50 values. In other words, we are forcing the neural network to capture only relevant non-linear features that can help it remember what image the input was.\n",
    "\n",
    "The compression is not perfect as you can see in the reconstructed image above but it's pretty good. Training for more time or better training methods might improve this.\n",
    "\n",
    "So how exactly is this useful. Maybe:\n",
    "\n",
    "* Using an autoencoder to do lossy compression. Image storing the 50 activations instead of each image and storing the last layer (the \"decoder\") that constructs the image from the 50 activations.\n",
    "\n",
    "* For search: suppose we wanted to search for a target image in a database of N images. We could do N pixel-by-pixel matches but these won't work because even a slight change in position or orientation or pixel intensities will give misleading distances between images. But if we use the vector of intermediate (50, in this case) activations, then maybe we can do a search in the space of activations. Let's try that."
   ]
  },
  {
   "cell_type": "code",
   "execution_count": 68,
   "metadata": {},
   "outputs": [
    {
     "name": "stdout",
     "output_type": "stream",
     "text": [
      "torch.Size([6000, 28, 28])\n"
     ]
    }
   ],
   "source": [
    "#full mnist data\n",
    "print(mnist_train.data.float().shape)"
   ]
  },
  {
   "cell_type": "markdown",
   "metadata": {},
   "source": [
    "Generally it's a good idea to split the forward function into an encoder and decoder function. Here we do it explicitly."
   ]
  },
  {
   "cell_type": "code",
   "execution_count": 69,
   "metadata": {},
   "outputs": [
    {
     "data": {
      "text/plain": [
       "Sequential(\n",
       "  (0): Flatten()\n",
       "  (1): Linear(in_features=784, out_features=50, bias=True)\n",
       "  (2): ReLU()\n",
       "  (3): Linear(in_features=50, out_features=784, bias=True)\n",
       "  (4): Sigmoid()\n",
       ")"
      ]
     },
     "execution_count": 69,
     "metadata": {},
     "output_type": "execute_result"
    }
   ],
   "source": [
    "image_ff_ae.net"
   ]
  },
  {
   "cell_type": "markdown",
   "metadata": {},
   "source": [
    "Compute the activations after the hidden relu"
   ]
  },
  {
   "cell_type": "code",
   "execution_count": 70,
   "metadata": {},
   "outputs": [],
   "source": [
    "with torch.no_grad():\n",
    "    mnist_ae_act = image_ff_ae.net[2](image_ff_ae.net[1](image_ff_ae.net[0](mnist_train.data.float())))"
   ]
  },
  {
   "cell_type": "code",
   "execution_count": 71,
   "metadata": {},
   "outputs": [
    {
     "data": {
      "text/plain": [
       "torch.Size([6000, 50])"
      ]
     },
     "execution_count": 71,
     "metadata": {},
     "output_type": "execute_result"
    }
   ],
   "source": [
    "mnist_ae_act.shape"
   ]
  },
  {
   "cell_type": "markdown",
   "metadata": {},
   "source": [
    "Let's pick some example image"
   ]
  },
  {
   "cell_type": "code",
   "execution_count": 72,
   "metadata": {},
   "outputs": [
    {
     "data": {
      "text/plain": [
       "<matplotlib.image.AxesImage at 0x7fb43bb6ddd0>"
      ]
     },
     "execution_count": 72,
     "metadata": {},
     "output_type": "execute_result"
    },
    {
     "data": {
      "image/png": "[encoded data removed]",
      "text/plain": [
       "<Figure size 432x288 with 1 Axes>"
      ]
     },
     "metadata": {
      "needs_background": "light"
     },
     "output_type": "display_data"
    }
   ],
   "source": [
    "img_idx = 15 #between 0 and 60000-1\n",
    "\n",
    "plt.imshow(mnist_train.data[img_idx])"
   ]
  },
  {
   "cell_type": "markdown",
   "metadata": {},
   "source": [
    "Get the target image activation"
   ]
  },
  {
   "cell_type": "code",
   "execution_count": 73,
   "metadata": {},
   "outputs": [],
   "source": [
    "target_img_act = mnist_ae_act[img_idx]"
   ]
  },
  {
   "cell_type": "code",
   "execution_count": 74,
   "metadata": {},
   "outputs": [
    {
     "data": {
      "text/plain": [
       "tensor([   0.0000,    0.0000,  344.1409,    0.0000, 1460.8500,  817.6396,\n",
       "           0.0000,    0.0000,    0.0000,  780.8979,    0.0000,    0.0000,\n",
       "         704.9445,    0.0000,    0.0000,  476.1716,  292.7066,    0.0000,\n",
       "         599.8943,    0.0000,    0.0000,    0.0000,    0.0000,    0.0000,\n",
       "        1457.6251,    0.0000, 2844.3250,    0.0000,    0.0000,    0.0000,\n",
       "         605.9978,   61.5421,    0.0000, 2161.3923,    0.0000,    0.0000,\n",
       "           0.0000,    0.0000,  438.2827,  369.7802,    0.0000,    0.0000,\n",
       "           0.0000,  709.2001,    0.0000,  717.5428,  414.9775,  412.0234,\n",
       "         483.0129,    0.0000])"
      ]
     },
     "execution_count": 74,
     "metadata": {},
     "output_type": "execute_result"
    }
   ],
   "source": [
    "target_img_act"
   ]
  },
  {
   "cell_type": "markdown",
   "metadata": {},
   "source": [
    "We will use the cosine distance between two vectors to find the nearest neighbors. \n",
    "\n",
    "**Question**: Can you think of an elegant matrix-operation way of implementing this (so it can also run on a GPU)?\n",
    "\n",
    "**Warning**: Always keep an eye out for memory usage. The full matrix of pairwise distances can be very large. Work with a subset of the data (even 100 images) if that's the case."
   ]
  },
  {
   "cell_type": "code",
   "execution_count": 75,
   "metadata": {},
   "outputs": [],
   "source": [
    "#to save memory, look at only first N images (1000 here)\n",
    "mnist_ae_act = mnist_ae_act[0:1000, :]"
   ]
  },
  {
   "cell_type": "markdown",
   "metadata": {},
   "source": [
    "The cosine distance between two points, $\\vec{x}_i, \\vec{x}_j$ is:\n",
    "\n",
    "$$d_{ij} = \\frac{\\vec{x}_i . \\vec{x}_j}{\\lVert \\vec{x}_i \\rVert \\lVert \\vec{x}_j \\rVert}$$\n",
    "\n",
    "Now we can first normalize all the actiation vector so they have length 1."
   ]
  },
  {
   "cell_type": "code",
   "execution_count": 76,
   "metadata": {},
   "outputs": [
    {
     "data": {
      "text/plain": [
       "torch.Size([1000])"
      ]
     },
     "execution_count": 76,
     "metadata": {},
     "output_type": "execute_result"
    }
   ],
   "source": [
    "torch.pow(mnist_ae_act, 2).sum(dim=1).shape"
   ]
  },
  {
   "cell_type": "markdown",
   "metadata": {},
   "source": [
    "We can't divide a tensor of shape [60000, 50] (activations) by a tensor of shape [60000].\n",
    "\n",
    "So first we have to unsqueeze (add an additional dimension) to get a shape [60000,1] and then broadcast/expand as the target tensor.\n",
    "\n",
    "We should check that the first row contains the length of the first image's activations."
   ]
  },
  {
   "cell_type": "code",
   "execution_count": 77,
   "metadata": {},
   "outputs": [
    {
     "data": {
      "text/plain": [
       "tensor([[14569491., 14569491., 14569491.,  ..., 14569491., 14569491.,\n",
       "         14569491.],\n",
       "        [26621508., 26621508., 26621508.,  ..., 26621508., 26621508.,\n",
       "         26621508.],\n",
       "        [44020636., 44020636., 44020636.,  ..., 44020636., 44020636.,\n",
       "         44020636.],\n",
       "        ...,\n",
       "        [15814138., 15814138., 15814138.,  ..., 15814138., 15814138.,\n",
       "         15814138.],\n",
       "        [19887868., 19887868., 19887868.,  ..., 19887868., 19887868.,\n",
       "         19887868.],\n",
       "        [44205368., 44205368., 44205368.,  ..., 44205368., 44205368.,\n",
       "         44205368.]])"
      ]
     },
     "execution_count": 77,
     "metadata": {},
     "output_type": "execute_result"
    }
   ],
   "source": [
    "torch.pow(mnist_ae_act, 2).sum(dim=1).unsqueeze(1).expand_as(mnist_ae_act)"
   ]
  },
  {
   "cell_type": "markdown",
   "metadata": {},
   "source": [
    "Now we can divide by the norm (don't forget the sqrt)."
   ]
  },
  {
   "cell_type": "code",
   "execution_count": 78,
   "metadata": {},
   "outputs": [],
   "source": [
    "mnist_ae_act_norm = mnist_ae_act / torch.pow(torch.pow(mnist_ae_act, 2).sum(dim=1).unsqueeze(1).expand_as(mnist_ae_act), 0.5)"
   ]
  },
  {
   "cell_type": "markdown",
   "metadata": {},
   "source": [
    "Let's check an example."
   ]
  },
  {
   "cell_type": "code",
   "execution_count": 79,
   "metadata": {},
   "outputs": [
    {
     "data": {
      "text/plain": [
       "tensor([   0.0000,    0.0000,    0.0000,    0.0000, 1373.7821, 1806.4620,\n",
       "           0.0000,    0.0000,    0.0000, 1539.6263,    0.0000,    0.0000,\n",
       "         732.2988,    0.0000,    0.0000, 1489.2239,  389.7503,  425.1606,\n",
       "         990.7882,    0.0000,    0.0000,    0.0000,    0.0000, 1432.6848,\n",
       "        1173.0520,    0.0000,  909.7496,    0.0000,    0.0000,    0.0000,\n",
       "           0.0000,  701.1577,    0.0000,  477.3211,    0.0000,    0.0000,\n",
       "           0.0000,    0.0000, 1125.9907, 1101.0918,    0.0000,    0.0000,\n",
       "           0.0000, 1666.0519,  129.9131,    0.0000,   12.4162, 1514.1362,\n",
       "        1475.1205,    0.0000])"
      ]
     },
     "execution_count": 79,
     "metadata": {},
     "output_type": "execute_result"
    }
   ],
   "source": [
    "mnist_ae_act[10]"
   ]
  },
  {
   "cell_type": "code",
   "execution_count": 80,
   "metadata": {},
   "outputs": [
    {
     "data": {
      "text/plain": [
       "tensor(5129.0112)"
      ]
     },
     "execution_count": 80,
     "metadata": {},
     "output_type": "execute_result"
    }
   ],
   "source": [
    "torch.pow(torch.pow(mnist_ae_act[10], 2).sum(), 0.5)"
   ]
  },
  {
   "cell_type": "code",
   "execution_count": 81,
   "metadata": {},
   "outputs": [
    {
     "data": {
      "text/plain": [
       "tensor([0.0000, 0.0000, 0.0000, 0.0000, 0.2678, 0.3522, 0.0000, 0.0000, 0.0000,\n",
       "        0.3002, 0.0000, 0.0000, 0.1428, 0.0000, 0.0000, 0.2904, 0.0760, 0.0829,\n",
       "        0.1932, 0.0000, 0.0000, 0.0000, 0.0000, 0.2793, 0.2287, 0.0000, 0.1774,\n",
       "        0.0000, 0.0000, 0.0000, 0.0000, 0.1367, 0.0000, 0.0931, 0.0000, 0.0000,\n",
       "        0.0000, 0.0000, 0.2195, 0.2147, 0.0000, 0.0000, 0.0000, 0.3248, 0.0253,\n",
       "        0.0000, 0.0024, 0.2952, 0.2876, 0.0000])"
      ]
     },
     "execution_count": 81,
     "metadata": {},
     "output_type": "execute_result"
    }
   ],
   "source": [
    "mnist_ae_act[10] / torch.pow(torch.pow(mnist_ae_act[10], 2).sum(), 0.5)"
   ]
  },
  {
   "cell_type": "code",
   "execution_count": 82,
   "metadata": {},
   "outputs": [
    {
     "data": {
      "text/plain": [
       "tensor([0.0000, 0.0000, 0.0000, 0.0000, 0.2678, 0.3522, 0.0000, 0.0000, 0.0000,\n",
       "        0.3002, 0.0000, 0.0000, 0.1428, 0.0000, 0.0000, 0.2904, 0.0760, 0.0829,\n",
       "        0.1932, 0.0000, 0.0000, 0.0000, 0.0000, 0.2793, 0.2287, 0.0000, 0.1774,\n",
       "        0.0000, 0.0000, 0.0000, 0.0000, 0.1367, 0.0000, 0.0931, 0.0000, 0.0000,\n",
       "        0.0000, 0.0000, 0.2195, 0.2147, 0.0000, 0.0000, 0.0000, 0.3248, 0.0253,\n",
       "        0.0000, 0.0024, 0.2952, 0.2876, 0.0000])"
      ]
     },
     "execution_count": 82,
     "metadata": {},
     "output_type": "execute_result"
    }
   ],
   "source": [
    "mnist_ae_act_norm[10]"
   ]
  },
  {
   "cell_type": "markdown",
   "metadata": {},
   "source": [
    "Good! They are the same. We have confidence that we are normalizing the activation vectors correctly."
   ]
  },
  {
   "cell_type": "markdown",
   "metadata": {},
   "source": [
    "So now the cosine distance is:\n",
    "\n",
    "$$d_{ij} = \\vec{x}_i . \\vec{x}_j$$\n",
    "\n",
    "since all the vectors are of unit length.\n",
    "\n",
    "**Question**: How would you compute this using matrix operations?"
   ]
  },
  {
   "cell_type": "code",
   "execution_count": 83,
   "metadata": {},
   "outputs": [
    {
     "data": {
      "text/plain": [
       "torch.Size([50, 1000])"
      ]
     },
     "execution_count": 83,
     "metadata": {},
     "output_type": "execute_result"
    }
   ],
   "source": [
    "mnist_ae_act_norm.transpose(1, 0).shape"
   ]
  },
  {
   "cell_type": "code",
   "execution_count": 84,
   "metadata": {},
   "outputs": [
    {
     "data": {
      "text/plain": [
       "torch.Size([1000, 50])"
      ]
     },
     "execution_count": 84,
     "metadata": {},
     "output_type": "execute_result"
    }
   ],
   "source": [
    "mnist_ae_act_norm.shape"
   ]
  },
  {
   "cell_type": "code",
   "execution_count": 85,
   "metadata": {},
   "outputs": [],
   "source": [
    "ae_pairwise_cosine = torch.mm(mnist_ae_act_norm, mnist_ae_act_norm.transpose(1,0))"
   ]
  },
  {
   "cell_type": "code",
   "execution_count": 86,
   "metadata": {},
   "outputs": [
    {
     "data": {
      "text/plain": [
       "torch.Size([1000, 1000])"
      ]
     },
     "execution_count": 86,
     "metadata": {},
     "output_type": "execute_result"
    }
   ],
   "source": [
    "ae_pairwise_cosine.shape"
   ]
  },
  {
   "cell_type": "code",
   "execution_count": 87,
   "metadata": {},
   "outputs": [
    {
     "data": {
      "text/plain": [
       "torch.Size([1000])"
      ]
     },
     "execution_count": 87,
     "metadata": {},
     "output_type": "execute_result"
    }
   ],
   "source": [
    "ae_pairwise_cosine[0].shape"
   ]
  },
  {
   "cell_type": "code",
   "execution_count": 88,
   "metadata": {},
   "outputs": [
    {
     "data": {
      "image/png": "[encoded data removed]",
      "text/plain": [
       "<Figure size 432x288 with 1 Axes>"
      ]
     },
     "metadata": {
      "needs_background": "light"
     },
     "output_type": "display_data"
    },
    {
     "data": {
      "image/png": "[encoded data removed]",
      "text/plain": [
       "<Figure size 432x288 with 1 Axes>"
      ]
     },
     "metadata": {
      "needs_background": "light"
     },
     "output_type": "display_data"
    },
    {
     "data": {
      "image/png": "[encoded data removed]",
      "text/plain": [
       "<Figure size 432x288 with 1 Axes>"
      ]
     },
     "metadata": {
      "needs_background": "light"
     },
     "output_type": "display_data"
    },
    {
     "data": {
      "image/png": "[encoded data removed]",
      "text/plain": [
       "<Figure size 432x288 with 1 Axes>"
      ]
     },
     "metadata": {
      "needs_background": "light"
     },
     "output_type": "display_data"
    },
    {
     "data": {
      "image/png": "[encoded data removed]",
      "text/plain": [
       "<Figure size 432x288 with 1 Axes>"
      ]
     },
     "metadata": {
      "needs_background": "light"
     },
     "output_type": "display_data"
    },
    {
     "data": {
      "image/png": "[encoded data removed]",
      "text/plain": [
       "<Figure size 432x288 with 1 Axes>"
      ]
     },
     "metadata": {
      "needs_background": "light"
     },
     "output_type": "display_data"
    }
   ],
   "source": [
    "img_idx = 18 #between 0 and 60000-1\n",
    "\n",
    "plt.imshow(mnist_train.data[img_idx])\n",
    "plt.title(\"Target image\")\n",
    "\n",
    "#find closest image\n",
    "top5 = torch.sort(ae_pairwise_cosine[img_idx], descending=True) #or use argsort\n",
    "top5_vals = top5.values[0:5]\n",
    "top5_idx = top5.indices[0:5]\n",
    "\n",
    "for i, idx in enumerate(top5_idx):\n",
    "    plt.figure()\n",
    "    plt.imshow(mnist_train.data[idx])\n",
    "    if i==0:\n",
    "        plt.title(\"Sanity check : same as input\")\n",
    "    else:\n",
    "        plt.title(f\"match {i} : cosine = {top5_vals[i]}\")"
   ]
  },
  {
   "cell_type": "markdown",
   "metadata": {},
   "source": [
    "While this is a simple dataset and a simple autoencoder, we already have some pretty good anecdotal similarity searches. There are many variations on autoencoders from switching layers to adding noise to the inputs (denoising autoencoders) to adding sparsity penalties to the hidden layer activations to encourage sparse activations to graphical models called variational autoencoders."
   ]
  },
  {
   "cell_type": "markdown",
   "metadata": {},
   "source": [
    "Delete activations and cosine distances to save memory"
   ]
  },
  {
   "cell_type": "code",
   "execution_count": 89,
   "metadata": {},
   "outputs": [],
   "source": [
    "mnist_ae_act = None\n",
    "mnist_ae_act_norm = None\n",
    "ae_pairwise_cosine = None"
   ]
  },
  {
   "cell_type": "markdown",
   "metadata": {},
   "source": [
    "# Conclusion\n",
    "\n",
    "By now, you have had quite some experience with writing your own neural networks and introspecting into what they are doing. We still haven't touched topics like recurrent neural networks, seq2seq models and more modern applications. They will get added to this notebook so if you are interested, please revisit the repo."
   ]
  },
  {
   "cell_type": "markdown",
   "metadata": {},
   "source": [
    "## Future Items\n",
    "\n",
    "Real problems  \n",
    "    \n",
    "    MNIST + autoencoder (convnet)\n",
    "    \n",
    "Trip Classification:\n",
    "    \n",
    "    Maybe?\n",
    "    \n",
    "RNN toy problems\n",
    "\n",
    "    Linear trend + noise\n",
    "    \n",
    "    Different data structuring strategies\n",
    "    \n",
    "    Quadratic trend + noise\n",
    "    \n",
    "    LSTM/GRUs for same problems\n",
    "    \n",
    "Seq2Seq examples\n",
    "    \n",
    "RNN Autoencoder\n",
    "\n",
    "    What data?"
   ]
  },
  {
   "cell_type": "markdown",
   "metadata": {},
   "source": [
    "### Recurrent Neural Networks (In progress)"
   ]
  },
  {
   "cell_type": "markdown",
   "metadata": {},
   "source": [
    "**Note**: You might have run into memory issues by now. Everything below is self contained so if you want to reset the notebook and start from the cell below, it should work."
   ]
  },
  {
   "cell_type": "code",
   "execution_count": null,
   "metadata": {},
   "outputs": [],
   "source": [
    "import torch\n",
    "import torch.nn as nn\n",
    "import torch.optim as optim\n",
    "\n",
    "import matplotlib.pylab as plt\n",
    "import pandas as pd\n",
    "import numpy as np\n",
    "\n",
    "from sklearn.neural_network import MLPClassifier, MLPRegressor\n",
    "\n",
    "import copy\n",
    "\n",
    "device = torch.device(\"cuda:0\" if torch.cuda.is_available() else \"cpu\")\n",
    "print(device)"
   ]
  },
  {
   "cell_type": "markdown",
   "metadata": {},
   "source": [
    "As before, let's generate some toy data."
   ]
  },
  {
   "cell_type": "code",
   "execution_count": null,
   "metadata": {},
   "outputs": [],
   "source": [
    "def generate_rnn_data(N_examples=1000, noise_var = 0.1, lag=1, seed=None):\n",
    "    if seed is not None:\n",
    "        np.random.seed(seed)\n",
    "\n",
    "    ts = 4 + 3*np.arange(N_examples) + np.random.normal(0, noise_var)        \n",
    "        \n",
    "    features = ts[0:len(ts)-lag]\n",
    "    target = ts[lag:]\n",
    "    \n",
    "    return features, target    "
   ]
  },
  {
   "cell_type": "code",
   "execution_count": null,
   "metadata": {},
   "outputs": [],
   "source": [
    "features, target = generate_rnn_data()"
   ]
  },
  {
   "cell_type": "markdown",
   "metadata": {},
   "source": [
    "This data is possibly the simplest time-series one could pick (apart from a constant value). It's a simple linear trend with a tiny bit of gaussian noise. Note that this is a **non-stationary** series!"
   ]
  },
  {
   "cell_type": "code",
   "execution_count": null,
   "metadata": {},
   "outputs": [],
   "source": [
    "plt.plot(features, 'p')"
   ]
  },
  {
   "cell_type": "markdown",
   "metadata": {},
   "source": [
    "We want to predict the series at time t+1 given the value at time t (and history).\n",
    "\n",
    "Of course, we could try using a feed-forward network for this. But instead, we'll use this to introduce recurrent neural networks.\n",
    "\n",
    "Recall that the simplest possible recurrent neural network has a hidden layer that evolves in time, $h_t$, inputs $x_t$ and outputs $y_t$.\n",
    "\n",
    "$$h_t = \\sigma(W_{hh} h_{t-1} + W_{hx} x_t + b_h)$$\n",
    "\n",
    "with outputs:\n",
    "\n",
    "$$y_t = W_{yh} h_t + b_y$$\n",
    "\n",
    "Since the output is an unbounded real value, we won't have an activation on the output.\n",
    "\n",
    "Let's write our simple RNN. This is not general - we don't have the flexibility of adding more layers (as discussed in the lecture), bidirectionality etc. but we are in experimental mode so it's okay. Eventually, you can use pytorch's in-built torch.nn.RNN class definition."
   ]
  },
  {
   "cell_type": "code",
   "execution_count": null,
   "metadata": {},
   "outputs": [],
   "source": [
    "N_input = 1 #will pass only one value as input\n",
    "N_output = 1 #will predict one value\n",
    "\n",
    "N_hidden = 32 #number of hidden dimensions to use\n",
    "\n",
    "hidden_activation = nn.ReLU()\n",
    "\n",
    "#define weights and biases\n",
    "w_hh = nn.Parameter(data = torch.Tensor(N_hidden, N_hidden), requires_grad = True)\n",
    "w_hx = nn.Parameter(data = torch.Tensor(N_hidden, N_input), requires_grad = True)\n",
    "w_yh = nn.Parameter(data = torch.Tensor(N_output, N_hidden), requires_grad = True)\n",
    "\n",
    "b_h = nn.Parameter(data = torch.Tensor(N_hidden, 1), requires_grad = True)\n",
    "b_y = nn.Parameter(data = torch.Tensor(N_output, 1), requires_grad = True)\n",
    "\n",
    "#initialize weights and biases (in-place)\n",
    "nn.init.kaiming_uniform_(w_hh)\n",
    "nn.init.kaiming_uniform_(w_hx)\n",
    "nn.init.kaiming_uniform_(w_yh)\n",
    "\n",
    "nn.init.zeros_(b_h)\n",
    "nn.init.zeros_(b_y)"
   ]
  },
  {
   "cell_type": "code",
   "execution_count": null,
   "metadata": {},
   "outputs": [],
   "source": [
    "hidden_act = hidden_activation(torch.mm(w_hx, torch.ones(N_input, 1)) + \\\n",
    "                               torch.mm(w_hh, torch.ones(N_hidden, 1)) + \\\n",
    "                               b_h)\n",
    "print(hidden_act.shape)"
   ]
  },
  {
   "cell_type": "code",
   "execution_count": null,
   "metadata": {},
   "outputs": [],
   "source": [
    "output = (torch.mm(w_yh, hidden_act) + b_y)\n",
    "print(output.shape)"
   ]
  },
  {
   "cell_type": "markdown",
   "metadata": {},
   "source": [
    "But the input we'll be passing will be a time-series"
   ]
  },
  {
   "cell_type": "code",
   "execution_count": null,
   "metadata": {},
   "outputs": [],
   "source": [
    "inp_ts = torch.Tensor([1,2,3]).unsqueeze(1).unsqueeze(2)\n",
    "print(inp_ts.shape)"
   ]
  },
  {
   "cell_type": "code",
   "execution_count": null,
   "metadata": {},
   "outputs": [],
   "source": [
    "inp_ts[0]"
   ]
  },
  {
   "cell_type": "code",
   "execution_count": null,
   "metadata": {},
   "outputs": [],
   "source": [
    "inp_ts[0].shape"
   ]
  },
  {
   "cell_type": "code",
   "execution_count": null,
   "metadata": {},
   "outputs": [],
   "source": [
    "hidden_act = torch.zeros(N_hidden, 1)\n",
    "\n",
    "#-----------first iter--------\n",
    "hidden_act = hidden_activation(torch.mm(w_hx, inp_ts[0]) + \\\n",
    "                               torch.mm(w_hh, hidden_act) + \\\n",
    "                               b_h)\n",
    "print(hidden_act.shape)\n",
    "\n",
    "output = (torch.mm(w_yh, hidden_act) + b_y)\n",
    "print(output)\n",
    "\n",
    "#-----------second iter--------\n",
    "hidden_act = hidden_activation(torch.mm(w_hx, inp_ts[1]) + \\\n",
    "                               torch.mm(w_hh, hidden_act) + \\\n",
    "                               b_h)\n",
    "print(hidden_act.shape)\n",
    "\n",
    "output = (torch.mm(w_yh, hidden_act) + b_y)\n",
    "print(output)\n",
    "\n",
    "#-----------third iter--------\n",
    "hidden_act = hidden_activation(torch.mm(w_hx, inp_ts[2]) + \\\n",
    "                               torch.mm(w_hh, hidden_act) + \\\n",
    "                               b_h)\n",
    "print(hidden_act.shape)\n",
    "\n",
    "output = (torch.mm(w_yh, hidden_act) + b_y)\n",
    "print(output)"
   ]
  },
  {
   "cell_type": "code",
   "execution_count": null,
   "metadata": {},
   "outputs": [],
   "source": [
    "hidden_act = torch.zeros(N_hidden, 1)\n",
    "\n",
    "for x in inp_ts: #input time-series \n",
    "    hidden_act = hidden_activation(torch.mm(w_hx, x) + \\\n",
    "                                   torch.mm(w_hh, hidden_act) + \\\n",
    "                                   b_h)\n",
    "    print(hidden_act.shape)\n",
    "\n",
    "    output = (torch.mm(w_yh, hidden_act) + b_y)\n",
    "    print(output)"
   ]
  },
  {
   "cell_type": "code",
   "execution_count": null,
   "metadata": {},
   "outputs": [],
   "source": [
    "class RNN(nn.Module):\n",
    "    def __init__(self, N_input, N_hidden, N_output, hidden_activation):\n",
    "        super(RNN, self).__init__()\n",
    "        \n",
    "        self.N_input = N_input\n",
    "        self.N_hidden = N_hidden\n",
    "        self.N_output = N_output\n",
    "        self.hidden_activation = hidden_activation\n",
    "        \n",
    "        #define weights and biases\n",
    "        self.w_hh = nn.Parameter(data = torch.Tensor(N_hidden, N_hidden), requires_grad = True)\n",
    "        self.w_hx = nn.Parameter(data = torch.Tensor(N_hidden, N_input), requires_grad = True)\n",
    "        self.w_yh = nn.Parameter(data = torch.Tensor(N_output, N_hidden), requires_grad = True)\n",
    "\n",
    "        self.b_h = nn.Parameter(data = torch.Tensor(N_hidden, 1), requires_grad = True)\n",
    "        self.b_y = nn.Parameter(data = torch.Tensor(N_output, 1), requires_grad = True)\n",
    "        \n",
    "        self.init_weights()\n",
    "        \n",
    "    def init_weights(self):\n",
    "        nn.init.kaiming_uniform_(self.w_hh)\n",
    "        nn.init.kaiming_uniform_(self.w_hx)\n",
    "        nn.init.kaiming_uniform_(self.w_yh)\n",
    "\n",
    "        nn.init.zeros_(self.b_h)\n",
    "        nn.init.zeros_(self.b_y)                        \n",
    "            \n",
    "    def forward(self, inp_ts, hidden_act=None):\n",
    "        if hidden_act is None:\n",
    "            #initialize to zero if hidden not passed\n",
    "            hidden_act = torch.zeros(self.N_hidden, 1)\n",
    "            \n",
    "\n",
    "        output_vals = torch.tensor([])\n",
    "        for x in inp_ts: #input time-series \n",
    "            hidden_act = self.hidden_activation(torch.mm(self.w_hx, x) + \\\n",
    "                                                torch.mm(self.w_hh, hidden_act) + \\\n",
    "                                                self.b_h)\n",
    "\n",
    "            output = (torch.mm(self.w_yh, hidden_act) + self.b_y)\n",
    "            output_vals = torch.cat((output_vals, output))\n",
    "            \n",
    "        return output_vals, hidden_act"
   ]
  },
  {
   "cell_type": "code",
   "execution_count": null,
   "metadata": {},
   "outputs": [],
   "source": [
    "rnn = RNN(N_input, N_hidden, N_output, hidden_activation)"
   ]
  },
  {
   "cell_type": "code",
   "execution_count": null,
   "metadata": {},
   "outputs": [],
   "source": [
    "output_vals, hidden_act = rnn(inp_ts)"
   ]
  },
  {
   "cell_type": "code",
   "execution_count": null,
   "metadata": {},
   "outputs": [],
   "source": [
    "print(output_vals)\n",
    "print(\"---------\")\n",
    "print(hidden_act)"
   ]
  },
  {
   "cell_type": "markdown",
   "metadata": {},
   "source": [
    "So far so good. Now how do we actually tune the weights? As before, we want to compute a loss between the predictions from the RNN and the labels. Once we have a loss, we can do the usual backpropagation and gradient descent.\n",
    "\n",
    "Recall that our \"features\" are:\n",
    "\n",
    "\n",
    "$$x_1, x_2, x_3\\ldots$$\n",
    "\n",
    "Our \"targets\" are:\n",
    "\n",
    "$$x_2, x_3, x_4 \\ldots$$\n",
    "\n",
    "if the lag argument in generate_rnn_data is 1. More generally, it would be:\n",
    "\n",
    "$$x_{1+\\text{lag}}, x_{2+\\text{lag}}, x_{3+\\text{lag}}, \\ldots$$\n",
    "\n",
    "Now, let's focus on the operational aspects for a second. In principle, you would first feed $x_1$ as an input, generate an **estimate** for $\\hat{x}_2$ as the output.\n",
    "\n",
    "Ideally, this would be close to the actual value $x_2$ but that doesn't have to be the case, especially when the weights haven't been tuned yet. Now, for the second step, we need to input $x_2$ to the RNN. The question is whether we should use $\\hat{x}_2$ or $x_2$.\n",
    "\n",
    "In real-life, one can imagine forecasting a time-series into the future given values till time t. In this case, we would have to feed our prediction at time t, $\\hat{x}_{t+1}$ as input at the next time-step since we don't know $x_{t+1}$.\n",
    "\n",
    "The problem with this approach is that errors start compounding really fast. While we might be a bit off at $t+1$, if our prediction $\\hat{x}_{t+1}$ is inaccurate, then our prediction $\\hat{x}_{t+2}$ will be even worse and so on.\n",
    "\n",
    "In our case, we'll use what's called **teacher forcing**. We'll always feed the actual known $x_t$ at time-step t instead of the prediction from the previous time-step, $\\hat{x}_t$."
   ]
  },
  {
   "cell_type": "markdown",
   "metadata": {},
   "source": [
    "**Question**: Split the features and target into train and test sets."
   ]
  },
  {
   "cell_type": "code",
   "execution_count": null,
   "metadata": {},
   "outputs": [],
   "source": [
    "N_examples = len(features)\n",
    "\n",
    "TRAIN_PERC = 0.70\n",
    "\n",
    "TRAIN_SPLIT = int(TRAIN_PERC * N_examples)\n",
    "\n",
    "features_train = features[:TRAIN_SPLIT]\n",
    "target_train = target[:TRAIN_SPLIT]\n",
    "\n",
    "features_test = features[TRAIN_SPLIT:]\n",
    "target_test = target[:TRAIN_SPLIT]"
   ]
  },
  {
   "cell_type": "code",
   "execution_count": null,
   "metadata": {},
   "outputs": [],
   "source": [
    "plt.plot(np.concatenate([features_train, features_test]))\n",
    "plt.plot(features_train, label='train')\n",
    "plt.plot(np.arange(len(features_train)+1, len(features)+1), features_test, label='test')\n",
    "plt.legend()"
   ]
  },
  {
   "cell_type": "code",
   "execution_count": null,
   "metadata": {},
   "outputs": [],
   "source": [
    "criterion = nn.MSELoss()\n",
    "\n",
    "optimizer = optim.Adam(rnn.parameters(), lr=1e-3)"
   ]
  },
  {
   "cell_type": "code",
   "execution_count": null,
   "metadata": {},
   "outputs": [],
   "source": [
    "N_input = 1 #will pass only one value as input\n",
    "N_output = 1 #will predict one value\n",
    "N_hidden = 32 #number of hidden dimensions to use\n",
    "\n",
    "hidden_activation = nn.ReLU()\n",
    "\n",
    "rnn = RNN(N_input, N_hidden, N_output, hidden_activation)"
   ]
  },
  {
   "cell_type": "code",
   "execution_count": null,
   "metadata": {},
   "outputs": [],
   "source": [
    "features_train = torch.tensor(features_train).unsqueeze(1).unsqueeze(2)\n",
    "target_train = torch.tensor(target_train).unsqueeze(1).unsqueeze(2)\n",
    "\n",
    "features_test = torch.tensor(features_test).unsqueeze(1).unsqueeze(2)\n",
    "target_test = torch.tensor(target_test).unsqueeze(1).unsqueeze(2)"
   ]
  },
  {
   "cell_type": "code",
   "execution_count": null,
   "metadata": {},
   "outputs": [],
   "source": [
    "output_vals, hidden_act = rnn(features_train.float())"
   ]
  },
  {
   "cell_type": "code",
   "execution_count": null,
   "metadata": {},
   "outputs": [],
   "source": [
    "print(len(output_vals))\n",
    "print(len(target_train))"
   ]
  },
  {
   "cell_type": "code",
   "execution_count": null,
   "metadata": {},
   "outputs": [],
   "source": [
    "loss = criterion(torch.tensor(output_vals).double(), target_train.squeeze(2).squeeze(1))"
   ]
  },
  {
   "cell_type": "code",
   "execution_count": null,
   "metadata": {},
   "outputs": [],
   "source": [
    "loss.requires_grad = True"
   ]
  },
  {
   "cell_type": "code",
   "execution_count": null,
   "metadata": {},
   "outputs": [],
   "source": [
    "print(loss)"
   ]
  },
  {
   "cell_type": "code",
   "execution_count": null,
   "metadata": {},
   "outputs": [],
   "source": [
    "optimizer.zero_grad()\n",
    "loss.backward()\n",
    "optimizer.step()"
   ]
  },
  {
   "cell_type": "markdown",
   "metadata": {},
   "source": [
    "We can now put all these ingredients together"
   ]
  },
  {
   "cell_type": "code",
   "execution_count": null,
   "metadata": {
    "scrolled": false
   },
   "outputs": [],
   "source": [
    "N_input = 1 #will pass only one value as input\n",
    "N_output = 1 #will predict one value\n",
    "N_hidden = 4 #number of hidden dimensions to use\n",
    "\n",
    "hidden_activation = nn.Tanh()\n",
    "\n",
    "rnn = RNN(N_input, N_hidden, N_output, hidden_activation)\n",
    "\n",
    "criterion = nn.MSELoss()\n",
    "\n",
    "optimizer = optim.Adam(rnn.parameters(), lr=1e-1)\n",
    "\n",
    "N_epochs = 10000\n",
    "\n",
    "hidden_act = None\n",
    "\n",
    "for n in range(N_epochs):\n",
    "    output_vals, hidden_act = rnn(features_train.float(), hidden_act = None)\n",
    "    \n",
    "    loss = criterion(output_vals, target_train.squeeze(1).float())\n",
    "    \n",
    "    #loss.requires_grad = True\n",
    "    \n",
    "    optimizer.zero_grad()\n",
    "    loss.backward()\n",
    "    optimizer.step()\n",
    "    \n",
    "    if n % 100 == 0:\n",
    "        print(rnn.w_yh.grad)\n",
    "        print(f'loss = {loss}')\n",
    "        print(output_vals.requires_grad)"
   ]
  },
  {
   "cell_type": "code",
   "execution_count": null,
   "metadata": {},
   "outputs": [],
   "source": [
    "output_vals.shape"
   ]
  },
  {
   "cell_type": "code",
   "execution_count": null,
   "metadata": {},
   "outputs": [],
   "source": [
    "criterion(output_vals, target_train.squeeze(1).float())"
   ]
  },
  {
   "cell_type": "code",
   "execution_count": null,
   "metadata": {},
   "outputs": [],
   "source": [
    "features_train[0:10]"
   ]
  },
  {
   "cell_type": "code",
   "execution_count": null,
   "metadata": {},
   "outputs": [],
   "source": [
    "plt.plot([i.item() for i in output_vals])\n",
    "plt.plot([i[0] for i in target_train.numpy()])"
   ]
  },
  {
   "cell_type": "code",
   "execution_count": null,
   "metadata": {},
   "outputs": [],
   "source": [
    "rnn.w_hh.grad"
   ]
  },
  {
   "cell_type": "code",
   "execution_count": null,
   "metadata": {},
   "outputs": [],
   "source": [
    "optimizer.zero_grad()\n",
    "loss.requires_grad = True\n",
    "loss.backward()\n",
    "optimizer.step()"
   ]
  },
  {
   "cell_type": "code",
   "execution_count": null,
   "metadata": {},
   "outputs": [],
   "source": [
    "rnn.w_hh"
   ]
  },
  {
   "cell_type": "code",
   "execution_count": null,
   "metadata": {},
   "outputs": [],
   "source": [
    "rnn.w_hx.grad"
   ]
  },
  {
   "cell_type": "code",
   "execution_count": null,
   "metadata": {},
   "outputs": [],
   "source": []
  }
 ],
 "metadata": {
  "kernelspec": {
   "display_name": "Python 3",
   "language": "python",
   "name": "python3"
  },
  "language_info": {
   "codemirror_mode": {
    "name": "ipython",
    "version": 3
   },
   "file_extension": ".py",
   "mimetype": "text/x-python",
   "name": "python",
   "nbconvert_exporter": "python",
   "pygments_lexer": "ipython3",
   "version": "3.7.6"
  }
 },
 "nbformat": 4,
 "nbformat_minor": 2
}
