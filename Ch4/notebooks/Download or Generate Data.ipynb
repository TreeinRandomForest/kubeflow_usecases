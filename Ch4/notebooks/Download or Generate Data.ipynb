{
 "cells": [
  {
   "cell_type": "code",
   "execution_count": 54,
   "metadata": {},
   "outputs": [
    {
     "name": "stdout",
     "output_type": "stream",
     "text": [
      "Requirement already satisfied: numpy in /opt/app-root/lib/python3.8/site-packages (1.20.3)\n",
      "\u001b[33mWARNING: You are using pip version 20.3.3; however, version 21.1.1 is available.\n",
      "You should consider upgrading via the '/opt/app-root/bin/python3.8 -m pip install --upgrade pip' command.\u001b[0m\n",
      "Requirement already satisfied: boto3 in /opt/app-root/lib/python3.8/site-packages (1.17.70)\n",
      "Requirement already satisfied: botocore<1.21.0,>=1.20.70 in /opt/app-root/lib/python3.8/site-packages (from boto3) (1.20.70)\n",
      "Requirement already satisfied: s3transfer<0.5.0,>=0.4.0 in /opt/app-root/lib/python3.8/site-packages (from boto3) (0.4.2)\n",
      "Requirement already satisfied: jmespath<1.0.0,>=0.7.1 in /opt/app-root/lib/python3.8/site-packages (from boto3) (0.10.0)\n",
      "Requirement already satisfied: urllib3<1.27,>=1.25.4 in /opt/app-root/lib/python3.8/site-packages (from botocore<1.21.0,>=1.20.70->boto3) (1.26.4)\n",
      "Requirement already satisfied: python-dateutil<3.0.0,>=2.1 in /opt/app-root/lib/python3.8/site-packages (from botocore<1.21.0,>=1.20.70->boto3) (2.8.1)\n",
      "Requirement already satisfied: six>=1.5 in /opt/app-root/lib/python3.8/site-packages (from python-dateutil<3.0.0,>=2.1->botocore<1.21.0,>=1.20.70->boto3) (1.15.0)\n",
      "\u001b[33mWARNING: You are using pip version 20.3.3; however, version 21.1.1 is available.\n",
      "You should consider upgrading via the '/opt/app-root/bin/python3.8 -m pip install --upgrade pip' command.\u001b[0m\n"
     ]
    }
   ],
   "source": [
    "!pip install numpy\n",
    "!pip install boto3\n",
    "import numpy as np\n",
    "import utils\n",
    "import boto3\n",
    "import pickle\n",
    "import os"
   ]
  },
  {
   "cell_type": "code",
   "execution_count": 50,
   "metadata": {},
   "outputs": [],
   "source": [
    "BASE_IMAGE = 'docker.io/pytorch/pytorch:1.0-cuda10.0-cudnn7-runtime'\n",
    "bucket_name = 'elyra'\n",
    "S3_END_POINT = \"http://minio-kubeflow.apps.cluster-3f07.3f07.sandbox333.opentlc.com\"\n",
    "S3_ACCESS_ID = \"minio\"\n",
    "S3_ACCESS_KEY = \"minio123\""
   ]
  },
  {
   "cell_type": "code",
   "execution_count": 51,
   "metadata": {},
   "outputs": [
    {
     "data": {
      "text/plain": [
       "{'ResponseMetadata': {'RequestId': '167E0F193D315A18',\n",
       "  'HostId': '',\n",
       "  'HTTPStatusCode': 200,\n",
       "  'HTTPHeaders': {'accept-ranges': 'bytes',\n",
       "   'content-length': '0',\n",
       "   'content-security-policy': 'block-all-mixed-content',\n",
       "   'location': '/elyra',\n",
       "   'server': 'MinIO/RELEASE.2019-08-14T20-37-41Z',\n",
       "   'vary': 'Origin',\n",
       "   'x-amz-request-id': '167E0F193D315A18',\n",
       "   'x-xss-protection': '1; mode=block',\n",
       "   'date': 'Tue, 11 May 2021 16:11:56 GMT',\n",
       "   'set-cookie': 'c58b009a839de7a40fe40da5a53579fe=95ae0beae9ab3237ee669bd58d5e3350; path=/; HttpOnly'},\n",
       "  'RetryAttempts': 0},\n",
       " 'Location': '/elyra'}"
      ]
     },
     "execution_count": 51,
     "metadata": {},
     "output_type": "execute_result"
    }
   ],
   "source": [
    "s3_endpoint_url = 'http://minio-kubeflow.apps.cluster-3f07.3f07.sandbox333.opentlc.com'\n",
    "s3_access_key = \"minio\"\n",
    "s3_secret_key = \"minio123\"\n",
    "\n",
    "s3 = boto3.client(service_name='s3',\n",
    "              \taws_access_key_id = s3_access_key,\n",
    "              \taws_secret_access_key = s3_secret_key,\n",
    "              \tendpoint_url=s3_endpoint_url)\n",
    "\n",
    "s3.list_buckets()['Buckets']\n",
    "s3.create_bucket(Bucket=bucket_name)\n"
   ]
  },
  {
   "cell_type": "code",
   "execution_count": 52,
   "metadata": {},
   "outputs": [],
   "source": [
    "def write_to_store(bucket, data, key):\n",
    "    s3.put_object(Body=pickle.dumps(data),\n",
    "                      Bucket=bucket,\n",
    "                      Key=key)\n",
    "    \n",
    "def download_data() -> int:\n",
    "    '''Download and store data in persistent storage\n",
    "    '''\n",
    "\n",
    "    def generate_binary_data(N_examples=1000, seed=None):\n",
    "    #Generate N_examples points with two features each\n",
    "    #\n",
    "    #Args:\n",
    "    #    seed: seed that should be fixed if want to generate same points again    \n",
    "    #Returns:\n",
    "    #    features: A 2-dimensional numpy array with one row per example and one column per feature\n",
    "    #    target: A 1-dimensional numpy array with one row per example denoting the class - 0 or 1\n",
    "\n",
    "        if seed is not None:\n",
    "            np.random.seed(seed)\n",
    "\n",
    "        features = []\n",
    "        target = []\n",
    "\n",
    "        for i in range(N_examples):\n",
    "            #class = 0\n",
    "            r = np.random.uniform() #class 0 has radius between 0 and 1\n",
    "            theta = np.random.uniform(0, 2*np.pi) #class 0 has any angle between 0 and 360 degrees\n",
    "\n",
    "            features.append([r*np.cos(theta), r*np.sin(theta)])\n",
    "            target.append(0)\n",
    "\n",
    "            #class = 1\n",
    "            r = 3 + np.random.uniform() #class 1 has radius between 3+0=3 and 3+1=4\n",
    "            theta = np.random.uniform(0, 2*np.pi) #class 1 has any angle between 0 and 360 degrees\n",
    "\n",
    "            features.append([r*np.cos(theta), r*np.sin(theta)])\n",
    "            target.append(1)\n",
    "\n",
    "        features = np.array(features)\n",
    "        target = np.array(target)\n",
    "\n",
    "        return features, target\n",
    "\n",
    "    features_train, target_train = generate_binary_data(N_examples=1000, seed=100)\n",
    "    features_test, target_test = generate_binary_data(N_examples=500, seed=105)\n",
    "    print(\"Writing features\")\n",
    "    write_to_store(bucket_name, features_train, 'features_train')\n",
    "    write_to_store(bucket_name, target_train, 'target_train')\n",
    "    write_to_store(bucket_name, features_test, 'features_test')\n",
    "    write_to_store(bucket_name, target_test, 'target_test')\n",
    "    print(\"Upload Files Complete\")\n",
    "\n",
    "    return 0"
   ]
  },
  {
   "cell_type": "code",
   "execution_count": 53,
   "metadata": {},
   "outputs": [
    {
     "name": "stdout",
     "output_type": "stream",
     "text": [
      "Writing features\n"
     ]
    }
   ],
   "source": [
    "retcode = download_data()\n",
    "if retcode > 0: raise ValueError(\"Step 1a failed\")"
   ]
  },
  {
   "cell_type": "code",
   "execution_count": null,
   "metadata": {},
   "outputs": [],
   "source": []
  }
 ],
 "metadata": {
  "kernelspec": {
   "display_name": "Python 3",
   "language": "python",
   "name": "python3"
  },
  "language_info": {
   "codemirror_mode": {
    "name": "ipython",
    "version": 3
   },
   "file_extension": ".py",
   "mimetype": "text/x-python",
   "name": "python",
   "nbconvert_exporter": "python",
   "pygments_lexer": "ipython3",
   "version": "3.8.3"
  }
 },
 "nbformat": 4,
 "nbformat_minor": 4
}
