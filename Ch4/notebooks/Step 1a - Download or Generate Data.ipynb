{
 "cells": [
  {
   "cell_type": "code",
   "execution_count": 1,
   "metadata": {},
   "outputs": [],
   "source": [
    "import numpy as np\n",
    "import utils\n",
    "import config"
   ]
  },
  {
   "cell_type": "code",
   "execution_count": 2,
   "metadata": {},
   "outputs": [],
   "source": [
    "BASE_IMAGE = config.BASE_IMAGE\n",
    "S3_END_POINT = config.S3_END_POINT\n",
    "S3_ACCESS_ID = config.S3_ACCESS_ID\n",
    "S3_ACCESS_KEY = config.S3_ACCESS_KEY\n",
    "bucket_name = config.BUCKET_NAME"
   ]
  },
  {
   "cell_type": "code",
   "execution_count": 3,
   "metadata": {},
   "outputs": [],
   "source": [
    "get_client = utils.get_client\n",
    "create_bucket = utils.create_bucket\n",
    "read_from_store = utils.read_from_store\n",
    "write_to_store = utils.write_to_store"
   ]
  },
  {
   "cell_type": "code",
   "execution_count": 5,
   "metadata": {},
   "outputs": [],
   "source": [
    "def download_data() -> int:\n",
    "    '''Download and store data in persistent storage\n",
    "    '''\n",
    "\n",
    "    client = get_client()\n",
    "\n",
    "    def generate_binary_data(N_examples=1000, seed=None):\n",
    "    #Generate N_examples points with two features each\n",
    "    #\n",
    "    #Args:\n",
    "    #    seed: seed that should be fixed if want to generate same points again    \n",
    "    #Returns:\n",
    "    #    features: A 2-dimensional numpy array with one row per example and one column per feature\n",
    "    #    target: A 1-dimensional numpy array with one row per example denoting the class - 0 or 1\n",
    "\n",
    "        if seed is not None:\n",
    "            np.random.seed(seed)\n",
    "\n",
    "        features = []\n",
    "        target = []\n",
    "\n",
    "        for i in range(N_examples):\n",
    "            #class = 0\n",
    "            r = np.random.uniform() #class 0 has radius between 0 and 1\n",
    "            theta = np.random.uniform(0, 2*np.pi) #class 0 has any angle between 0 and 360 degrees\n",
    "\n",
    "            features.append([r*np.cos(theta), r*np.sin(theta)])\n",
    "            target.append(0)\n",
    "\n",
    "            #class = 1\n",
    "            r = 3 + np.random.uniform() #class 1 has radius between 3+0=3 and 3+1=4\n",
    "            theta = np.random.uniform(0, 2*np.pi) #class 1 has any angle between 0 and 360 degrees\n",
    "\n",
    "            features.append([r*np.cos(theta), r*np.sin(theta)])\n",
    "            target.append(1)\n",
    "\n",
    "        features = np.array(features)\n",
    "        target = np.array(target)\n",
    "\n",
    "        return features, target\n",
    "\n",
    "    features_train, target_train = generate_binary_data(N_examples=1000, seed=100)\n",
    "    features_test, target_test = generate_binary_data(N_examples=500, seed=105)\n",
    "\n",
    "    create_bucket(bucket_name, client)\n",
    "    write_to_store(bucket_name, features_train, 'features_train', client)\n",
    "    write_to_store(bucket_name, target_train, 'target_train', client)\n",
    "    write_to_store(bucket_name, features_test, 'features_test', client)\n",
    "    write_to_store(bucket_name, target_test, 'target_test', client)\n",
    "\n",
    "    return 0"
   ]
  },
  {
   "cell_type": "code",
   "execution_count": 6,
   "metadata": {},
   "outputs": [],
   "source": [
    "retcode = download_data()\n",
    "if retcode > 0: raise ValueError(\"Step 1a failed\")"
   ]
  },
  {
   "cell_type": "code",
   "execution_count": null,
   "metadata": {},
   "outputs": [],
   "source": []
  }
 ],
 "metadata": {
  "kernelspec": {
   "display_name": "Python 3",
   "language": "python",
   "name": "python3"
  },
  "language_info": {
   "codemirror_mode": {
    "name": "ipython",
    "version": 3
   },
   "file_extension": ".py",
   "mimetype": "text/x-python",
   "name": "python",
   "nbconvert_exporter": "python",
   "pygments_lexer": "ipython3",
   "version": "3.8.5"
  }
 },
 "nbformat": 4,
 "nbformat_minor": 4
}
