{
 "cells": [
  {
   "cell_type": "code",
   "execution_count": 1,
   "metadata": {},
   "outputs": [],
   "source": [
    "import numpy as np\n",
    "import utils\n",
    "import config"
   ]
  },
  {
   "cell_type": "code",
   "execution_count": 2,
   "metadata": {},
   "outputs": [],
   "source": [
    "BASE_IMAGE = config.BASE_IMAGE\n",
    "S3_END_POINT = config.S3_END_POINT\n",
    "S3_ACCESS_ID = config.S3_ACCESS_ID\n",
    "S3_ACCESS_KEY = config.S3_ACCESS_KEY\n",
    "bucket_name = config.BUCKET_NAME"
   ]
  },
  {
   "cell_type": "code",
   "execution_count": 3,
   "metadata": {},
   "outputs": [],
   "source": [
    "get_client = utils.get_client\n",
    "create_bucket = utils.create_bucket\n",
    "read_from_store = utils.read_from_store\n",
    "write_to_store = utils.write_to_store"
   ]
  },
  {
   "cell_type": "code",
   "execution_count": 4,
   "metadata": {},
   "outputs": [],
   "source": [
    "def gen_hyperparam_grid() -> int:\n",
    "    '''Generate a list of namedtuples\n",
    "    of hyperparams to evaluate\n",
    "    '''\n",
    "\n",
    "    client = get_client()\n",
    "\n",
    "    grid = []\n",
    "    for num_hidden_layers in [1,2,3]:\n",
    "        for num_nodes in [1,2,3]:\n",
    "            for activation in ['relu', 'sigmoid']:\n",
    "                grid.append({'num_hidden_layers': num_hidden_layers,\n",
    "                             'num_nodes': num_nodes,\n",
    "                             'activation': activation\n",
    "                            })\n",
    "\n",
    "\n",
    "    write_to_store(bucket_name, grid, 'hyperparam_grid', client)\n",
    "\n",
    "    return len(grid)"
   ]
  },
  {
   "cell_type": "code",
   "execution_count": 5,
   "metadata": {},
   "outputs": [],
   "source": [
    "retcode = gen_hyperparam_grid()\n",
    "if retcode <= 0: raise ValueError(\"Step 1b failed\")"
   ]
  }
 ],
 "metadata": {
  "kernelspec": {
   "display_name": "Python 3",
   "language": "python",
   "name": "python3"
  },
  "language_info": {
   "codemirror_mode": {
    "name": "ipython",
    "version": 3
   },
   "file_extension": ".py",
   "mimetype": "text/x-python",
   "name": "python",
   "nbconvert_exporter": "python",
   "pygments_lexer": "ipython3",
   "version": "3.8.5"
  }
 },
 "nbformat": 4,
 "nbformat_minor": 4
}
