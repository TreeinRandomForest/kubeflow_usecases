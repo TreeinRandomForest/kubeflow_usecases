{
 "cells": [
  {
   "cell_type": "code",
   "execution_count": 1,
   "metadata": {},
   "outputs": [],
   "source": [
    "import numpy as np\n",
    "import utils\n",
    "import config"
   ]
  },
  {
   "cell_type": "code",
   "execution_count": 2,
   "metadata": {},
   "outputs": [],
   "source": [
    "BASE_IMAGE = config.BASE_IMAGE\n",
    "S3_END_POINT = config.S3_END_POINT\n",
    "S3_ACCESS_ID = config.S3_ACCESS_ID\n",
    "S3_ACCESS_KEY = config.S3_ACCESS_KEY\n",
    "bucket_name = config.BUCKET_NAME"
   ]
  },
  {
   "cell_type": "code",
   "execution_count": 3,
   "metadata": {},
   "outputs": [],
   "source": [
    "get_client = utils.get_client\n",
    "create_bucket = utils.create_bucket\n",
    "read_from_store = utils.read_from_store\n",
    "write_to_store = utils.write_to_store"
   ]
  },
  {
   "cell_type": "code",
   "execution_count": 4,
   "metadata": {},
   "outputs": [],
   "source": [
    "def find_best(N_experiments: int):\n",
    "    '''Return idx corresponding\n",
    "    to best model\n",
    "    '''\n",
    "    client = get_client()\n",
    "\n",
    "    results = []\n",
    "    for i in range(N_experiments):\n",
    "        results.append(read_from_store(bucket_name, f'score_{i}', client))\n",
    "\n",
    "    print(results)\n",
    "    max_idx = np.argmax([i['test_loss'] for i in results])\n",
    "    print(f'Best idx: {max_idx}')"
   ]
  }
 ],
 "metadata": {
  "kernelspec": {
   "display_name": "Python 3",
   "language": "python",
   "name": "python3"
  },
  "language_info": {
   "codemirror_mode": {
    "name": "ipython",
    "version": 3
   },
   "file_extension": ".py",
   "mimetype": "text/x-python",
   "name": "python",
   "nbconvert_exporter": "python",
   "pygments_lexer": "ipython3",
   "version": "3.8.5"
  }
 },
 "nbformat": 4,
 "nbformat_minor": 4
}
