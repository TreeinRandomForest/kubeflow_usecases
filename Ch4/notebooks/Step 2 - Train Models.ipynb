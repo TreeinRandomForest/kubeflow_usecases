{
 "cells": [
  {
   "cell_type": "code",
   "execution_count": 1,
   "metadata": {},
   "outputs": [],
   "source": [
    "import numpy as np\n",
    "import utils\n",
    "import config\n",
    "\n",
    "import torch\n",
    "import torch.nn as nn\n",
    "import torch.optim as optim"
   ]
  },
  {
   "cell_type": "code",
   "execution_count": 2,
   "metadata": {},
   "outputs": [],
   "source": [
    "BASE_IMAGE = config.BASE_IMAGE\n",
    "S3_END_POINT = config.S3_END_POINT\n",
    "S3_ACCESS_ID = config.S3_ACCESS_ID\n",
    "S3_ACCESS_KEY = config.S3_ACCESS_KEY\n",
    "bucket_name = config.BUCKET_NAME"
   ]
  },
  {
   "cell_type": "code",
   "execution_count": 3,
   "metadata": {},
   "outputs": [],
   "source": [
    "get_client = utils.get_client\n",
    "create_bucket = utils.create_bucket\n",
    "read_from_store = utils.read_from_store\n",
    "write_to_store = utils.write_to_store"
   ]
  },
  {
   "cell_type": "code",
   "execution_count": 7,
   "metadata": {},
   "outputs": [],
   "source": [
    "class Net(nn.Module):\n",
    "    def __init__(self, n_inputs=2, n_outputs=1, n_hidden_nodes=10, n_hidden_layers=1, activation=nn.ReLU(), output_activation=None):\n",
    "        super(Net, self).__init__()\n",
    "\n",
    "        self.layer_list = nn.ModuleList()\n",
    "\n",
    "        for i in range(n_hidden_layers):\n",
    "            if i==0:\n",
    "                self.layer_list.append(nn.Linear(n_inputs, n_hidden_nodes))\n",
    "            else:\n",
    "                self.layer_list.append(nn.Linear(n_hidden_nodes, n_hidden_nodes))\n",
    "        \n",
    "        self.output_layer = nn.Linear(n_hidden_nodes, n_outputs)\n",
    "\n",
    "        self.activation = activation\n",
    "        self.output_activation = output_activation\n",
    "\n",
    "    def forward(self, x):\n",
    "        out = x\n",
    "\n",
    "        for layer in self.layer_list:\n",
    "            out = self.activation(layer(out))\n",
    "\n",
    "        out = self.output_layer(out)\n",
    "        if self.output_activation is not None:\n",
    "            out = self.output_activation(out)\n",
    "\n",
    "        return out"
   ]
  },
  {
   "cell_type": "code",
   "execution_count": 4,
   "metadata": {},
   "outputs": [],
   "source": [
    "def train_model(hyperparam_idx: int, retcode_download: int, N_gridsize: int) -> int:\n",
    "    '''Look up hyperparams from store\n",
    "    and train model\n",
    "    '''\n",
    "\n",
    "    if hyperparam_idx >= N_gridsize:\n",
    "        raise ValueError(\"hyperparam_idx cannot be >= N_gridsize\")\n",
    "\n",
    "    device = torch.device(\"cuda:0\" if torch.cuda.is_available() else \"cpu\")\n",
    "    print(f'Device = {device}')\n",
    "\n",
    "    client = get_client()\n",
    "\n",
    "    features_train = torch.from_numpy(read_from_store(bucket_name, 'features_train', client)).float()\n",
    "    target_train = torch.from_numpy(read_from_store(bucket_name, 'target_train', client)).float()\n",
    "    features_test = torch.from_numpy(read_from_store(bucket_name, 'features_test', client)).float()\n",
    "    target_test = torch.from_numpy(read_from_store(bucket_name, 'target_test', client)).float()\n",
    "\n",
    "    conf = read_from_store(bucket_name, 'hyperparam_grid', client)[hyperparam_idx]\n",
    "    lr = float(conf.get('lr', 1e-2))\n",
    "    N_epochs = int(conf.get('N_epochs', 1000))\n",
    "    num_hidden_layers = int(conf.get('num_hidden_layers', 1))\n",
    "    num_nodes = int(conf.get('num_nodes', 2))\n",
    "    activation = conf.get('activation', 'relu')\n",
    "\n",
    "    #should be dependent on vars read from config\n",
    "    if activation=='relu':\n",
    "        activation = nn.ReLU()\n",
    "    elif activation=='sigmoid':\n",
    "        activation = nn.Sigmoid()\n",
    "\n",
    "    model = Net(n_inputs=2, n_outputs=1, n_hidden_nodes=num_nodes, n_hidden_layers=num_hidden_layers, activation=activation, output_activation=nn.Sigmoid())\n",
    "    #model = nn.Sequential(nn.Linear(2, 10), nn.ReLU(), nn.Linear(10, 1), nn.Sigmoid())\n",
    "    \n",
    "    criterion = nn.BCELoss()\n",
    "    optimizer = torch.optim.Adam(model.parameters(), lr=lr) #Adam optimizer\n",
    "    model.train()    \n",
    "\n",
    "    if device!='cpu':\n",
    "        model = model.to(device)\n",
    "        features_train = features_train.to(device)\n",
    "        target_train = target_train.to(device)\n",
    "\n",
    "    for epoch in range(N_epochs): #N_epochs = number of iterations over the full dataset\n",
    "        features_shuffled = features_train\n",
    "        target_shuffled = target_train\n",
    "\n",
    "        out = model(features_shuffled) #predictions from model\n",
    "        loss = criterion(out.squeeze(), target_shuffled.squeeze()) #loss between predictions and labels\n",
    "\n",
    "        if epoch % 1000 == 0:\n",
    "            print(f'epoch = {epoch} loss = {loss}')\n",
    "\n",
    "        optimizer.zero_grad()\n",
    "        loss.backward() #compute gradients\n",
    "        optimizer.step() #update model\n",
    "\n",
    "    out = model(features_shuffled) #predictions from model\n",
    "    train_loss = criterion(out.squeeze(), target_shuffled.squeeze()) #loss between predictions and labels\n",
    "    print(f'Train Loss : {train_loss}')\n",
    "\n",
    "    def evaluate_model(model, features_test, target_test):\n",
    "        '''Evaluate model on test set\n",
    "        and store result\n",
    "        '''\n",
    "        model.eval()\n",
    "\n",
    "        if device!='cpu':\n",
    "            features_test = features_test.to(device)\n",
    "            target_test = target_test.to(device)\n",
    "\n",
    "        out = model(features_test)\n",
    "        loss = criterion(out.squeeze(), target_test.squeeze())\n",
    "        \n",
    "\n",
    "        return loss\n",
    "\n",
    "    test_loss = evaluate_model(model, features_test, target_test)\n",
    "    print(f'Test  Loss : {test_loss}')\n",
    "\n",
    "    #write_to_store(bucket_name, {'test_loss': test_loss.item(), 'model': model}, f'score_{hyperparam_idx}', client)\n",
    "    write_to_store(bucket_name, {'test_loss': test_loss.item()}, f'score_{hyperparam_idx}', client)\n",
    "\n",
    "    return hyperparam_idx\n"
   ]
  },
  {
   "cell_type": "code",
   "execution_count": 8,
   "metadata": {},
   "outputs": [
    {
     "name": "stdout",
     "output_type": "stream",
     "text": [
      "Device = cuda:0\n",
      "epoch = 0 loss = 0.6913952827453613\n",
      "Train Loss : 0.5236560702323914\n",
      "Test  Loss : 0.5384036898612976\n"
     ]
    }
   ],
   "source": [
    "retcode_download = 0\n",
    "N_gridsize = 18\n",
    "hyperparam_idx = 0 #this should be a notebook parameter\n",
    "\n",
    "retcode = train_model(hyperparam_idx, retcode_download, N_gridsize)"
   ]
  }
 ],
 "metadata": {
  "kernelspec": {
   "display_name": "Python 3",
   "language": "python",
   "name": "python3"
  },
  "language_info": {
   "codemirror_mode": {
    "name": "ipython",
    "version": 3
   },
   "file_extension": ".py",
   "mimetype": "text/x-python",
   "name": "python",
   "nbconvert_exporter": "python",
   "pygments_lexer": "ipython3",
   "version": "3.8.5"
  }
 },
 "nbformat": 4,
 "nbformat_minor": 4
}
