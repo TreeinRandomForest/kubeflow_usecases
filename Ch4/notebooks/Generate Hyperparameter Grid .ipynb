{
 "cells": [
  {
   "cell_type": "code",
   "execution_count": 12,
   "metadata": {},
   "outputs": [
    {
     "name": "stdout",
     "output_type": "stream",
     "text": [
      "Requirement already satisfied: numpy in /opt/app-root/lib/python3.8/site-packages (1.20.3)\n",
      "\u001b[33mWARNING: You are using pip version 20.3.3; however, version 21.1.1 is available.\n",
      "You should consider upgrading via the '/opt/app-root/bin/python3.8 -m pip install --upgrade pip' command.\u001b[0m\n",
      "Requirement already satisfied: boto3 in /opt/app-root/lib/python3.8/site-packages (1.17.70)\n",
      "Requirement already satisfied: s3transfer<0.5.0,>=0.4.0 in /opt/app-root/lib/python3.8/site-packages (from boto3) (0.4.2)\n",
      "Requirement already satisfied: botocore<1.21.0,>=1.20.70 in /opt/app-root/lib/python3.8/site-packages (from boto3) (1.20.70)\n",
      "Requirement already satisfied: jmespath<1.0.0,>=0.7.1 in /opt/app-root/lib/python3.8/site-packages (from boto3) (0.10.0)\n",
      "Requirement already satisfied: urllib3<1.27,>=1.25.4 in /opt/app-root/lib/python3.8/site-packages (from botocore<1.21.0,>=1.20.70->boto3) (1.26.4)\n",
      "Requirement already satisfied: python-dateutil<3.0.0,>=2.1 in /opt/app-root/lib/python3.8/site-packages (from botocore<1.21.0,>=1.20.70->boto3) (2.8.1)\n",
      "Requirement already satisfied: six>=1.5 in /opt/app-root/lib/python3.8/site-packages (from python-dateutil<3.0.0,>=2.1->botocore<1.21.0,>=1.20.70->boto3) (1.15.0)\n",
      "\u001b[33mWARNING: You are using pip version 20.3.3; however, version 21.1.1 is available.\n",
      "You should consider upgrading via the '/opt/app-root/bin/python3.8 -m pip install --upgrade pip' command.\u001b[0m\n"
     ]
    }
   ],
   "source": [
    "!pip install numpy\n",
    "!pip install boto3\n",
    "import numpy as np\n",
    "import utils\n",
    "import boto3\n",
    "import pickle"
   ]
  },
  {
   "cell_type": "code",
   "execution_count": 13,
   "metadata": {},
   "outputs": [],
   "source": [
    "import os\n",
    "\n",
    "BASE_IMAGE = 'docker.io/pytorch/pytorch:1.0-cuda10.0-cudnn7-runtime'\n",
    "bucket_name = 'elyra'\n",
    "S3_END_POINT = \"http://minio-kubeflow.apps.cluster-3f07.3f07.sandbox333.opentlc.com\"\n",
    "S3_ACCESS_ID = \"minio\"\n",
    "S3_ACCESS_KEY = \"minio123\""
   ]
  },
  {
   "cell_type": "code",
   "execution_count": 14,
   "metadata": {},
   "outputs": [
    {
     "data": {
      "text/plain": [
       "[{'Name': 'elyra',\n",
       "  'CreationDate': datetime.datetime(2021, 5, 11, 16, 15, 17, 5000, tzinfo=tzlocal())},\n",
       " {'Name': 'mlpipeline',\n",
       "  'CreationDate': datetime.datetime(2021, 5, 11, 13, 48, 5, 478000, tzinfo=tzlocal())}]"
      ]
     },
     "execution_count": 14,
     "metadata": {},
     "output_type": "execute_result"
    }
   ],
   "source": [
    "s3_endpoint_url = 'http://minio-kubeflow.apps.cluster-3f07.3f07.sandbox333.opentlc.com'\n",
    "s3_access_key = \"minio\"\n",
    "s3_secret_key = \"minio123\"\n",
    "\n",
    "s3 = boto3.client(service_name='s3',\n",
    "              \taws_access_key_id = s3_access_key,\n",
    "              \taws_secret_access_key = s3_secret_key,\n",
    "              \tendpoint_url=s3_endpoint_url)\n",
    "\n",
    "s3.list_buckets()['Buckets']"
   ]
  },
  {
   "cell_type": "code",
   "execution_count": 15,
   "metadata": {},
   "outputs": [],
   "source": [
    "def write_to_store(bucket, data, key):\n",
    "    s3.put_object(Body=pickle.dumps(data),\n",
    "                      Bucket=bucket,\n",
    "                      Key=key)\n",
    "    \n",
    "def gen_hyperparam_grid() -> int:\n",
    "    '''Generate a list of namedtuples\n",
    "    of hyperparams to evaluate\n",
    "    '''\n",
    "\n",
    "    grid = []\n",
    "    for num_hidden_layers in [1,2,3]:\n",
    "        for num_nodes in [1,2,3]:\n",
    "            for activation in ['relu', 'sigmoid']:\n",
    "                grid.append({'num_hidden_layers': num_hidden_layers,\n",
    "                             'num_nodes': num_nodes,\n",
    "                             'activation': activation\n",
    "                            })\n",
    "\n",
    "\n",
    "    write_to_store(bucket_name, grid, 'hyperparam_grid')\n",
    "\n",
    "    return len(grid)"
   ]
  },
  {
   "cell_type": "code",
   "execution_count": 16,
   "metadata": {},
   "outputs": [],
   "source": [
    "retcode = gen_hyperparam_grid()\n",
    "if retcode <= 0: raise ValueError(\"Step 1b failed\")"
   ]
  },
  {
   "cell_type": "code",
   "execution_count": null,
   "metadata": {},
   "outputs": [],
   "source": []
  }
 ],
 "metadata": {
  "kernelspec": {
   "display_name": "Python 3",
   "language": "python",
   "name": "python3"
  },
  "language_info": {
   "codemirror_mode": {
    "name": "ipython",
    "version": 3
   },
   "file_extension": ".py",
   "mimetype": "text/x-python",
   "name": "python",
   "nbconvert_exporter": "python",
   "pygments_lexer": "ipython3",
   "version": "3.8.3"
  }
 },
 "nbformat": 4,
 "nbformat_minor": 4
}
